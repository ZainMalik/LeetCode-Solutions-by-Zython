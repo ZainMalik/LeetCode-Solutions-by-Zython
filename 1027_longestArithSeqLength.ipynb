{
 "cells": [
  {
   "cell_type": "code",
   "execution_count": null,
   "id": "6d4e3482",
   "metadata": {
    "lines_to_next_cell": 1
   },
   "outputs": [],
   "source": [
    "'''\n",
    "Given an array A of integers, return the length of the longest arithmetic subsequence in A.\n",
    "\n",
    "Recall that a subsequence of A is a list A[i_1], A[i_2], ..., A[i_k] with 0 <= i_1 < i_2 < ... < i_k <= A.length - 1, and that a sequence B is arithmetic if B[i+1] - B[i] are all the same value (for 0 <= i < B.length - 1).\n",
    "\n",
    " \n",
    "\n",
    "Example 1:\n",
    "\n",
    "Input: [3,6,9,12]\n",
    "Output: 4\n",
    "Explanation: \n",
    "The whole array is an arithmetic sequence with steps of length = 3.\n",
    "Example 2:\n",
    "\n",
    "Input: [9,4,7,2,10]\n",
    "Output: 3\n",
    "Explanation: \n",
    "The longest arithmetic subsequence is [4,7,10].\n",
    "'''"
   ]
  },
  {
   "cell_type": "code",
   "execution_count": null,
   "id": "0444a0cc",
   "metadata": {},
   "outputs": [],
   "source": [
    "class Solution(object):\n",
    "    def longestArithSeqLength(self, A):\n",
    "        \"\"\"\n",
    "        :type A: List[int]\n",
    "        :rtype: int\n",
    "        \"\"\"\n",
    "        from collections import defaultdict\n",
    "\n",
    "        dp = defaultdict(int)\n",
    "        # print dp\n",
    "        for index_i in range(len(A)):\n",
    "            for index_j in range(index_i):\n",
    "                diff = A[index_i] - A[index_j]\n",
    "                dp[(index_i, diff)] = max(dp[(index_i, diff)], dp[(index_j, diff)]+1)\n",
    "                # print dp\n",
    "        return max(dp.itervalues())+1"
   ]
  }
 ],
 "metadata": {
  "jupytext": {
   "cell_metadata_filter": "-all",
   "main_language": "python",
   "notebook_metadata_filter": "-all"
  }
 },
 "nbformat": 4,
 "nbformat_minor": 5
}
