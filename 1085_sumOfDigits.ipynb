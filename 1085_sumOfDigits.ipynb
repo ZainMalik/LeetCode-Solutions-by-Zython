{
 "cells": [
  {
   "cell_type": "code",
   "execution_count": null,
   "id": "201dc53e",
   "metadata": {},
   "outputs": [],
   "source": [
    "'''\n",
    "Given an array A of positive integers, let S be the sum of the digits of the minimal element of A.\n",
    "\n",
    "Return 0 if S is odd, otherwise return 1.\n",
    "\n",
    " \n",
    "\n",
    "Example 1:\n",
    "\n",
    "Input: [34,23,1,24,75,33,54,8]\n",
    "Output: 0\n",
    "Explanation: \n",
    "The minimal element is 1, and the sum of those digits is S = 1 which is odd, so the answer is 0.\n",
    "Example 2:\n",
    "\n",
    "Input: [99,77,33,66,55]\n",
    "Output: 1\n",
    "Explanation: \n",
    "The minimal element is 33, and the sum of those digits is S = 3 + 3 = 6 which is even, so the answer is 1.\n",
    " \n",
    "\n",
    "Note:\n",
    "\n",
    "1 <= A.length <= 100\n",
    "1 <= A[i].length <= 100\n",
    "'''\n",
    "class Solution(object):\n",
    "    def sumOfDigits(self, A):\n",
    "        \"\"\"\n",
    "        :type A: List[int]\n",
    "        :rtype: int\n",
    "        \"\"\"\n",
    "        if not A:\n",
    "            return 0\n",
    "        \n",
    "        mini = min(A)\n",
    "        result = 0\n",
    "        while mini > 0:\n",
    "            quo = mini%10\n",
    "            rem = mini/10\n",
    "            result += quo\n",
    "            mini = rem\n",
    "            \n",
    "        return 0 if result%2 else 1"
   ]
  }
 ],
 "metadata": {
  "jupytext": {
   "cell_metadata_filter": "-all",
   "main_language": "python",
   "notebook_metadata_filter": "-all"
  }
 },
 "nbformat": 4,
 "nbformat_minor": 5
}
