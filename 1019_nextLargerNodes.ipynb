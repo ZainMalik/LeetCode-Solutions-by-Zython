{
 "cells": [
  {
   "cell_type": "code",
   "execution_count": null,
   "id": "8d62f9eb",
   "metadata": {
    "lines_to_next_cell": 1
   },
   "outputs": [],
   "source": [
    "'''\n",
    "We are given a linked list with head as the first node.  Let's number the nodes in the list: node_1, node_2, node_3, ... etc.\n",
    "\n",
    "Each node may have a next larger value: for node_i, next_larger(node_i) is the node_j.val such that j > i, node_j.val > node_i.val, and j is the smallest possible choice.  If such a j does not exist, the next larger value is 0.\n",
    "\n",
    "Return an array of integers answer, where answer[i] = next_larger(node_{i+1}).\n",
    "\n",
    "Note that in the example inputs (not outputs) below, arrays such as [2,1,5] represent the serialization of a linked list with a head node value of 2, second node value of 1, and third node value of 5.\n",
    "\n",
    " \n",
    "\n",
    "Example 1:\n",
    "\n",
    "Input: [2,1,5]\n",
    "Output: [5,5,0]\n",
    "Example 2:\n",
    "\n",
    "Input: [2,7,4,3,5]\n",
    "Output: [7,0,5,5,0]\n",
    "Example 3:\n",
    "\n",
    "Input: [1,7,5,1,9,2,5,1]\n",
    "Output: [7,9,9,9,0,5,0,0]\n",
    " \n",
    "\n",
    "Note:\n",
    "\n",
    "1 <= node.val <= 10^9 for each node in the linked list.\n",
    "The given list has length in the range [0, 10000].\n",
    "'''"
   ]
  },
  {
   "cell_type": "markdown",
   "id": "b8a4fba1",
   "metadata": {},
   "source": [
    "Definition for singly-linked list.\n",
    "class ListNode(object):\n",
    "    def __init__(self, x):\n",
    "        self.val = x\n",
    "        self.next = None"
   ]
  },
  {
   "cell_type": "code",
   "execution_count": null,
   "id": "6c295ae8",
   "metadata": {},
   "outputs": [],
   "source": [
    "class Solution(object):\n",
    "    def nextLargerNodes(self, head):\n",
    "        \"\"\"\n",
    "        :type head: ListNode\n",
    "        :rtype: List[int]\n",
    "        \"\"\"\n",
    "        result = []\n",
    "        while head:\n",
    "            result.append(head.val)\n",
    "            head = head.next\n",
    "        \n",
    "        stack = [result[-1]]\n",
    "        ans = [0]\n",
    "        for val in range(len(result)-2, -1, -1):\n",
    "            if result[val] < stack[-1]:\n",
    "                ans.append(stack[-1])\n",
    "            else:\n",
    "                while stack and stack[-1] <= result[val]:\n",
    "                    stack.pop()\n",
    "                if stack:\n",
    "                    ans.append(stack[-1])\n",
    "                else:\n",
    "                    ans.append(0)\n",
    "            stack.append(result[val])\n",
    "        return ans[::-1]"
   ]
  }
 ],
 "metadata": {
  "jupytext": {
   "cell_metadata_filter": "-all",
   "main_language": "python",
   "notebook_metadata_filter": "-all"
  }
 },
 "nbformat": 4,
 "nbformat_minor": 5
}
