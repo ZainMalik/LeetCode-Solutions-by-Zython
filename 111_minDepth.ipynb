{
 "cells": [
  {
   "cell_type": "code",
   "execution_count": null,
   "id": "390a13c8",
   "metadata": {
    "lines_to_next_cell": 1
   },
   "outputs": [],
   "source": [
    "'''\n",
    "\tGiven a binary tree, find its minimum depth.\n",
    "\n",
    "\tThe minimum depth is the number of nodes along the shortest path from the root node down to the nearest leaf node.\n",
    "\n",
    "\tNote: A leaf is a node with no children.\n",
    "\n",
    "\tExample:\n",
    "\n",
    "\tGiven binary tree [3,9,20,null,null,15,7],\n",
    "\n",
    "\t    3\n",
    "\t   / \\\n",
    "\t  9  20\n",
    "\t    /  \\\n",
    "\t   15   7\n",
    "\n",
    "\treturn its minimum depth = 2.\n",
    "'''"
   ]
  },
  {
   "cell_type": "markdown",
   "id": "efc2af2f",
   "metadata": {},
   "source": [
    "Definition for a binary tree node.\n",
    "class TreeNode(object):\n",
    "    def __init__(self, x):\n",
    "        self.val = x\n",
    "        self.left = None\n",
    "        self.right = None"
   ]
  },
  {
   "cell_type": "code",
   "execution_count": null,
   "id": "476eda24",
   "metadata": {},
   "outputs": [],
   "source": [
    "class Solution(object):\n",
    "    def minDepth(self, root):\n",
    "    \tif not root:\n",
    "    \t\treturn 0\n",
    "    \tdepth = float('inf')\n",
    "    \tstack = [(root, 1)]\n",
    "\n",
    "    \twhile stack:\n",
    "    \t\tnode, level = stack.pop()\n",
    "    \t\tif node:\n",
    "\n",
    "    \t\t\tif not node.left and not node.right:\n",
    "    \t\t\t\tdepth = min(depth, level)\n",
    "\n",
    "    \t\t\tstack.append((node.left, level+1))\n",
    "    \t\t\tstack.append((node.right, level+1))\n",
    "\n",
    "    \treturn depth"
   ]
  }
 ],
 "metadata": {
  "jupytext": {
   "cell_metadata_filter": "-all",
   "main_language": "python",
   "notebook_metadata_filter": "-all"
  }
 },
 "nbformat": 4,
 "nbformat_minor": 5
}
