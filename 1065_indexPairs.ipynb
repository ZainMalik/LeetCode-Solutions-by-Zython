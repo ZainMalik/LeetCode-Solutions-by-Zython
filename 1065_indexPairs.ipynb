{
 "cells": [
  {
   "cell_type": "code",
   "execution_count": null,
   "id": "6bb9876b",
   "metadata": {
    "lines_to_next_cell": 1
   },
   "outputs": [],
   "source": [
    "'''\n",
    "Given a text string and words (a list of strings), return all index pairs [i, j] so that the substring text[i]...text[j] is in the list of words.\n",
    "\n",
    " \n",
    "\n",
    "Example 1:\n",
    "\n",
    "Input: text = \"thestoryofleetcodeandme\", words = [\"story\",\"fleet\",\"leetcode\"]\n",
    "Output: [[3,7],[9,13],[10,17]]\n",
    "Example 2:\n",
    "\n",
    "Input: text = \"ababa\", words = [\"aba\",\"ab\"]\n",
    "Output: [[0,1],[0,2],[2,3],[2,4]]\n",
    "Explanation: \n",
    "Notice that matches can overlap, see \"aba\" is found in [0,2] and [2,4].\n",
    " \n",
    "\n",
    "Note:\n",
    "\n",
    "All strings contains only lowercase English letters.\n",
    "It's guaranteed that all strings in words are different.\n",
    "1 <= text.length <= 100\n",
    "1 <= words.length <= 20\n",
    "1 <= words[i].length <= 50\n",
    "Return the pairs [i,j] in sorted order (i.e. sort them by their first coordinate in case of ties sort them by their second coordinate).\n",
    "'''"
   ]
  },
  {
   "cell_type": "code",
   "execution_count": null,
   "id": "a4774dd9",
   "metadata": {
    "lines_to_next_cell": 2
   },
   "outputs": [],
   "source": [
    "class Solution(object):\n",
    "    def indexPairs(self, text, words):\n",
    "        \"\"\"\n",
    "        :type text: str\n",
    "        :type words: List[str]\n",
    "        :rtype: List[List[int]]\n",
    "        \"\"\"\n",
    "        if not words:\n",
    "            return []\n",
    "        result = []\n",
    "        for word in words:\n",
    "            starting = [index for index in range(len(text)) if text.startswith(word, index)]\n",
    "            for start in starting:\n",
    "                result.append([start, start+len(word)-1])\n",
    "            # print starting\n",
    "        result.sort()\n",
    "        return result"
   ]
  }
 ],
 "metadata": {
  "jupytext": {
   "cell_metadata_filter": "-all",
   "main_language": "python",
   "notebook_metadata_filter": "-all"
  }
 },
 "nbformat": 4,
 "nbformat_minor": 5
}
