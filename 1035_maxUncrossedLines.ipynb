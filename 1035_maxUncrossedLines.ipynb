{
 "cells": [
  {
   "cell_type": "code",
   "execution_count": null,
   "id": "dfa4d510",
   "metadata": {
    "lines_to_next_cell": 1
   },
   "outputs": [],
   "source": [
    "'''\n",
    "We write the integers of A and B (in the order they are given) on two separate horizontal lines.\n",
    "\n",
    "Now, we may draw a straight line connecting two numbers A[i] and B[j] as long as A[i] == B[j], and the line we draw does not intersect any other connecting (non-horizontal) line.\n",
    "\n",
    "Return the maximum number of connecting lines we can draw in this way.\n",
    "\n",
    " \n",
    "\n",
    "Example 1:\n",
    "\n",
    "\n",
    "Input: A = [1,4,2], B = [1,2,4]\n",
    "Output: 2\n",
    "Explanation: We can draw 2 uncrossed lines as in the diagram.\n",
    "We cannot draw 3 uncrossed lines, because the line from A[1]=4 to B[2]=4 will intersect the line from A[2]=2 to B[1]=2.\n",
    "Example 2:\n",
    "\n",
    "Input: A = [2,5,1,2,5], B = [10,5,2,1,5,2]\n",
    "Output: 3\n",
    "Example 3:\n",
    "\n",
    "Input: A = [1,3,7,1,7,5], B = [1,9,2,5,1]\n",
    "Output: 2\n",
    " \n",
    "\n",
    "Note:\n",
    "\n",
    "1 <= A.length <= 500\n",
    "1 <= B.length <= 500\n",
    "1 <= A[i], B[i] <= 2000\n",
    "'''"
   ]
  },
  {
   "cell_type": "code",
   "execution_count": null,
   "id": "b1909cce",
   "metadata": {},
   "outputs": [],
   "source": [
    "class Solution(object):\n",
    "    def maxUncrossedLines(self, A, B):\n",
    "        \"\"\"\n",
    "        :type A: List[int]\n",
    "        :type B: List[int]\n",
    "        :rtype: int\n",
    "        \"\"\"\n",
    "        dp = [[0]*len(A) for _ in range(len(B))]\n",
    "        \n",
    "        dp[0][0] = 1 if A[0] == B[0] else 0\n",
    "        for index_i in range(1, len(dp)):\n",
    "            dp[index_i][0] = dp[index_i-1][0]\n",
    "            if A[0] == B[index_i]:\n",
    "                dp[index_i][0] = 1\n",
    "                \n",
    "        for index_j in range(1, len(dp[0])):\n",
    "            dp[0][index_j] = dp[0][index_j-1]\n",
    "            if B[0] == A[index_j]:\n",
    "                dp[0][index_j] = 1\n",
    "                \n",
    "        for index_i in range(1, len(dp)):\n",
    "            for index_j in range(1, len(dp[0])):\n",
    "                if A[index_j] == B[index_i]:\n",
    "                    dp[index_i][index_j] = max(dp[index_i-1][index_j-1] + 1, max(dp[index_i-1][index_j], dp[index_i][index_j-1]))\n",
    "                else:\n",
    "                    dp[index_i][index_j] = max(dp[index_i-1][index_j-1], max(dp[index_i-1][index_j], dp[index_i][index_j-1]))\n",
    "        return dp[len(B)-1][len(A)-1]"
   ]
  }
 ],
 "metadata": {
  "jupytext": {
   "cell_metadata_filter": "-all",
   "main_language": "python",
   "notebook_metadata_filter": "-all"
  }
 },
 "nbformat": 4,
 "nbformat_minor": 5
}
