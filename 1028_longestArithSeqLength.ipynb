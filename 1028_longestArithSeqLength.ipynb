{
 "cells": [
  {
   "cell_type": "code",
   "execution_count": null,
   "id": "1b654435",
   "metadata": {
    "lines_to_next_cell": 1
   },
   "outputs": [],
   "source": [
    "'''\n",
    "We run a preorder depth first search on the root of a binary tree.\n",
    "\n",
    "At each node in this traversal, we output D dashes (where D is the depth of this node), then we output the value of this node.  (If the depth of a node is D, the depth of its immediate child is D+1.  The depth of the root node is 0.)\n",
    "\n",
    "If a node has only one child, that child is guaranteed to be the left child.\n",
    "\n",
    "Given the output S of this traversal, recover the tree and return its root\n",
    "Example 1:\n",
    "\t    1\n",
    "\t  /   \\\n",
    "\t2\t    5\n",
    "  /\t  \\    /  \\\n",
    "3\t   4  6\t   7\n",
    "\n",
    "\n",
    "\n",
    "Input: \"1-2--3--4-5--6--7\"\n",
    "Output: [1,2,5,3,4,6,7]\n",
    "Example 2:\n",
    "\t   \t   1\n",
    "\t     /   \\\n",
    "       2\t  5\n",
    "     /\t     /    \n",
    "   3\t    6\t   \n",
    " /         /\n",
    "4\t\t  7\n",
    "\n",
    "Input: \"1-2--3---4-5--6---7\"\n",
    "Output: [1,2,5,3,null,6,null,4,null,7]\n",
    " \n",
    "\n",
    "Example 3:\n",
    "\n",
    "\n",
    "\n",
    "Input: \"1-401--349---90--88\"\n",
    "Output: [1,401,null,349,88,90]\n",
    " \n",
    "\n",
    "Note:\n",
    "\n",
    "The number of nodes in the original tree is between 1 and 1000. \n",
    "Each node will have a value between 1 and 10^9.\n",
    "'''"
   ]
  },
  {
   "cell_type": "code",
   "execution_count": null,
   "id": "292bc150",
   "metadata": {},
   "outputs": [],
   "source": [
    "class Solution(object):\n",
    "    def longestArithSeqLength(self, A):\n",
    "        \"\"\"\n",
    "        :type A: List[int]\n",
    "        :rtype: int\n",
    "        \"\"\"\n",
    "        from collections import defaultdict\n",
    "\n",
    "        dp = defaultdict(int)\n",
    "        # print dp\n",
    "        for index_i in range(len(A)):\n",
    "            for index_j in range(index_i):\n",
    "                diff = A[index_i] - A[index_j]\n",
    "                dp[(index_i, diff)] = max(dp[(index_i, diff)], dp[(index_j, diff)]+1)\n",
    "                # print dp\n",
    "        return max(dp.itervalues())+1"
   ]
  }
 ],
 "metadata": {
  "jupytext": {
   "cell_metadata_filter": "-all",
   "main_language": "python",
   "notebook_metadata_filter": "-all"
  }
 },
 "nbformat": 4,
 "nbformat_minor": 5
}
