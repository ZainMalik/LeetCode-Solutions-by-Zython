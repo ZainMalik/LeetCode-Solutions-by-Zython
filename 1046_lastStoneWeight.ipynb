{
 "cells": [
  {
   "cell_type": "code",
   "execution_count": null,
   "id": "ebc87930",
   "metadata": {
    "lines_to_next_cell": 1
   },
   "outputs": [],
   "source": [
    "'''\n",
    "We have a collection of rocks, each rock has a positive integer weight.\n",
    "\n",
    "Each turn, we choose the two heaviest rocks and smash them together.  Suppose the stones have weights x and y with x <= y.  The result of this smash is:\n",
    "\n",
    "If x == y, both stones are totally destroyed;\n",
    "If x != y, the stone of weight x is totally destroyed, and the stone of weight y has new weight y-x.\n",
    "At the end, there is at most 1 stone left.  Return the weight of this stone (or 0 if there are no stones left.)\n",
    "\n",
    " \n",
    "\n",
    "Example 1:\n",
    "\n",
    "Input: [2,7,4,1,8,1]\n",
    "Output: 1\n",
    "Explanation: \n",
    "We combine 7 and 8 to get 1 so the array converts to [2,4,1,1,1] then,\n",
    "we combine 2 and 4 to get 2 so the array converts to [2,1,1,1] then,\n",
    "we combine 2 and 1 to get 1 so the array converts to [1,1,1] then,\n",
    "we combine 1 and 1 to get 0 so the array converts to [1] then that's the value of last stone.\n",
    " \n",
    "\n",
    "Note:\n",
    "\n",
    "1 <= stones.length <= 30\n",
    "1 <= stones[i] <= 1000\n",
    "'''"
   ]
  },
  {
   "cell_type": "code",
   "execution_count": null,
   "id": "603446aa",
   "metadata": {},
   "outputs": [],
   "source": [
    "class Solution(object):\n",
    "    def lastStoneWeight(self, stones):\n",
    "        \"\"\"\n",
    "        :type stones: List[int]\n",
    "        :rtype: int\n",
    "        \"\"\"\n",
    "        while len(stones) > 1:\n",
    "            max_x = max(stones)\n",
    "            stones.remove(max_x)\n",
    "            max_y = max(stones)\n",
    "            stones.remove(max_y)\n",
    "            \n",
    "            if max_x != max_y:\n",
    "                stones.append(max_x-max_y)\n",
    "        return stones[0] if stones else 0"
   ]
  }
 ],
 "metadata": {
  "jupytext": {
   "cell_metadata_filter": "-all",
   "main_language": "python",
   "notebook_metadata_filter": "-all"
  }
 },
 "nbformat": 4,
 "nbformat_minor": 5
}
