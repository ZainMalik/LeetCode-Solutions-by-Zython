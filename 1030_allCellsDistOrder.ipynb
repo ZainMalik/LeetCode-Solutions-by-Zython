{
 "cells": [
  {
   "cell_type": "code",
   "execution_count": null,
   "id": "7c9f67bc",
   "metadata": {
    "lines_to_next_cell": 1
   },
   "outputs": [],
   "source": [
    "'''\n",
    "We are given a matrix with R rows and C columns has cells with integer coordinates (r, c), where 0 <= r < R and 0 <= c < C.\n",
    "\n",
    "Additionally, we are given a cell in that matrix with coordinates (r0, c0).\n",
    "\n",
    "Return the coordinates of all cells in the matrix, sorted by their distance from (r0, c0) from smallest distance to largest distance.  Here, the distance between two cells (r1, c1) and (r2, c2) is the Manhattan distance, |r1 - r2| + |c1 - c2|.  (You may return the answer in any order that satisfies this condition.)\n",
    "\n",
    " \n",
    "\n",
    "Example 1:\n",
    "\n",
    "Input: R = 1, C = 2, r0 = 0, c0 = 0\n",
    "Output: [[0,0],[0,1]]\n",
    "Explanation: The distances from (r0, c0) to other cells are: [0,1]\n",
    "Example 2:\n",
    "\n",
    "Input: R = 2, C = 2, r0 = 0, c0 = 1\n",
    "Output: [[0,1],[0,0],[1,1],[1,0]]\n",
    "Explanation: The distances from (r0, c0) to other cells are: [0,1,1,2]\n",
    "The answer [[0,1],[1,1],[0,0],[1,0]] would also be accepted as correct.\n",
    "Example 3:\n",
    "\n",
    "Input: R = 2, C = 3, r0 = 1, c0 = 2\n",
    "Output: [[1,2],[0,2],[1,1],[0,1],[1,0],[0,0]]\n",
    "Explanation: The distances from (r0, c0) to other cells are: [0,1,1,2,2,3]\n",
    "There are other answers that would also be accepted as correct, such as [[1,2],[1,1],[0,2],[1,0],[0,1],[0,0]].\n",
    " \n",
    "\n",
    "Note:\n",
    "\n",
    "1 <= R <= 100\n",
    "1 <= C <= 100\n",
    "0 <= r0 < R\n",
    "0 <= c0 < C\n",
    "'''"
   ]
  },
  {
   "cell_type": "code",
   "execution_count": null,
   "id": "45e0da6a",
   "metadata": {},
   "outputs": [],
   "source": [
    "class Solution(object):\n",
    "    def allCellsDistOrder(self, R, C, r0, c0):\n",
    "        \"\"\"\n",
    "        :type R: int\n",
    "        :type C: int\n",
    "        :type r0: int\n",
    "        :type c0: int\n",
    "        :rtype: List[List[int]]\n",
    "        \"\"\"\n",
    "        cells = [[x, y] for x in range(R) for y in range(C)]\n",
    "        distance = {}\n",
    "        for cell in cells:\n",
    "            diff = abs(cell[0]-r0) + abs(cell[1]-c0)\n",
    "            if diff in distance:\n",
    "                distance[diff].append(cell)\n",
    "            else:\n",
    "                distance[diff] = [cell]\n",
    "        result = []\n",
    "        for key in sorted(distance):\n",
    "            for value in distance[key]:\n",
    "                result.append(value)\n",
    "        return result"
   ]
  }
 ],
 "metadata": {
  "jupytext": {
   "cell_metadata_filter": "-all",
   "main_language": "python",
   "notebook_metadata_filter": "-all"
  }
 },
 "nbformat": 4,
 "nbformat_minor": 5
}
