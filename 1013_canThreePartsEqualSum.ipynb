{
 "cells": [
  {
   "cell_type": "code",
   "execution_count": null,
   "id": "071ee0a5",
   "metadata": {
    "lines_to_next_cell": 1
   },
   "outputs": [],
   "source": [
    "'''\n",
    "Given an array A of integers, return true if and only if we can partition the array into three non-empty parts with equal sums.\n",
    "\n",
    "Formally, we can partition the array if we can find indexes i+1 < j with (A[0] + A[1] + ... + A[i] == A[i+1] + A[i+2] + ... + A[j-1] == A[j] + A[j-1] + ... + A[A.length - 1])\n",
    "\n",
    " \n",
    "\n",
    "Example 1:\n",
    "\n",
    "Input: [0,2,1,-6,6,-7,9,1,2,0,1]\n",
    "Output: true\n",
    "Explanation: 0 + 2 + 1 = -6 + 6 - 7 + 9 + 1 = 2 + 0 + 1\n",
    "Example 2:\n",
    "\n",
    "Input: [0,2,1,-6,6,7,9,-1,2,0,1]\n",
    "Output: false\n",
    "Example 3:\n",
    "\n",
    "Input: [3,3,6,5,-2,2,5,1,-9,4]\n",
    "Output: true\n",
    "Explanation: 3 + 3 = 6 = 5 - 2 + 2 + 5 + 1 - 9 + 4\n",
    " \n",
    "\n",
    "Note:\n",
    "\n",
    "3 <= A.length <= 50000\n",
    "-10000 <= A[i] <= 10000\n",
    "'''"
   ]
  },
  {
   "cell_type": "code",
   "execution_count": null,
   "id": "b20beb84",
   "metadata": {
    "lines_to_next_cell": 2
   },
   "outputs": [],
   "source": [
    "class Solution(object):\n",
    "    def canThreePartsEqualSum(self, A):\n",
    "        \"\"\"\n",
    "        :type A: List[int]\n",
    "        :rtype: bool\n",
    "        \"\"\"\n",
    "        total_sum = 0\n",
    "        for val in A:\n",
    "            total_sum += val\n",
    "            \n",
    "        if(total_sum%3 != 0):\n",
    "            return False\n",
    "        \n",
    "        curr_sum, groups = 0, 0\n",
    "        for val in A:\n",
    "            curr_sum += val\n",
    "            if curr_sum == total_sum/3:\n",
    "                curr_sum = 0\n",
    "                groups +=1\n",
    "        print groups\n",
    "        return groups == 3"
   ]
  }
 ],
 "metadata": {
  "jupytext": {
   "cell_metadata_filter": "-all",
   "main_language": "python",
   "notebook_metadata_filter": "-all"
  }
 },
 "nbformat": 4,
 "nbformat_minor": 5
}
