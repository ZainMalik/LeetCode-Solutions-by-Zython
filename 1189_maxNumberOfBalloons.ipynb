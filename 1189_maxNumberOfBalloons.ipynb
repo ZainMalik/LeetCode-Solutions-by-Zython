{
 "cells": [
  {
   "cell_type": "code",
   "execution_count": null,
   "id": "88fe9e7d",
   "metadata": {
    "lines_to_next_cell": 1
   },
   "outputs": [],
   "source": [
    "'''\n",
    "Given a string text, you want to use the characters of text to form as many instances of the word \"balloon\" as possible.\n",
    "You can use each character in text at most once. Return the maximum number of instances that can be formed.\n",
    "\n",
    " \n",
    "Example 1:\n",
    "Input: text = \"nlaebolko\"\n",
    "Output: 1\n",
    "\n",
    "Example 2:\n",
    "Input: text = \"loonbalxballpoon\"\n",
    "Output: 2\n",
    "\n",
    "Example 3:\n",
    "Input: text = \"leetcode\"\n",
    "Output: 0\n",
    " \n",
    "\n",
    "Constraints:\n",
    "\n",
    "1 <= text.length <= 10^4\n",
    "text consists of lower case English letters only.\n",
    "'''"
   ]
  },
  {
   "cell_type": "code",
   "execution_count": null,
   "id": "575dfa57",
   "metadata": {},
   "outputs": [],
   "source": [
    "class Solution(object):\n",
    "    def maxNumberOfBalloons(self, text):\n",
    "        \"\"\"\n",
    "        :type text: str\n",
    "        :rtype: int\n",
    "        \"\"\"\n",
    "        if not text:\n",
    "            return 0\n",
    "        \n",
    "        import collections\n",
    "        cnt = collections.Counter(text)\n",
    "        cnt_ballon = collections.Counter('balloon')\n",
    "        \n",
    "        return min([cnt[c]//cnt_ballon[c] for c in cnt_ballon])"
   ]
  }
 ],
 "metadata": {
  "jupytext": {
   "cell_metadata_filter": "-all",
   "main_language": "python",
   "notebook_metadata_filter": "-all"
  }
 },
 "nbformat": 4,
 "nbformat_minor": 5
}
