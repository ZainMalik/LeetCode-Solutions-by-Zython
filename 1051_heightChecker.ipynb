{
 "cells": [
  {
   "cell_type": "code",
   "execution_count": null,
   "id": "83c52fc9",
   "metadata": {
    "lines_to_next_cell": 1
   },
   "outputs": [],
   "source": [
    "'''\n",
    "Students are asked to stand in non-decreasing order of heights for an annual photo.\n",
    "\n",
    "Return the minimum number of students not standing in the right positions.  (This is the number of students that must move in order for all students to be standing in non-decreasing order of height.)\n",
    "\n",
    " \n",
    "\n",
    "Example 1:\n",
    "\n",
    "Input: [1,1,4,2,1,3]\n",
    "Output: 3\n",
    "Explanation: \n",
    "Students with heights 4, 3 and the last 1 are not standing in the right positions.\n",
    " \n",
    "\n",
    "Note:\n",
    "\n",
    "1 <= heights.length <= 100\n",
    "1 <= heights[i] <= 100\n",
    "'''"
   ]
  },
  {
   "cell_type": "code",
   "execution_count": null,
   "id": "246da1b1",
   "metadata": {},
   "outputs": [],
   "source": [
    "class Solution(object):\n",
    "    def heightChecker(self, heights):\n",
    "        \"\"\"\n",
    "        :type heights: List[int]\n",
    "        :rtype: int\n",
    "        \"\"\"\n",
    "        result = 0\n",
    "        for new_h, hei in zip(heights, sorted(heights)):\n",
    "            if new_h != hei:\n",
    "                result += 1\n",
    "        return result"
   ]
  }
 ],
 "metadata": {
  "jupytext": {
   "cell_metadata_filter": "-all",
   "main_language": "python",
   "notebook_metadata_filter": "-all"
  }
 },
 "nbformat": 4,
 "nbformat_minor": 5
}
