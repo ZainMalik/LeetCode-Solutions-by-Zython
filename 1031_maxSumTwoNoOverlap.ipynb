{
 "cells": [
  {
   "cell_type": "code",
   "execution_count": null,
   "id": "29759bbc",
   "metadata": {
    "lines_to_next_cell": 1
   },
   "outputs": [],
   "source": [
    "'''\n",
    "Given an array A of non-negative integers, return the maximum sum of elements in two non-overlapping (contiguous) subarrays, which have lengths L and M.  (For clarification, the L-length subarray could occur before or after the M-length subarray.)\n",
    "\n",
    "Formally, return the largest V for which V = (A[i] + A[i+1] + ... + A[i+L-1]) + (A[j] + A[j+1] + ... + A[j+M-1]) and either:\n",
    "\n",
    "0 <= i < i + L - 1 < j < j + M - 1 < A.length, or\n",
    "0 <= j < j + M - 1 < i < i + L - 1 < A.length.\n",
    " \n",
    "\n",
    "Example 1:\n",
    "\n",
    "Input: A = [0,6,5,2,2,5,1,9,4], L = 1, M = 2\n",
    "Output: 20\n",
    "Explanation: One choice of subarrays is [9] with length 1, and [6,5] with length 2.\n",
    "Example 2:\n",
    "\n",
    "Input: A = [3,8,1,3,2,1,8,9,0], L = 3, M = 2\n",
    "Output: 29\n",
    "Explanation: One choice of subarrays is [3,8,1] with length 3, and [8,9] with length 2.\n",
    "Example 3:\n",
    "\n",
    "Input: A = [2,1,5,6,0,9,5,0,3,8], L = 4, M = 3\n",
    "Output: 31\n",
    "Explanation: One choice of subarrays is [5,6,0,9] with length 4, and [3,8] with length 3.\n",
    " \n",
    "\n",
    "Note:\n",
    "\n",
    "L >= 1\n",
    "M >= 1\n",
    "L + M <= A.length <= 1000\n",
    "0 <= A[i] <= 1000\n",
    "'''"
   ]
  },
  {
   "cell_type": "code",
   "execution_count": null,
   "id": "62053307",
   "metadata": {},
   "outputs": [],
   "source": [
    "class Solution(object):\n",
    "    def maxSumTwoNoOverlap(self, A, L, M):\n",
    "        \"\"\"\n",
    "        :type A: List[int]\n",
    "        :type L: int\n",
    "        :type M: int\n",
    "        :rtype: int\n",
    "        \"\"\"\n",
    "        cumm_sum = [0]\n",
    "        for index in range(len(A)):\n",
    "            cumm_sum.append(cumm_sum[index]+A[index])\n",
    "        result = 0\n",
    "        \n",
    "        def valid(index_i, index_j):\n",
    "            return index_i+L <=len(A) and index_j+M <= len(A) and(index_j>=index_i+L or index_i>=index_j+M)\n",
    "    \n",
    "        for index_i in range(len(A)):\n",
    "            for index_j in range(len(A)):\n",
    "                if valid(index_i, index_j):\n",
    "                    result = max(result, cumm_sum[index_i+L]-cumm_sum[index_i] + cumm_sum[index_j+M]-cumm_sum[index_j])\n",
    "        return result"
   ]
  }
 ],
 "metadata": {
  "jupytext": {
   "cell_metadata_filter": "-all",
   "main_language": "python",
   "notebook_metadata_filter": "-all"
  }
 },
 "nbformat": 4,
 "nbformat_minor": 5
}
