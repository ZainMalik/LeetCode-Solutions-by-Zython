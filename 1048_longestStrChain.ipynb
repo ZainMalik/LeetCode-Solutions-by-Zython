{
 "cells": [
  {
   "cell_type": "code",
   "execution_count": null,
   "id": "73c19942",
   "metadata": {
    "lines_to_next_cell": 1
   },
   "outputs": [],
   "source": [
    "'''\n",
    "Given a list of words, each word consists of English lowercase letters.\n",
    "\n",
    "Let's say word1 is a predecessor of word2 if and only if we can add exactly one letter anywhere in word1 to make it equal to word2.  For example, \"abc\" is a predecessor of \"abac\".\n",
    "\n",
    "A word chain is a sequence of words [word_1, word_2, ..., word_k] with k >= 1, where word_1 is a predecessor of word_2, word_2 is a predecessor of word_3, and so on.\n",
    "\n",
    "Return the longest possible length of a word chain with words chosen from the given list of words.\n",
    "\n",
    " \n",
    "\n",
    "Example 1:\n",
    "\n",
    "Input: [\"a\",\"b\",\"ba\",\"bca\",\"bda\",\"bdca\"]\n",
    "Output: 4\n",
    "Explanation: one of the longest word chain is \"a\",\"ba\",\"bda\",\"bdca\".\n",
    " \n",
    "\n",
    "Note:\n",
    "\n",
    "1 <= words.length <= 1000\n",
    "1 <= words[i].length <= 16\n",
    "words[i] only consists of English lowercase letters.\n",
    "'''"
   ]
  },
  {
   "cell_type": "code",
   "execution_count": null,
   "id": "2de5a4e3",
   "metadata": {},
   "outputs": [],
   "source": [
    "class Solution(object):\n",
    "    def longestStrChain(self, words):\n",
    "        \"\"\"\n",
    "        :type words: List[str]\n",
    "        :rtype: int\n",
    "        \"\"\"\n",
    "        if not words:\n",
    "            return 0\n",
    "        words.sort(key=len)\n",
    "        dp = collections.defaultdict(int)\n",
    "        result = 0\n",
    "        for word in words:\n",
    "            for index in range(len(word)):\n",
    "                char_excluded_string = word[:index] + word[index+1:]\n",
    "                if char_excluded_string in dp:\n",
    "                    dp[word] = max(dp[char_excluded_string]+1, dp[word])\n",
    "                else:\n",
    "                    dp[word] = max(dp[word], 1)\n",
    "            result = max(dp[word], result)\n",
    "        return result"
   ]
  }
 ],
 "metadata": {
  "jupytext": {
   "cell_metadata_filter": "-all",
   "main_language": "python",
   "notebook_metadata_filter": "-all"
  }
 },
 "nbformat": 4,
 "nbformat_minor": 5
}
