{
 "cells": [
  {
   "cell_type": "code",
   "execution_count": null,
   "id": "c28f5b21",
   "metadata": {
    "lines_to_next_cell": 1
   },
   "outputs": [],
   "source": [
    "'''\n",
    "Given an array A of 0s and 1s, we may change up to K values from 0 to 1.\n",
    "\n",
    "Return the length of the longest (contiguous) subarray that contains only 1s. \n",
    "\n",
    " \n",
    "\n",
    "Example 1:\n",
    "\n",
    "Input: A = [1,1,1,0,0,0,1,1,1,1,0], K = 2\n",
    "Output: 6\n",
    "Explanation: \n",
    "[1,1,1,0,0,1,1,1,1,1,1]\n",
    "Bolded numbers were flipped from 0 to 1.  The longest subarray is underlined.\n",
    "Example 2:\n",
    "\n",
    "Input: A = [0,0,1,1,0,0,1,1,1,0,1,1,0,0,0,1,1,1,1], K = 3\n",
    "Output: 10\n",
    "Explanation: \n",
    "[0,0,1,1,1,1,1,1,1,1,1,1,0,0,0,1,1,1,1]\n",
    "Bolded numbers were flipped from 0 to 1.  The longest subarray is underlined.\n",
    " \n",
    "\n",
    "Note:\n",
    "\n",
    "1 <= A.length <= 20000\n",
    "0 <= K <= A.length\n",
    "A[i] is 0 or 1 \n",
    "'''"
   ]
  },
  {
   "cell_type": "code",
   "execution_count": null,
   "id": "a1288285",
   "metadata": {},
   "outputs": [],
   "source": [
    "class Solution(object):\n",
    "    def longestOnes(self, A, K):\n",
    "        \"\"\"\n",
    "        :type A: List[int]\n",
    "        :type K: int\n",
    "        :rtype: int\n",
    "        \"\"\"\n",
    "        start_index = 0\n",
    "        for end_index in range(0, len(A)):\n",
    "            K -= 1-A[end_index]\n",
    "            if K < 0:\n",
    "                K += 1-A[start_index]\n",
    "                start_index += 1\n",
    "        return end_index-start_index+1"
   ]
  }
 ],
 "metadata": {
  "jupytext": {
   "cell_metadata_filter": "-all",
   "main_language": "python",
   "notebook_metadata_filter": "-all"
  }
 },
 "nbformat": 4,
 "nbformat_minor": 5
}
