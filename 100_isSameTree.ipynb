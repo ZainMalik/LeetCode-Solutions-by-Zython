{
 "cells": [
  {
   "cell_type": "code",
   "execution_count": null,
   "id": "9768aa22",
   "metadata": {
    "lines_to_next_cell": 1
   },
   "outputs": [],
   "source": [
    "'''\n",
    "\tGiven two binary trees, write a function to check if they are the same or not.\n",
    "\n",
    "\tTwo binary trees are considered the same if they are structurally identical and the nodes have the same value.\n",
    "\n",
    "\tExample 1:\n",
    "\n",
    "\tInput:     1         1\n",
    "\t          / \\       / \\\n",
    "\t         2   3     2   3\n",
    "\n",
    "\t        [1,2,3],   [1,2,3]\n",
    "\n",
    "\tOutput: true\n",
    "'''"
   ]
  },
  {
   "cell_type": "markdown",
   "id": "6c39c8ba",
   "metadata": {},
   "source": [
    "Definition for a binary tree node.\n",
    "class TreeNode(object):\n",
    "    def __init__(self, x):\n",
    "        self.val = x\n",
    "        self.left = None\n",
    "        self.right = None"
   ]
  },
  {
   "cell_type": "code",
   "execution_count": null,
   "id": "16b034a5",
   "metadata": {},
   "outputs": [],
   "source": [
    "class Solution(object):\n",
    "    def isSameTree(self, p, q):\n",
    "        \"\"\"\n",
    "        :type p: TreeNode\n",
    "        :type q: TreeNode\n",
    "        :rtype: bool\n",
    "        \"\"\"\n",
    "        if not p and not q:\n",
    "        \treturn True \n",
    "\n",
    "        stack = [(p, q)]\n",
    "\n",
    "        while stack:\n",
    "        \tnode1, node2 = stack.pop()\n",
    "        \tif node1 and node2 and node1.val == node2.val:\n",
    "        \t\tstack.append((node1.left, node2.left))\n",
    "        \t\tstack.append((node1.right, node2.right))\n",
    "        \telse:\n",
    "        \t\tif not node1 == node2:\n",
    "        \t\t\treturn False \n",
    "\n",
    "        return True"
   ]
  }
 ],
 "metadata": {
  "jupytext": {
   "cell_metadata_filter": "-all",
   "main_language": "python",
   "notebook_metadata_filter": "-all"
  }
 },
 "nbformat": 4,
 "nbformat_minor": 5
}
