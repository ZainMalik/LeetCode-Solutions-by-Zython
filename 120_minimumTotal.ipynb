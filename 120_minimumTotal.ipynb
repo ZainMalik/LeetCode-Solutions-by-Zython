{
 "cells": [
  {
   "cell_type": "code",
   "execution_count": null,
   "id": "a0e8123d",
   "metadata": {
    "lines_to_next_cell": 1
   },
   "outputs": [],
   "source": [
    "'''\n",
    "    Given a triangle, find the minimum path sum from top to bottom. Each step you may move to adjacent numbers on the row below.\n",
    "\n",
    "    For example, given the following triangle\n",
    "\n",
    "    [\n",
    "         [2],\n",
    "        [3,4],\n",
    "       [6,5,7],\n",
    "      [4,1,8,3]\n",
    "    ]\n",
    "    The minimum path sum from top to bottom is 11 (i.e., 2 + 3 + 5 + 1 = 11).\n",
    "'''"
   ]
  },
  {
   "cell_type": "code",
   "execution_count": null,
   "id": "f8179618",
   "metadata": {},
   "outputs": [],
   "source": [
    "class Solution(object):\n",
    "    def minimumTotal(self, triangle):\n",
    "        \"\"\"\n",
    "        :type triangle: List[List[int]]\n",
    "        :rtype: int\n",
    "        \"\"\"\n",
    "        length = len(triangle)\n",
    "        columns = len(triangle[length-1])\n",
    "        \n",
    "        matrix = [[ 0 for col in range(columns)] for row in range(length)]\n",
    "        row_index = 0\n",
    "        \n",
    "        for row in range(length):\n",
    "            elements = triangle[row]\n",
    "            col_index = 0\n",
    "            \n",
    "            for val in elements:\n",
    "                matrix[row_index][col_index] = val\n",
    "                col_index += 1\n",
    "            row_index += 1\n",
    "            \n",
    "        for row in range(length-2, -1, -1):\n",
    "            for col in range(row+1):\n",
    "                matrix[row][col] += min(matrix[row+1][col+1], matrix[row+1][col])\n",
    "        return matrix[0][0]"
   ]
  }
 ],
 "metadata": {
  "jupytext": {
   "cell_metadata_filter": "-all",
   "main_language": "python",
   "notebook_metadata_filter": "-all"
  }
 },
 "nbformat": 4,
 "nbformat_minor": 5
}
