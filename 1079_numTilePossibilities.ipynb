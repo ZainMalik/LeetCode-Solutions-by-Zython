{
 "cells": [
  {
   "cell_type": "code",
   "execution_count": null,
   "id": "7bf47ee2",
   "metadata": {
    "lines_to_next_cell": 1
   },
   "outputs": [],
   "source": [
    "'''\n",
    "You have a set of tiles, where each tile has one letter tiles[i] printed on it.  Return the number of possible non-empty sequences of letters you can make.\n",
    "\n",
    " \n",
    "\n",
    "Example 1:\n",
    "\n",
    "Input: \"AAB\"\n",
    "Output: 8\n",
    "Explanation: The possible sequences are \"A\", \"B\", \"AA\", \"AB\", \"BA\", \"AAB\", \"ABA\", \"BAA\".\n",
    "Example 2:\n",
    "\n",
    "Input: \"AAABBC\"\n",
    "Output: 188\n",
    "'''"
   ]
  },
  {
   "cell_type": "code",
   "execution_count": null,
   "id": "172de598",
   "metadata": {},
   "outputs": [],
   "source": [
    "class Solution(object):\n",
    "    def numTilePossibilities(self, tiles):\n",
    "        \"\"\"\n",
    "        :type tiles: str\n",
    "        :rtype: int\n",
    "        \"\"\"\n",
    "        \n",
    "        if not tiles:\n",
    "            return 0\n",
    "        \n",
    "        import collections\n",
    "        unique = set(tiles)\n",
    "        freq_map =  collections.Counter(tiles)\n",
    "        total_len = 1\n",
    "        while total_len < len(tiles):\n",
    "            new = set()\n",
    "            for char in tiles:\n",
    "                for comb in unique:\n",
    "                    new_seq = comb+char\n",
    "                    up_freq = collections.Counter(new_seq)\n",
    "                    flag =True\n",
    "                    for key, val in up_freq.items():\n",
    "                        if val > freq_map[key]:\n",
    "                            flag = False\n",
    "                    if flag:\n",
    "                        new.add(new_seq)\n",
    "            # print new\n",
    "            unique.update(new)\n",
    "                    \n",
    "            total_len += 1\n",
    "        return len(unique)"
   ]
  }
 ],
 "metadata": {
  "jupytext": {
   "cell_metadata_filter": "-all",
   "main_language": "python",
   "notebook_metadata_filter": "-all"
  }
 },
 "nbformat": 4,
 "nbformat_minor": 5
}
