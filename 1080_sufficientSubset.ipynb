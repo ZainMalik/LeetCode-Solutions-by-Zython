{
 "cells": [
  {
   "cell_type": "code",
   "execution_count": null,
   "id": "0e9f7110",
   "metadata": {
    "lines_to_next_cell": 1
   },
   "outputs": [],
   "source": [
    "'''\n",
    "Given the root of a binary tree, consider all root to leaf paths: paths from the root to any leaf.  (A leaf is a node with no children.)\n",
    "\n",
    "A node is insufficient if every such root to leaf path intersecting this node has sum strictly less than limit.\n",
    "\n",
    "Delete all insufficient nodes simultaneously, and return the root of the resulting binary tree.\n",
    "\n",
    " \n",
    "\n",
    "Example 1:\n",
    "\n",
    "\n",
    "Input: root = [1,2,3,4,-99,-99,7,8,9,-99,-99,12,13,-99,14], limit = 1\n",
    "\n",
    "Output: [1,2,3,4,null,null,7,8,9,null,14]\n",
    "Example 2:\n",
    "\n",
    "\n",
    "Input: root = [5,4,8,11,null,17,4,7,1,null,null,5,3], limit = 22\n",
    "\n",
    "Output: [5,4,8,11,null,17,4,7,null,null,null,5]\n",
    " \n",
    "\n",
    "Example 3:\n",
    "\n",
    "\n",
    "Input: root = [1,2,-3,-5,null,4,null], limit = -1\n",
    "\n",
    "Output: [1,null,-3,4]\n",
    " \n",
    "\n",
    "Note:\n",
    "\n",
    "The given tree will have between 1 and 5000 nodes.\n",
    "-10^5 <= node.val <= 10^5\n",
    "-10^9 <= limit <= 10^9\n",
    "'''"
   ]
  },
  {
   "cell_type": "markdown",
   "id": "4b4e9441",
   "metadata": {},
   "source": [
    "Definition for a binary tree node.\n",
    "class TreeNode(object):\n",
    "    def __init__(self, x):\n",
    "        self.val = x\n",
    "        self.left = None\n",
    "        self.right = None"
   ]
  },
  {
   "cell_type": "code",
   "execution_count": null,
   "id": "03901b16",
   "metadata": {},
   "outputs": [],
   "source": [
    "class Solution(object):\n",
    "    def sufficientSubset(self, root, limit):\n",
    "        \"\"\"\n",
    "        :type root: TreeNode\n",
    "        :type limit: int\n",
    "        :rtype: TreeNode\n",
    "        \"\"\"\n",
    "        def reduce_tree(root, limit, curr_sum):\n",
    "            if not root:\n",
    "                return None\n",
    "            \n",
    "            l_sum = [curr_sum[0] + root.val]\n",
    "            r_sum = [l_sum[0]]\n",
    "            \n",
    "            root.left = reduce_tree(root.left, limit, l_sum)\n",
    "            root.right = reduce_tree(root.right, limit, r_sum)\n",
    "            \n",
    "            curr_sum[0] = max(l_sum[0], r_sum[0])\n",
    "            if curr_sum[0] < limit:\n",
    "                root = None\n",
    "            return root\n",
    "        curr_sum = [0]\n",
    "        return reduce_tree(root, limit, curr_sum)"
   ]
  }
 ],
 "metadata": {
  "jupytext": {
   "cell_metadata_filter": "-all",
   "main_language": "python",
   "notebook_metadata_filter": "-all"
  }
 },
 "nbformat": 4,
 "nbformat_minor": 5
}
