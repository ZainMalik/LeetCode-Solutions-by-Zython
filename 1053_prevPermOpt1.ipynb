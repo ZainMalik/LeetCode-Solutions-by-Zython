{
 "cells": [
  {
   "cell_type": "code",
   "execution_count": null,
   "id": "4d73fb5d",
   "metadata": {
    "lines_to_next_cell": 2
   },
   "outputs": [],
   "source": [
    "'''\n",
    "Given an array A of positive integers (not necessarily distinct), return the lexicographically largest permutation that is smaller than A, that can be made with one swap (A swap exchanges the positions of two numbers A[i] and A[j]).  If it cannot be done, then return the same array.\n",
    "\n",
    " \n",
    "\n",
    "Example 1:\n",
    "\n",
    "Input: [3,2,1]\n",
    "Output: [3,1,2]\n",
    "Explanation: Swapping 2 and 1.\n",
    "Example 2:\n",
    "\n",
    "Input: [1,1,5]\n",
    "Output: [1,1,5]\n",
    "Explanation: This is already the smallest permutation.\n",
    "Example 3:\n",
    "\n",
    "Input: [1,9,4,6,7]\n",
    "Output: [1,7,4,6,9]\n",
    "Explanation: Swapping 9 and 7.\n",
    "Example 4:\n",
    "\n",
    "Input: [3,1,1,3]\n",
    "Output: [1,3,1,3]\n",
    "Explanation: Swapping 1 and 3.\n",
    " \n",
    "\n",
    "Note:\n",
    "\n",
    "1 <= A.length <= 10000\n",
    "1 <= A[i] <= 10000\n",
    "'''\n",
    "class Solution(object):\n",
    "    def prevPermOpt1(self, A):\n",
    "        \"\"\"\n",
    "        :type A: List[int]\n",
    "        :rtype: List[int]\n",
    "        \"\"\"\n",
    "    \n",
    "        left, right = len(A)-2, len(A)-1\n",
    "        for left in range(len(A)-2, -1, -1):\n",
    "            if A[left] > A[left+1]:\n",
    "                break\n",
    "        else:\n",
    "            return A\n",
    "        right = A.index(max(ele for ele in A[left+1:] if ele < A[left]), left)\n",
    "        A[left], A[right] = A[right], A[left]\n",
    "        return A"
   ]
  }
 ],
 "metadata": {
  "jupytext": {
   "cell_metadata_filter": "-all",
   "main_language": "python",
   "notebook_metadata_filter": "-all"
  }
 },
 "nbformat": 4,
 "nbformat_minor": 5
}
