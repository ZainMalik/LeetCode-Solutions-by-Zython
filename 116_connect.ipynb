{
 "cells": [
  {
   "cell_type": "code",
   "execution_count": null,
   "id": "adac2f5c",
   "metadata": {
    "lines_to_next_cell": 1
   },
   "outputs": [],
   "source": [
    "'''\n",
    "\tGiven a binary tree\n",
    "\n",
    "\tstruct TreeLinkNode {\n",
    "\t  TreeLinkNode *left;\n",
    "\t  TreeLinkNode *right;\n",
    "\t  TreeLinkNode *next;\n",
    "\t}\n",
    "\tPopulate each next pointer to point to its next right node. If there is no next right node, the next pointer should be set to NULL.\n",
    "\n",
    "\tInitially, all next pointers are set to NULL\n",
    "\tExample:\n",
    "\n",
    "\tGiven the following perfect binary tree,\n",
    "\n",
    "\t     1\n",
    "\t   /  \\\n",
    "\t  2    3\n",
    "\t / \\  / \\\n",
    "\t4  5  6  7\n",
    "\tAfter calling your function, the tree should look like:\n",
    "\n",
    "\t     1 -> NULL\n",
    "\t   /  \\\n",
    "\t  2 -> 3 -> NULL\n",
    "\t / \\  / \\\n",
    "\t4->5->6->7 -> NULL\n",
    "'''"
   ]
  },
  {
   "cell_type": "markdown",
   "id": "1441ccaa",
   "metadata": {},
   "source": [
    "Definition for binary tree with next pointer.\n",
    "class TreeLinkNode:\n",
    "    def __init__(self, x):\n",
    "        self.val = x\n",
    "        self.left = None\n",
    "        self.right = None\n",
    "        self.next = None"
   ]
  },
  {
   "cell_type": "code",
   "execution_count": null,
   "id": "b27647c6",
   "metadata": {},
   "outputs": [],
   "source": [
    "class Solution:\n",
    "    # @param root, a tree link node\n",
    "    # @return nothing\n",
    "    def connect(self, root):\n",
    "        def recursive(node):\n",
    "        \tif node is None:\n",
    "        \t\treturn\n",
    "\n",
    "        \tif node.left:\n",
    "        \t\tnode.left.next = node.right\n",
    "        \tif node.right:\n",
    "        \t\tif node.next:\n",
    "\t        \t\tnode.right.next = node.next.left\n",
    "\t        \telse:\n",
    "\t        \t\tnode.right.next  = None\n",
    "\t        recursive(node.left)\n",
    "\t        recursive(node.right)\n",
    "\n",
    "\t\tif root != None:\n",
    "\t\t\troot.next = None\n",
    "\t\t\trecursive(root)"
   ]
  }
 ],
 "metadata": {
  "jupytext": {
   "cell_metadata_filter": "-all",
   "main_language": "python",
   "notebook_metadata_filter": "-all"
  }
 },
 "nbformat": 4,
 "nbformat_minor": 5
}
