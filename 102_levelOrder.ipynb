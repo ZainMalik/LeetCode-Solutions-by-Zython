{
 "cells": [
  {
   "cell_type": "code",
   "execution_count": null,
   "id": "67d14f80",
   "metadata": {
    "lines_to_next_cell": 1
   },
   "outputs": [],
   "source": [
    "'''\n",
    "\tGiven a binary tree, return the level order traversal of its nodes' values. (ie, from left to right, level by level).\n",
    "\n",
    "\tFor example:\n",
    "\tGiven binary tree [3,9,20,null,null,15,7],\n",
    "\n",
    "\t    3\n",
    "\t   / \\\n",
    "\t  9  20\n",
    "\t    /  \\\n",
    "\t   15   7\n",
    "\n",
    "\treturn its level order traversal as:\n",
    "\n",
    "\t[\n",
    "\t  [3],\n",
    "\t  [9,20],\n",
    "\t  [15,7]\n",
    "\t]\n",
    "'''"
   ]
  },
  {
   "cell_type": "markdown",
   "id": "cf5ada40",
   "metadata": {},
   "source": [
    "Definition for a binary tree node.\n",
    "class TreeNode(object):\n",
    "    def __init__(self, x):\n",
    "        self.val = x\n",
    "        self.left = None\n",
    "        self.right = None"
   ]
  },
  {
   "cell_type": "code",
   "execution_count": null,
   "id": "c3ceec9e",
   "metadata": {},
   "outputs": [],
   "source": [
    "class Solution(object):\n",
    "    def levelOrder(self, root):\n",
    "        \"\"\"\n",
    "        :type root: TreeNode\n",
    "        :rtype: List[List[int]]\n",
    "        \"\"\"\n",
    "\n",
    "        if not root:\n",
    "        \treturn []\n",
    "\n",
    "        queue = [(root, 0)]\n",
    "        levelMap = {}\n",
    "\n",
    "        while queue:\n",
    "        \tnode, level = queue.pop(0)\n",
    "        \tif node.left:\n",
    "        \t\tqueue.append((node.left, level+1))\n",
    "        \tif node.right:\n",
    "        \t\tqueue.append((node.right, level+1))\n",
    "\n",
    "        \tif level in levelMap:\n",
    "        \t\tlevelMap[level].append(node.val)\n",
    "        \telse:\n",
    "        \t\tlevelMap[level] = [node.val]\n",
    "\n",
    "        result = []\n",
    "        for key, value in levelMap.iteritems():\n",
    "        \tresult.append(value)\n",
    "        return result"
   ]
  }
 ],
 "metadata": {
  "jupytext": {
   "cell_metadata_filter": "-all",
   "main_language": "python",
   "notebook_metadata_filter": "-all"
  }
 },
 "nbformat": 4,
 "nbformat_minor": 5
}
