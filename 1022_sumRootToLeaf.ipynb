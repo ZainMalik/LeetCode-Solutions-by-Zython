{
 "cells": [
  {
   "cell_type": "code",
   "execution_count": null,
   "id": "692e0a61",
   "metadata": {},
   "outputs": [],
   "source": [
    "'''\n",
    "Given a binary tree, each node has value 0 or 1.  Each root-to-leaf path represents a binary number starting with the most significant bit.  For example, if the path is 0 -> 1 -> 1 -> 0 -> 1, then this could represent 01101 in binary, which is 13.\n",
    "\n",
    "For all leaves in the tree, consider the numbers represented by the path from the root to that leaf.\n",
    "\n",
    "Return the sum of these numbers.\n",
    "\n",
    " \n",
    "\n",
    "Example 1:\n",
    "\n",
    "\n",
    "\n",
    "Input: [1,0,1,0,1,0,1]\n",
    "Output: 22\n",
    "Explanation: (100) + (101) + (110) + (111) = 4 + 5 + 6 + 7 = 22\n",
    " \n",
    "\n",
    "Note:\n",
    "\n",
    "The number of nodes in the tree is between 1 and 1000.\n",
    "node.val is 0 or 1.\n",
    "The answer will not exceed 2^31 - 1.\n",
    "'''\n",
    "# Definition for a binary tree node.\n",
    "# class TreeNode(object):\n",
    "#     def __init__(self, x):\n",
    "#         self.val = x\n",
    "#         self.left = None\n",
    "#         self.right = None"
   ]
  },
  {
   "cell_type": "code",
   "execution_count": null,
   "id": "72b55380",
   "metadata": {},
   "outputs": [],
   "source": [
    "class Solution(object):\n",
    "    def sumRootToLeaf(self, root):\n",
    "        \"\"\"\n",
    "        :type root: TreeNode\n",
    "        :rtype: int\n",
    "        \"\"\"\n",
    "        def traversal(root, paths, pathlen, allpaths):\n",
    "            if not root:\n",
    "                return \n",
    "            if len(paths) > pathlen:\n",
    "                paths[pathlen] = root.val\n",
    "            else:\n",
    "                paths.append(root.val)\n",
    "                \n",
    "            pathlen +=1\n",
    "            if not root.left and not root.right:\n",
    "                allpaths.append(int(''.join(str(val) for val in paths[0:pathlen]), 2))\n",
    "            else:\n",
    "                traversal(root.left, paths, pathlen, allpaths)\n",
    "                traversal(root.right, paths, pathlen, allpaths)\n",
    "        paths = []\n",
    "        traversal(root, [], 0, paths)\n",
    "        return sum(paths)%1000000007"
   ]
  }
 ],
 "metadata": {
  "jupytext": {
   "cell_metadata_filter": "-all",
   "main_language": "python",
   "notebook_metadata_filter": "-all"
  }
 },
 "nbformat": 4,
 "nbformat_minor": 5
}
