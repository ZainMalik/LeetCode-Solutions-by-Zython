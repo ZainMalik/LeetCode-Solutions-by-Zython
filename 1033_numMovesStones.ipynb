{
 "cells": [
  {
   "cell_type": "code",
   "execution_count": null,
   "id": "e4dc101c",
   "metadata": {
    "lines_to_next_cell": 1
   },
   "outputs": [],
   "source": [
    "'''\n",
    "Three stones are on a number line at positions a, b, and c.\n",
    "\n",
    "Each turn, let's say the stones are currently at positions x, y, z with x < y < z.  You pick up the stone at either position x or position z, and move that stone to an integer position k, with x < k < z and k != y.\n",
    "\n",
    "The game ends when you cannot make any more moves, ie. the stones are in consecutive positions.\n",
    "\n",
    "When the game ends, what is the minimum and maximum number of moves that you could have made?  Return the answer as an length 2 array: answer = [minimum_moves, maximum_moves]\n",
    "\n",
    " \n",
    "\n",
    "Example 1:\n",
    "\n",
    "Input: a = 1, b = 2, c = 5\n",
    "Output: [1, 2]\n",
    "Explanation: Move stone from 5 to 4 then to 3, or we can move it directly to 3.\n",
    "Example 2:\n",
    "\n",
    "Input: a = 4, b = 3, c = 2\n",
    "Output: [0, 0]\n",
    "Explanation: We cannot make any moves.\n",
    " \n",
    "\n",
    "Note:\n",
    "\n",
    "1 <= a <= 100\n",
    "1 <= b <= 100\n",
    "1 <= c <= 100\n",
    "a != b, b != c, c != a\n",
    "'''"
   ]
  },
  {
   "cell_type": "code",
   "execution_count": null,
   "id": "a670c0ff",
   "metadata": {},
   "outputs": [],
   "source": [
    "class Solution(object):\n",
    "    def numMovesStones(self, a, b, c):\n",
    "        \"\"\"\n",
    "        :type a: int\n",
    "        :type b: int\n",
    "        :type c: int\n",
    "        :rtype: List[int]\n",
    "        \"\"\"\n",
    "        lista = [a, b, c]\n",
    "        lista.sort()\n",
    "        a, b, c = lista[0], lista[1], lista[2]\n",
    "        minsteps = 0\n",
    "        if b == a+1 and c == a+2:\n",
    "            return [0, 0]\n",
    "        elif b == a+1 or c == b+1 or c == b+2 or  b == a+2:\n",
    "            minsteps = 1\n",
    "        else:\n",
    "            minsteps = 2\n",
    "        return [minsteps, b-a-1+c-b-1]"
   ]
  }
 ],
 "metadata": {
  "jupytext": {
   "cell_metadata_filter": "-all",
   "main_language": "python",
   "notebook_metadata_filter": "-all"
  }
 },
 "nbformat": 4,
 "nbformat_minor": 5
}
