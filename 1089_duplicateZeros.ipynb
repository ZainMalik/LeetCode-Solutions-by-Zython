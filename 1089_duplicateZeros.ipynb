{
 "cells": [
  {
   "cell_type": "code",
   "execution_count": null,
   "id": "4ac49695",
   "metadata": {
    "lines_to_next_cell": 1
   },
   "outputs": [],
   "source": [
    "'''\n",
    "Given a fixed length array arr of integers, duplicate each occurrence of zero, shifting the remaining elements to the right.\n",
    "\n",
    "Note that elements beyond the length of the original array are not written.\n",
    "\n",
    "Do the above modifications to the input array in place, do not return anything from your function.\n",
    "\n",
    " \n",
    "\n",
    "Example 1:\n",
    "\n",
    "Input: [1,0,2,3,0,4,5,0]\n",
    "Output: null\n",
    "Explanation: After calling your function, the input array is modified to: [1,0,0,2,3,0,0,4]\n",
    "Example 2:\n",
    "\n",
    "Input: [1,2,3]\n",
    "Output: null\n",
    "Explanation: After calling your function, the input array is modified to: [1,2,3]\n",
    " \n",
    "\n",
    "Note:\n",
    "\n",
    "1 <= arr.length <= 10000\n",
    "0 <= arr[i] <= 9\n",
    "'''"
   ]
  },
  {
   "cell_type": "code",
   "execution_count": null,
   "id": "a94ebbcb",
   "metadata": {},
   "outputs": [],
   "source": [
    "class Solution(object):\n",
    "    def duplicateZeros(self, arr):\n",
    "        \"\"\"\n",
    "        :type arr: List[int]\n",
    "        :rtype: None Do not return anything, modify arr in-place instead.\n",
    "        \"\"\"\n",
    "        arr_copy = arr[:]\n",
    "        index, n = 0, len(arr_copy)\n",
    "        for elem in arr_copy:\n",
    "            arr[index] = elem\n",
    "            index += 1\n",
    "            if index >= n:\n",
    "                break\n",
    "            if elem == 0:\n",
    "                arr[index] = elem\n",
    "                index += 1\n",
    "                if index >= n:\n",
    "                    break"
   ]
  }
 ],
 "metadata": {
  "jupytext": {
   "cell_metadata_filter": "-all",
   "main_language": "python",
   "notebook_metadata_filter": "-all"
  }
 },
 "nbformat": 4,
 "nbformat_minor": 5
}
