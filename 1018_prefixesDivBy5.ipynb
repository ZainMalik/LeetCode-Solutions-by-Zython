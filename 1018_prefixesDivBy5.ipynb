{
 "cells": [
  {
   "cell_type": "code",
   "execution_count": null,
   "id": "107a651f",
   "metadata": {
    "lines_to_next_cell": 1
   },
   "outputs": [],
   "source": [
    "'''\n",
    "Given an array A of 0s and 1s, consider N_i: the i-th subarray from A[0] to A[i] interpreted as a binary number (from most-significant-bit to least-significant-bit.)\n",
    "\n",
    "Return a list of booleans answer, where answer[i] is true if and only if N_i is divisible by 5.\n",
    "\n",
    "Example 1:\n",
    "\n",
    "Input: [0,1,1]\n",
    "Output: [true,false,false]\n",
    "Explanation: \n",
    "The input numbers in binary are 0, 01, 011; which are 0, 1, and 3 in base-10.  Only the first number is divisible by 5, so answer[0] is true.\n",
    "Example 2:\n",
    "\n",
    "Input: [1,1,1]\n",
    "Output: [false,false,false]\n",
    "\n",
    "Note:\n",
    "\n",
    "1 <= A.length <= 30000\n",
    "A[i] is 0 or 1\n",
    "'''"
   ]
  },
  {
   "cell_type": "code",
   "execution_count": null,
   "id": "3958722a",
   "metadata": {},
   "outputs": [],
   "source": [
    "class Solution(object):\n",
    "    def prefixesDivBy5(self, A):\n",
    "        \"\"\"\n",
    "        :type A: List[int]\n",
    "        :rtype: List[bool]\n",
    "        \"\"\"\n",
    "        result = []\n",
    "        if not A:\n",
    "            return []\n",
    "        str_bin = ''\n",
    "        for val in A:\n",
    "            str_bin += str(val)\n",
    "            if(int(str_bin, 2)%5 == 0):\n",
    "                result.append(True)\n",
    "            else:\n",
    "                result.append(False)\n",
    "        return result"
   ]
  }
 ],
 "metadata": {
  "jupytext": {
   "cell_metadata_filter": "-all",
   "main_language": "python",
   "notebook_metadata_filter": "-all"
  }
 },
 "nbformat": 4,
 "nbformat_minor": 5
}
