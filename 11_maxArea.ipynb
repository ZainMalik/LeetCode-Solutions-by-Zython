{
 "cells": [
  {
   "cell_type": "code",
   "execution_count": null,
   "id": "0a83b72c",
   "metadata": {
    "lines_to_next_cell": 1
   },
   "outputs": [],
   "source": [
    "'''\n",
    "\tGiven n non-negative integers a1, a2, ..., an, where each represents a point at coordinate (i, ai). n vertical lines are drawn such that the two endpoints of line i is at (i, ai) and (i, 0). Find two lines, which together with x-axis forms a container, such that the container contains the most water.\n",
    "\n",
    "\tNote: You may not slant the container and n is at least 2.\n",
    "\n",
    "'''"
   ]
  },
  {
   "cell_type": "code",
   "execution_count": null,
   "id": "c464575e",
   "metadata": {},
   "outputs": [],
   "source": [
    "class Solution(object):\n",
    "    def maxArea(self, height):\n",
    "        \"\"\"\n",
    "        :type height: List[int]\n",
    "        :rtype: int\n",
    "        \"\"\"\n",
    "        left, right, maxArea = 0, len(height) - 1, 0 \n",
    "\n",
    "        while left < right:\n",
    "        \tmaxArea = max(maxArea, min(height[left], height[right])*(right-left))\n",
    "        \tif height[left] < height[right]:\n",
    "        \t\tleft += 1\n",
    "        \telse:\n",
    "        \t\tright -= 1\n",
    "\n",
    "        return maxArea "
   ]
  },
  {
   "cell_type": "markdown",
   "id": "ad9df815",
   "metadata": {},
   "source": [
    "Space : O(1)\n",
    "Time: O(N)"
   ]
  }
 ],
 "metadata": {
  "jupytext": {
   "cell_metadata_filter": "-all",
   "main_language": "python",
   "notebook_metadata_filter": "-all"
  }
 },
 "nbformat": 4,
 "nbformat_minor": 5
}
