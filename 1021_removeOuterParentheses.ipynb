{
 "cells": [
  {
   "cell_type": "code",
   "execution_count": null,
   "id": "a2beeee2",
   "metadata": {
    "lines_to_next_cell": 1
   },
   "outputs": [],
   "source": [
    "'''\n",
    "A valid parentheses string is either empty (\"\"), \"(\" + A + \")\", or A + B, where A and B are valid parentheses strings, and + represents string concatenation.  For example, \"\", \"()\", \"(())()\", and \"(()(()))\" are all valid parentheses strings.\n",
    "\n",
    "A valid parentheses string S is primitive if it is nonempty, and there does not exist a way to split it into S = A+B, with A and B nonempty valid parentheses strings.\n",
    "\n",
    "Given a valid parentheses string S, consider its primitive decomposition: S = P_1 + P_2 + ... + P_k, where P_i are primitive valid parentheses strings.\n",
    "\n",
    "Return S after removing the outermost parentheses of every primitive string in the primitive decomposition of S.\n",
    "\n",
    " \n",
    "\n",
    "Example 1:\n",
    "\n",
    "Input: \"(()())(())\"\n",
    "Output: \"()()()\"\n",
    "Explanation: \n",
    "The input string is \"(()())(())\", with primitive decomposition \"(()())\" + \"(())\".\n",
    "After removing outer parentheses of each part, this is \"()()\" + \"()\" = \"()()()\".\n",
    "Example 2:\n",
    "\n",
    "Input: \"(()())(())(()(()))\"\n",
    "Output: \"()()()()(())\"\n",
    "Explanation: \n",
    "The input string is \"(()())(())(()(()))\", with primitive decomposition \"(()())\" + \"(())\" + \"(()(()))\".\n",
    "After removing outer parentheses of each part, this is \"()()\" + \"()\" + \"()(())\" = \"()()()()(())\".\n",
    "Example 3:\n",
    "\n",
    "Input: \"()()\"\n",
    "Output: \"\"\n",
    "Explanation: \n",
    "The input string is \"()()\", with primitive decomposition \"()\" + \"()\".\n",
    "After removing outer parentheses of each part, this is \"\" + \"\" = \"\".\n",
    " \n",
    "\n",
    "Note:\n",
    "\n",
    "S.length <= 10000\n",
    "S[i] is \"(\" or \")\"\n",
    "S is a valid parentheses string\n",
    "'''"
   ]
  },
  {
   "cell_type": "code",
   "execution_count": null,
   "id": "e319eef8",
   "metadata": {},
   "outputs": [],
   "source": [
    "class Solution(object):\n",
    "    def removeOuterParentheses(self, S):\n",
    "        \"\"\"\n",
    "        :type S: str\n",
    "        :rtype: str\n",
    "        \"\"\"\n",
    "        temp, result = \"\", \"\"\n",
    "        start_bracket = 0\n",
    "        for char in S:\n",
    "            temp += char\n",
    "            if char == '(':\n",
    "                start_bracket += 1\n",
    "            else:\n",
    "                start_bracket -= 1\n",
    "            if start_bracket == 0:\n",
    "                result += temp[1:-1]\n",
    "                temp = \"\"\n",
    "        return result"
   ]
  }
 ],
 "metadata": {
  "jupytext": {
   "cell_metadata_filter": "-all",
   "main_language": "python",
   "notebook_metadata_filter": "-all"
  }
 },
 "nbformat": 4,
 "nbformat_minor": 5
}
