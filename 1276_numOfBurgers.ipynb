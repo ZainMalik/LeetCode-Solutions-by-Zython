{
 "cells": [
  {
   "cell_type": "code",
   "execution_count": null,
   "id": "dd857b5a",
   "metadata": {
    "lines_to_next_cell": 2
   },
   "outputs": [],
   "source": [
    "'''\n",
    "Given two integers tomatoSlices and cheeseSlices. The ingredients of different burgers are as follows:\n",
    "\n",
    "Jumbo Burger: 4 tomato slices and 1 cheese slice.\n",
    "Small Burger: 2 Tomato slices and 1 cheese slice.\n",
    "Return [total_jumbo, total_small] so that the number of remaining tomatoSlices equal to 0 and the number of remaining cheeseSlices equal to 0. If it is not possible to make the remaining tomatoSlices and cheeseSlices equal to 0 return [].\n",
    "\n",
    " \n",
    "\n",
    "Example 1:\n",
    "\n",
    "Input: tomatoSlices = 16, cheeseSlices = 7\n",
    "Output: [1,6]\n",
    "Explantion: To make one jumbo burger and 6 small burgers we need 4*1 + 2*6 = 16 tomato and 1 + 6 = 7 cheese. There will be no remaining ingredients.\n",
    "Example 2:\n",
    "\n",
    "Input: tomatoSlices = 17, cheeseSlices = 4\n",
    "Output: []\n",
    "Explantion: There will be no way to use all ingredients to make small and jumbo burgers.\n",
    "Example 3:\n",
    "\n",
    "Input: tomatoSlices = 4, cheeseSlices = 17\n",
    "Output: []\n",
    "Explantion: Making 1 jumbo burger there will be 16 cheese remaining and making 2 small burgers there will be 15 cheese remaining.\n",
    "Example 4:\n",
    "\n",
    "Input: tomatoSlices = 0, cheeseSlices = 0\n",
    "Output: [0,0]\n",
    "Example 5:\n",
    "\n",
    "Input: tomatoSlices = 2, cheeseSlices = 1\n",
    "Output: [0,1]\n",
    " \n",
    "\n",
    "Constraints:\n",
    "\n",
    "0 <= tomatoSlices <= 10^7\n",
    "0 <= cheeseSlices <= 10^7\n",
    "'''\n",
    "class Solution(object):\n",
    "    def numOfBurgers(self, tomatoSlices, cheeseSlices):\n",
    "        \"\"\"\n",
    "        :type tomatoSlices: int\n",
    "        :type cheeseSlices: int\n",
    "        :rtype: List[int]\n",
    "        \"\"\"\n",
    "        jumbo = tomatoSlices - 2*cheeseSlices\n",
    "        if jumbo >= 0 and jumbo%2 == 0:\n",
    "            x = jumbo/2\n",
    "            y = cheeseSlices-(jumbo/2)\n",
    "            if x >= 0 and y >= 0:\n",
    "                return [x, y]\n",
    "            else:\n",
    "                return []\n",
    "        return []"
   ]
  }
 ],
 "metadata": {
  "jupytext": {
   "cell_metadata_filter": "-all",
   "main_language": "python",
   "notebook_metadata_filter": "-all"
  }
 },
 "nbformat": 4,
 "nbformat_minor": 5
}
