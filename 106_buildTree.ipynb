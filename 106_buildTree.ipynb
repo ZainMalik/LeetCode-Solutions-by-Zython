{
 "cells": [
  {
   "cell_type": "code",
   "execution_count": null,
   "id": "86c07834",
   "metadata": {},
   "outputs": [],
   "source": [
    "'''\n",
    "\tGiven inorder and postorder traversal of a tree, construct the binary tree.\n",
    "\n",
    "\tNote:\n",
    "\tYou may assume that duplicates do not exist in the tree.\n",
    "\n",
    "\tFor example, given\n",
    "\n",
    "\tinorder = [9,3,15,20,7]\n",
    "\tpostorder = [9,15,7,20,3]\n",
    "\tReturn the following binary tree:\n",
    "\n",
    "\t    3\n",
    "\t   / \\\n",
    "\t  9  20\n",
    "\t    /  \\\n",
    "\t   15   7\n",
    " '''\n",
    "\n",
    " # Definition for a binary tree node.\n",
    "# class TreeNode(object):\n",
    "#     def __init__(self, x):\n",
    "#         self.val = x\n",
    "#         self.left = None\n",
    "#         self.right = None"
   ]
  },
  {
   "cell_type": "code",
   "execution_count": null,
   "id": "97d3afe1",
   "metadata": {},
   "outputs": [],
   "source": [
    "class Solution(object):\n",
    "    def buildTree(self, inorder, postorder):\n",
    "        \"\"\"\n",
    "        :type inorder: List[int]\n",
    "        :type postorder: List[int]\n",
    "        :rtype: TreeNode\n",
    "        \"\"\"\n",
    "        self.index = len(inorder)-1\n",
    "        def recursive(postorder, inorder, start, end):\n",
    "        \tif start > end:\n",
    "        \t\treturn None\n",
    "\n",
    "        \tnode = TreeNode(postorder[self.index])\n",
    "        \tself.index -= 1\n",
    "        \tif start == end:\n",
    "        \t\treturn node\n",
    "\n",
    "        \tsearch_index = 0\n",
    "        \tfor i in range(start, end+1):\n",
    "        \t\tif inorder[i] == node.val:\n",
    "        \t\t\tsearch_index = i\n",
    "        \t\t\tbreak\n",
    "        \tnode.right = recursive(postorder, inorder, search_index+1, end)\n",
    "        \tnode.left = recursive(postorder, inorder, start, search_index-1)\n",
    "        \treturn node\n",
    "\n",
    "        return recursive(postorder, inorder, 0, len(inorder)-1)"
   ]
  }
 ],
 "metadata": {
  "jupytext": {
   "cell_metadata_filter": "-all",
   "main_language": "python",
   "notebook_metadata_filter": "-all"
  }
 },
 "nbformat": 4,
 "nbformat_minor": 5
}
