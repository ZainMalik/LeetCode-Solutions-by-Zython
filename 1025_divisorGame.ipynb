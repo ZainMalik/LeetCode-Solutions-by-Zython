{
 "cells": [
  {
   "cell_type": "code",
   "execution_count": null,
   "id": "eb8238f2",
   "metadata": {
    "lines_to_next_cell": 1
   },
   "outputs": [],
   "source": [
    "'''\n",
    "Alice and Bob take turns playing a game, with Alice starting first.\n",
    "\n",
    "Initially, there is a number N on the chalkboard.  On each player's turn, that player makes a move consisting of:\n",
    "\n",
    "Choosing any x with 0 < x < N and N % x == 0.\n",
    "Replacing the number N on the chalkboard with N - x.\n",
    "Also, if a player cannot make a move, they lose the game.\n",
    "\n",
    "Return True if and only if Alice wins the game, assuming both players play optimally.\n",
    "\n",
    " \n",
    "\n",
    "Example 1:\n",
    "\n",
    "Input: 2\n",
    "Output: true\n",
    "Explanation: Alice chooses 1, and Bob has no more moves.\n",
    "Example 2:\n",
    "\n",
    "Input: 3\n",
    "Output: false\n",
    "Explanation: Alice chooses 1, Bob chooses 1, and Alice has no more moves.\n",
    " \n",
    "\n",
    "Note:\n",
    "\n",
    "1 <= N <= 1000\n",
    "'''"
   ]
  },
  {
   "cell_type": "code",
   "execution_count": null,
   "id": "949d5536",
   "metadata": {},
   "outputs": [],
   "source": [
    "class Solution(object):\n",
    "    def divisorGame(self, N):\n",
    "        \"\"\"\n",
    "        :type N: int\n",
    "        :rtype: bool\n",
    "        \"\"\"\n",
    "        if N == 0:\n",
    "            return False\n",
    "    \n",
    "        move = 0\n",
    "        while N > 1:\n",
    "            for num in range(1, N):\n",
    "                if N%num == 0:\n",
    "                    N -= num\n",
    "                    move += 1\n",
    "                    break\n",
    "        # print move\n",
    "        if move%2:\n",
    "            return True\n",
    "        return False"
   ]
  }
 ],
 "metadata": {
  "jupytext": {
   "cell_metadata_filter": "-all",
   "main_language": "python",
   "notebook_metadata_filter": "-all"
  }
 },
 "nbformat": 4,
 "nbformat_minor": 5
}
