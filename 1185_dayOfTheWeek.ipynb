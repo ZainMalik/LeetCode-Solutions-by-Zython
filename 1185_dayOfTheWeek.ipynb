{
 "cells": [
  {
   "cell_type": "code",
   "execution_count": null,
   "id": "9077426e",
   "metadata": {},
   "outputs": [],
   "source": [
    "'''\n",
    "Given a date, return the corresponding day of the week for that date.\n",
    "\n",
    "The input is given as three integers representing the day, month and year respectively.\n",
    "\n",
    "Return the answer as one of the following values {\"Sunday\", \"Monday\", \"Tuesday\", \"Wednesday\", \"Thursday\", \"Friday\", \"Saturday\"}.\n",
    "\n",
    " \n",
    "\n",
    "Example 1:\n",
    "\n",
    "Input: day = 31, month = 8, year = 2019\n",
    "Output: \"Saturday\"\n",
    "Example 2:\n",
    "\n",
    "Input: day = 18, month = 7, year = 1999\n",
    "Output: \"Sunday\"\n",
    "Example 3:\n",
    "\n",
    "Input: day = 15, month = 8, year = 1993\n",
    "Output: \"Sunday\"\n",
    " \n",
    "\n",
    "Constraints:\n",
    "\n",
    "The given dates are valid dates between the years 1971 and 2100.\n",
    "'''\n",
    "class Solution(object):\n",
    "    def dayOfTheWeek(self, day, month, year):\n",
    "        \"\"\"\n",
    "        :type day: int\n",
    "        :type month: int\n",
    "        :type year: int\n",
    "        :rtype: str\n",
    "        \"\"\"\n",
    "        day_of_week_map = [\"Sunday\", \"Monday\", \"Tuesday\", \"Wednesday\", \"Thursday\", \"Friday\", \"Saturday\"]\n",
    "        t = [ 0, 3, 2, 5, 0, 3, 5, 1, 4, 6, 2, 4 ] \n",
    "        year -= month < 3\n",
    "        return day_of_week_map[((year  + int(year / 4) - int(year / 100) + int(year / 400) + t[month - 1] + day) % 7)]"
   ]
  }
 ],
 "metadata": {
  "jupytext": {
   "cell_metadata_filter": "-all",
   "main_language": "python",
   "notebook_metadata_filter": "-all"
  }
 },
 "nbformat": 4,
 "nbformat_minor": 5
}
