{
 "cells": [
  {
   "cell_type": "code",
   "execution_count": null,
   "id": "da19b180",
   "metadata": {
    "lines_to_next_cell": 1
   },
   "outputs": [],
   "source": [
    "'''\n",
    "Return the root node of a binary search tree that matches the given preorder traversal.\n",
    "\n",
    "(Recall that a binary search tree is a binary tree where for every node, any descendant of node.left has a value < node.val, and any descendant of node.right has a value > node.val.  Also recall that a preorder traversal displays the value of the node first, then traverses node.left, then traverses node.right.)\n",
    "'''"
   ]
  },
  {
   "cell_type": "markdown",
   "id": "762e4c02",
   "metadata": {},
   "source": [
    "Definition for a binary tree node.\n",
    "class TreeNode(object):\n",
    "    def __init__(self, x):\n",
    "        self.val = x\n",
    "        self.left = None\n",
    "        self.right = None"
   ]
  },
  {
   "cell_type": "code",
   "execution_count": null,
   "id": "0fbb06f0",
   "metadata": {
    "lines_to_next_cell": 2
   },
   "outputs": [],
   "source": [
    "class Solution(object):\n",
    "    def bstFromPreorder(self, preorder):\n",
    "        \"\"\"\n",
    "        :type preorder: List[int]\n",
    "        :rtype: TreeNode\n",
    "        \"\"\"\n",
    "        root = TreeNode(preorder[0])\n",
    "        stack = [root]\n",
    "        for index in range(1, len(preorder)):\n",
    "            new_node = TreeNode(preorder[index])\n",
    "            if new_node.val < stack[-1].val:\n",
    "                stack[-1].left = new_node\n",
    "            else:\n",
    "                parent = None\n",
    "                while stack and new_node.val > stack[-1].val:\n",
    "                    parent = stack.pop()\n",
    "                parent.right = new_node\n",
    "            stack.append(new_node)\n",
    "        return root"
   ]
  }
 ],
 "metadata": {
  "jupytext": {
   "cell_metadata_filter": "-all",
   "main_language": "python",
   "notebook_metadata_filter": "-all"
  }
 },
 "nbformat": 4,
 "nbformat_minor": 5
}
