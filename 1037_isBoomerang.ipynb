{
 "cells": [
  {
   "cell_type": "code",
   "execution_count": null,
   "id": "6dbcbd25",
   "metadata": {
    "lines_to_next_cell": 1
   },
   "outputs": [],
   "source": [
    "'''\n",
    "A boomerang is a set of 3 points that are all distinct and not in a straight line.\n",
    "\n",
    "Given a list of three points in the plane, return whether these points are a boomerang.\n",
    "\n",
    " \n",
    "\n",
    "Example 1:\n",
    "\n",
    "Input: [[1,1],[2,3],[3,2]]\n",
    "Output: true\n",
    "Example 2:\n",
    "\n",
    "Input: [[1,1],[2,2],[3,3]]\n",
    "Output: false\n",
    " \n",
    "\n",
    "Note:\n",
    "\n",
    "points.length == 3\n",
    "points[i].length == 2\n",
    "0 <= points[i][j] <= 100\n",
    "'''"
   ]
  },
  {
   "cell_type": "code",
   "execution_count": null,
   "id": "a65fdc0b",
   "metadata": {},
   "outputs": [],
   "source": [
    "class Solution(object):\n",
    "    def isBoomerang(self, points):\n",
    "        \"\"\"\n",
    "        :type points: List[List[int]]\n",
    "        :rtype: bool\n",
    "        \"\"\"\n",
    "        x1, x2, x3, y1, y2, y3 = points[0][0], points[1][0], points[2][0], points[0][1], points[1][1] ,points[2][1]\n",
    "        if ((y3 - y2)*(x2 - x1) == (y2 - y1)*(x3 - x2)):\n",
    "            return False\n",
    "        return True"
   ]
  }
 ],
 "metadata": {
  "jupytext": {
   "cell_metadata_filter": "-all",
   "main_language": "python",
   "notebook_metadata_filter": "-all"
  }
 },
 "nbformat": 4,
 "nbformat_minor": 5
}
