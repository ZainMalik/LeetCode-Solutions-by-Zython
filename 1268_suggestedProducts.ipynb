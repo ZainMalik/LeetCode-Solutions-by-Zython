{
 "cells": [
  {
   "cell_type": "code",
   "execution_count": null,
   "id": "65da0232",
   "metadata": {
    "lines_to_next_cell": 1
   },
   "outputs": [],
   "source": [
    "'''\n",
    "Given an array of strings products and a string searchWord. We want to design a system that suggests at most three product names from products after each character of searchWord is typed. Suggested products should have common prefix with the searchWord. If there are more than three products with a common prefix return the three lexicographically minimums products.\n",
    "\n",
    "Return list of lists of the suggested products after each character of searchWord is typed. \n",
    "\n",
    " \n",
    "\n",
    "Example 1:\n",
    "\n",
    "Input: products = [\"mobile\",\"mouse\",\"moneypot\",\"monitor\",\"mousepad\"], searchWord = \"mouse\"\n",
    "Output: [\n",
    "[\"mobile\",\"moneypot\",\"monitor\"],\n",
    "[\"mobile\",\"moneypot\",\"monitor\"],\n",
    "[\"mouse\",\"mousepad\"],\n",
    "[\"mouse\",\"mousepad\"],\n",
    "[\"mouse\",\"mousepad\"]\n",
    "]\n",
    "Explanation: products sorted lexicographically = [\"mobile\",\"moneypot\",\"monitor\",\"mouse\",\"mousepad\"]\n",
    "After typing m and mo all products match and we show user [\"mobile\",\"moneypot\",\"monitor\"]\n",
    "After typing mou, mous and mouse the system suggests [\"mouse\",\"mousepad\"]\n",
    "Example 2:\n",
    "\n",
    "Input: products = [\"havana\"], searchWord = \"havana\"\n",
    "Output: [[\"havana\"],[\"havana\"],[\"havana\"],[\"havana\"],[\"havana\"],[\"havana\"]]\n",
    "Example 3:\n",
    "\n",
    "Input: products = [\"bags\",\"baggage\",\"banner\",\"box\",\"cloths\"], searchWord = \"bags\"\n",
    "Output: [[\"baggage\",\"bags\",\"banner\"],[\"baggage\",\"bags\",\"banner\"],[\"baggage\",\"bags\"],[\"bags\"]]\n",
    "Example 4:\n",
    "\n",
    "Input: products = [\"havana\"], searchWord = \"tatiana\"\n",
    "Output: [[],[],[],[],[],[],[]]\n",
    " \n",
    "\n",
    "Constraints:\n",
    "\n",
    "1 <= products.length <= 1000\n",
    "There are no repeated elements in products.\n",
    "1 <= Σ products[i].length <= 2 * 10^4\n",
    "All characters of products[i] are lower-case English letters.\n",
    "1 <= searchWord.length <= 1000\n",
    "All characters of searchWord are lower-case English letters.\n",
    "'''\n",
    "class TrieNode(object):\n",
    "    def __init__(self):\n",
    "        self.words = []\n",
    "        self.children = {}"
   ]
  },
  {
   "cell_type": "code",
   "execution_count": null,
   "id": "14919e23",
   "metadata": {
    "lines_to_next_cell": 1
   },
   "outputs": [],
   "source": [
    "class Trie(object):\n",
    "    def __init__(self):\n",
    "        self.root = TrieNode()\n",
    "        \n",
    "    def insert(self, word):\n",
    "        node = self.root\n",
    "        for char in word:\n",
    "            if char not in node.children:\n",
    "                node.children[char] = TrieNode()\n",
    "            node = node.children[char]\n",
    "            node.words.append(word)\n",
    "            node.words.sort()\n",
    "            if len(node.words) > 3:\n",
    "                node.words = node.words[:3]\n",
    "                \n",
    "    def search(self, word):\n",
    "        result, node = [], self.root\n",
    "        for char in word:\n",
    "            if char not in node.children:\n",
    "                break\n",
    "            node = node.children[char]\n",
    "            result.append(node.words[:])\n",
    "        for _ in range(len(word) - len(result)):\n",
    "            result.append([])\n",
    "        return result"
   ]
  },
  {
   "cell_type": "code",
   "execution_count": null,
   "id": "49fedd35",
   "metadata": {},
   "outputs": [],
   "source": [
    "class Solution(object):\n",
    "    def suggestedProducts(self, products, searchWord):\n",
    "        \"\"\"\n",
    "        :type products: List[str]\n",
    "        :type searchWord: str\n",
    "        :rtype: List[List[str]]\n",
    "        \"\"\"\n",
    "        trie = Trie()\n",
    "        for product in products:\n",
    "            trie.insert(product)\n",
    "        return trie.search(searchWord)"
   ]
  }
 ],
 "metadata": {
  "jupytext": {
   "cell_metadata_filter": "-all",
   "main_language": "python",
   "notebook_metadata_filter": "-all"
  }
 },
 "nbformat": 4,
 "nbformat_minor": 5
}
