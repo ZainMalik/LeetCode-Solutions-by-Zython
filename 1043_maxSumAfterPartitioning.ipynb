{
 "cells": [
  {
   "cell_type": "code",
   "execution_count": null,
   "id": "3d14c968",
   "metadata": {
    "lines_to_next_cell": 1
   },
   "outputs": [],
   "source": [
    "'''\n",
    "Given an integer array A, you partition the array into (contiguous) subarrays of length at most K.  After partitioning, each subarray has their values changed to become the maximum value of that subarray.\n",
    "\n",
    "Return the largest sum of the given array after partitioning.\n",
    "\n",
    " \n",
    "\n",
    "Example 1:\n",
    "\n",
    "Input: A = [1,15,7,9,2,5,10], K = 3\n",
    "Output: 84\n",
    "Explanation: A becomes [15,15,15,9,10,10,10]\n",
    " \n",
    "\n",
    "Note:\n",
    "\n",
    "1 <= K <= A.length <= 500\n",
    "0 <= A[i] <= 10^6\n",
    "'''"
   ]
  },
  {
   "cell_type": "code",
   "execution_count": null,
   "id": "0f209e8a",
   "metadata": {},
   "outputs": [],
   "source": [
    "class Solution(object):\n",
    "    def maxSumAfterPartitioning(self, A, K):\n",
    "        \"\"\"\n",
    "        :type A: List[int]\n",
    "        :type K: int\n",
    "        :rtype: int\n",
    "        \"\"\"\n",
    "        if not A:\n",
    "            return 0\n",
    "        \n",
    "        N = len(A)\n",
    "        dp = [0]*(N+1)\n",
    "        for index_i in range(N):\n",
    "            maxi = 0\n",
    "            for index_j in range(index_i, index_i-K, -1):\n",
    "                if index_j >= 0 and index_j < len(A):\n",
    "                    maxi = max(maxi, A[index_j])\n",
    "                    \n",
    "                    dp[index_i+1] = max(dp[index_i+1], maxi*(index_i-index_j+1)+dp[index_j])\n",
    "            # print index_i, maxi\n",
    "            # print dp\n",
    "                    \n",
    "        return dp[-1]"
   ]
  }
 ],
 "metadata": {
  "jupytext": {
   "cell_metadata_filter": "-all",
   "main_language": "python",
   "notebook_metadata_filter": "-all"
  }
 },
 "nbformat": 4,
 "nbformat_minor": 5
}
