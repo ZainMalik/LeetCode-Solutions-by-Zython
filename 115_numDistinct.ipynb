{
 "cells": [
  {
   "cell_type": "code",
   "execution_count": null,
   "id": "960025d6",
   "metadata": {
    "lines_to_next_cell": 1
   },
   "outputs": [],
   "source": [
    "'''\n",
    "    Given a string S and a string T, count the number of distinct subsequences of S which equals T.\n",
    "\n",
    "    A subsequence of a string is a new string which is formed from the original string by deleting some (can be none) of the characters without disturbing the relative positions of the remaining characters. (ie, \"ACE\" is a subsequence of \"ABCDE\" while \"AEC\" is not).\n",
    "\n",
    "    Example 1:\n",
    "\n",
    "    Input: S = \"rabbbit\", T = \"rabbit\"\n",
    "    Output: 3\n",
    "    Explanation:\n",
    "\n",
    "    As shown below, there are 3 ways you can generate \"rabbit\" from S.\n",
    "    (The caret symbol ^ means the chosen letters)\n",
    "\n",
    "    rabbbit\n",
    "    ^^^^ ^^\n",
    "    rabbbit\n",
    "    ^^ ^^^^\n",
    "    rabbbit\n",
    "    ^^^ ^^^\n",
    "'''"
   ]
  },
  {
   "cell_type": "code",
   "execution_count": null,
   "id": "ce311ad5",
   "metadata": {},
   "outputs": [],
   "source": [
    "class Solution(object):\n",
    "    def numDistinct(self, s, t):\n",
    "        \"\"\"\n",
    "        :type s: str\n",
    "        :type t: str\n",
    "        :rtype: int\n",
    "        \"\"\"\n",
    "\n",
    "        row, col = len(s), len(t)\n",
    "\n",
    "        if col > row:\n",
    "        \treturn 0\n",
    "\n",
    "        dp = [[0 for _ in range(col+1)] for _ in range(row+1)]\n",
    "\n",
    "        for r in range(row+1):\n",
    "        \tfor c in range(col+1):\n",
    "        \t\tif r == 0 and c == 0:\n",
    "        \t\t\tdp[r][c] = 1\n",
    "        \t\telif r == 0:\n",
    "        \t\t\tdp[r][c] = 0\n",
    "        \t\telif c == 0:\n",
    "        \t\t\tdp[r][c] = 1\n",
    "        \t\telse:\n",
    "        \t\t\tdp[r][c] = dp[r-1][c]\n",
    "        \t\t\tif s[r-1] == t[c-1]:\n",
    "        \t\t\t\tdp[r][c] += dp[r-1][c-1]\n",
    "        return dp[row][col] "
   ]
  }
 ],
 "metadata": {
  "jupytext": {
   "cell_metadata_filter": "-all",
   "main_language": "python",
   "notebook_metadata_filter": "-all"
  }
 },
 "nbformat": 4,
 "nbformat_minor": 5
}
