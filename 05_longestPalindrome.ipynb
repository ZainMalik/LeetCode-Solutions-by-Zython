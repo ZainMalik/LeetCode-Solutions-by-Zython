{
 "cells": [
  {
   "cell_type": "code",
   "execution_count": null,
   "id": "99e995fa",
   "metadata": {
    "lines_to_next_cell": 1
   },
   "outputs": [],
   "source": [
    "'''\n",
    "\tGiven a string s, find the longest palindromic substring in s. You may assume that the maximum length of s is 1000.\n",
    "\n",
    "\tExample 1:\n",
    "\n",
    "\tInput: \"babad\"\n",
    "\tOutput: \"bab\"\n",
    "\tNote: \"aba\" is also a valid answer.\n",
    "\tExample 2:\n",
    "\n",
    "\tInput: \"cbbd\"\n",
    "\tOutput: \"bb\"\n",
    "'''"
   ]
  },
  {
   "cell_type": "code",
   "execution_count": null,
   "id": "1edacbf5",
   "metadata": {
    "lines_to_next_cell": 1
   },
   "outputs": [],
   "source": [
    "class Solution(object):\n",
    "    def longestPalindrome(self, s):\n",
    "        \"\"\"\n",
    "        :type s: str\n",
    "        :rtype: str\n",
    "        \"\"\"\n",
    "        dp = [[0 for _ in range(len(s))] for _ in range(len(s))]\n",
    "        maxLength, result = 1, \"\"\n",
    "        for index in range(len(s)):\n",
    "        \tdp[index][index] = 1\n",
    "        \tresult = s[index]\n",
    "\n",
    "        length = 2\n",
    "        \n",
    "        while length <= len(s):\n",
    "        \tindex_i = 0\n",
    "        \twhile index_i < len(s) - length + 1:\n",
    "        \t\tindex_j = index_i + length -1\n",
    "\n",
    "        \t\tif length == 2 and s[index_i] == s[index_j]:\n",
    "        \t\t\tdp[index_i][index_j] = 1\n",
    "        \t\t\tmaxLength = max(maxLength, 2)\n",
    "        \t\t\tresult = s[index_i:index_j+1]\n",
    "        \t\telif s[index_i] == s[index_j] and dp[index_i+1][index_j-1]:\n",
    "        \t\t\tdp[index_i][index_j] = 1\n",
    "        \t\t\tif length > maxLength:\n",
    "        \t\t\t\tmaxLength = length\n",
    "        \t\t\t\tresult = s[index_i:index_j+1]\n",
    "\n",
    "        \t\tindex_i += 1\n",
    "        \tlength += 1\n",
    "\n",
    "        return result"
   ]
  },
  {
   "cell_type": "markdown",
   "id": "9e10a1ed",
   "metadata": {},
   "source": [
    "Space: O(N^2)\n",
    "Time: O(N^2)"
   ]
  },
  {
   "cell_type": "code",
   "execution_count": null,
   "id": "b6ead357",
   "metadata": {},
   "outputs": [],
   "source": [
    "class Solution(object):\n",
    "    def longestPalindrome(self, s):\n",
    "        \"\"\"\n",
    "        :type s: str\n",
    "        :rtype: str\n",
    "        \"\"\"\n",
    "\n",
    "        def expand(s, left, right):\n",
    "        \twhile left >= 0 and right < len(s) and s[left] == s[right]:\n",
    "        \t\tleft -= 1\n",
    "        \t\tright += 1\n",
    "        \treturn right-left-1\n",
    "\n",
    "        start, end = 0, 0\n",
    "        for index in range(len(s)):\n",
    "        \teven_len = expand(s, index, index+1)\n",
    "        \todd_len = expand(s, index, index)\n",
    "        \tlength = max(even_len, odd_len)\n",
    "        \tif length > (end-start):\n",
    "        \t\tstart = index - (length-1)/2\n",
    "        \t\tend = index +length/2\n",
    "\n",
    "        return s[start:end+1]"
   ]
  }
 ],
 "metadata": {
  "jupytext": {
   "cell_metadata_filter": "-all",
   "main_language": "python",
   "notebook_metadata_filter": "-all"
  }
 },
 "nbformat": 4,
 "nbformat_minor": 5
}
