{
 "cells": [
  {
   "cell_type": "code",
   "execution_count": null,
   "id": "08b50c45",
   "metadata": {
    "lines_to_next_cell": 1
   },
   "outputs": [],
   "source": [
    "'''\n",
    "Given an array of integers, return the maximum sum for a non-empty subarray (contiguous elements) with at most one element deletion. In other words, you want to choose a subarray and optionally delete one element from it so that there is still at least one element left and the sum of the remaining elements is maximum possible.\n",
    "\n",
    "Note that the subarray needs to be non-empty after deleting one element.\n",
    "\n",
    " \n",
    "\n",
    "Example 1:\n",
    "\n",
    "Input: arr = [1,-2,0,3]\n",
    "Output: 4\n",
    "Explanation: Because we can choose [1, -2, 0, 3] and drop -2, thus the subarray [1, 0, 3] becomes the maximum value.\n",
    "Example 2:\n",
    "\n",
    "Input: arr = [1,-2,-2,3]\n",
    "Output: 3\n",
    "Explanation: We just choose [3] and it's the maximum sum.\n",
    "Example 3:\n",
    "\n",
    "Input: arr = [-1,-1,-1,-1]\n",
    "Output: -1\n",
    "Explanation: The final subarray needs to be non-empty. You can't choose [-1] and delete -1 from it, then get an empty subarray to make the sum equals to 0.\n",
    " \n",
    "\n",
    "Constraints:\n",
    "\n",
    "1 <= arr.length <= 10^5\n",
    "-10^4 <= arr[i] <= 10^4\n",
    "'''"
   ]
  },
  {
   "cell_type": "code",
   "execution_count": null,
   "id": "7ebbceb4",
   "metadata": {},
   "outputs": [],
   "source": [
    "class Solution(object):\n",
    "    def maximumSum(self, arr):\n",
    "        \"\"\"\n",
    "        :type arr: List[int]\n",
    "        :rtype: int\n",
    "        \"\"\"\n",
    "        forward = [0] * len(arr)\n",
    "        backward = [0] * len(arr)\n",
    "        \n",
    "        curr_max, max_so_far = arr[0], arr[0]\n",
    "        forward[0] = arr[0]\n",
    "        for index in range(1, len(arr)):\n",
    "            curr_max = max(arr[index], curr_max + arr[index])\n",
    "            max_so_far = max(max_so_far, curr_max)\n",
    "            \n",
    "            forward[index] = curr_max\n",
    "            \n",
    "        curr_max = arr[len(arr) - 1]\n",
    "        max_so_far = arr[len(arr) - 1]\n",
    "        backward[len(arr) - 1] = arr[len(arr) - 1]\n",
    "        \n",
    "        index = len(arr) - 2\n",
    "        while index >= 0:\n",
    "            curr_max = max(arr[index], curr_max + arr[index])\n",
    "            max_so_far = max(max_so_far, curr_max)\n",
    "            \n",
    "            backward[index] = curr_max\n",
    "            index -= 1\n",
    "            \n",
    "        result = max_so_far\n",
    "        for index in range(1, len(arr)-1):\n",
    "            result = max(result, forward[index-1] + backward[index + 1])\n",
    "        return result"
   ]
  }
 ],
 "metadata": {
  "jupytext": {
   "cell_metadata_filter": "-all",
   "main_language": "python",
   "notebook_metadata_filter": "-all"
  }
 },
 "nbformat": 4,
 "nbformat_minor": 5
}
