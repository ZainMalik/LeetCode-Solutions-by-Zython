{
 "cells": [
  {
   "cell_type": "code",
   "execution_count": null,
   "id": "c5548a02",
   "metadata": {
    "lines_to_next_cell": 1
   },
   "outputs": [],
   "source": [
    "'''\n",
    "\tGiven a non-empty string s and a dictionary wordDict containing a list of non-empty words, determine if s can be segmented into a space-separated sequence of one or more dictionary words.\n",
    "\n",
    "\tNote:\n",
    "\n",
    "\tThe same word in the dictionary may be reused multiple times in the segmentation.\n",
    "\tYou may assume the dictionary does not contain duplicate words.\n",
    "\tExample 1:\n",
    "\n",
    "\tInput: s = \"leetcode\", wordDict = [\"leet\", \"code\"]\n",
    "\tOutput: true\n",
    "\tExplanation: Return true because \"leetcode\" can be segmented as \"leet code\".\n",
    "'''"
   ]
  },
  {
   "cell_type": "markdown",
   "id": "f05959bf",
   "metadata": {},
   "source": [
    "Definition for a binary tree node.\n",
    "class TreeNode(object):\n",
    "    def __init__(self, x):\n",
    "        self.val = x\n",
    "        self.left = None\n",
    "        self.right = None"
   ]
  },
  {
   "cell_type": "code",
   "execution_count": null,
   "id": "f14b1d7e",
   "metadata": {},
   "outputs": [],
   "source": [
    "class Solution(object):\n",
    "    def buildTree(self, preorder, inorder):\n",
    "        \"\"\"\n",
    "        :type preorder: List[int]\n",
    "        :type inorder: List[int]\n",
    "        :rtype: TreeNode\n",
    "        \"\"\"\n",
    "        self.index = 0\n",
    "        def recursive(preorder, inorder, start, end):\n",
    "        \tif start > end:\n",
    "        \t\treturn None\n",
    "\n",
    "        \tnode = TreeNode(preorder[self.index])\n",
    "        \tself.index += 1\n",
    "        \tif start == end:\n",
    "        \t\treturn node\n",
    "\n",
    "        \tsearch_index = 0\n",
    "        \tfor i in range(start, end+1):\n",
    "        \t\tif inorder[i] == node.val:\n",
    "        \t\t\tsearch_index = i\n",
    "        \t\t\tbreak\n",
    "\n",
    "        \tnode.left = recursive(preorder, inorder, start, search_index-1)\n",
    "        \tnode.right = recursive(preorder, inorder, search_index+1, end)\n",
    "        \treturn node\n",
    "\n",
    "        return recursive(preorder, inorder, 0, len(inorder)-1)"
   ]
  }
 ],
 "metadata": {
  "jupytext": {
   "cell_metadata_filter": "-all",
   "main_language": "python",
   "notebook_metadata_filter": "-all"
  }
 },
 "nbformat": 4,
 "nbformat_minor": 5
}
