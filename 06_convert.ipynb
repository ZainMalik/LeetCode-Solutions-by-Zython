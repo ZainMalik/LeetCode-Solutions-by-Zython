{
 "cells": [
  {
   "cell_type": "code",
   "execution_count": null,
   "id": "72f67516",
   "metadata": {
    "lines_to_next_cell": 1
   },
   "outputs": [],
   "source": [
    "'''\n",
    "\tThe string \"PAYPALISHIRING\" is written in a zigzag pattern on a given number of rows like this: (you may want to display this pattern in a fixed font for better legibility)\n",
    "\n",
    "\tP   A   H   N\n",
    "\tA P L S I I G\n",
    "\tY   I   R\n",
    "\n",
    "\tAnd then read line by line: \"PAHNAPLSIIGYIR\"\n",
    "'''"
   ]
  },
  {
   "cell_type": "code",
   "execution_count": null,
   "id": "58e85512",
   "metadata": {
    "lines_to_next_cell": 1
   },
   "outputs": [],
   "source": [
    "class Solution(object):\n",
    "    def convert(self, s, numRows):\n",
    "        \"\"\"\n",
    "        :type s: str\n",
    "        :type numRows: int\n",
    "        :rtype: str\n",
    "        \"\"\"\n",
    "        \n",
    "        if numRows == 1:\n",
    "        \treturn s\n",
    "\n",
    "        result = [\"\" for _ in range(numRows)]\n",
    "        row, down = 0, 1\n",
    "        for char in s:\n",
    "        \tresult[row] += char\n",
    "\n",
    "        \tif row == numRows - 1:\n",
    "        \t\tdown = 0\n",
    "        \tif row == 0:\n",
    "        \t\tdown = 1\n",
    "\n",
    "        \tif down:\n",
    "        \t\trow += 1\n",
    "        \telse:\n",
    "        \t\trow -= 1\n",
    "        final_string = \"\"\n",
    "        for value in result:\n",
    "        \tfinal_string += value\n",
    "        return final_string"
   ]
  },
  {
   "cell_type": "code",
   "execution_count": null,
   "id": "3a659c41",
   "metadata": {},
   "outputs": [],
   "source": [
    "print Solution().convert(\"PAYPALISHIRING\",3)"
   ]
  }
 ],
 "metadata": {
  "jupytext": {
   "cell_metadata_filter": "-all",
   "main_language": "python",
   "notebook_metadata_filter": "-all"
  }
 },
 "nbformat": 4,
 "nbformat_minor": 5
}
