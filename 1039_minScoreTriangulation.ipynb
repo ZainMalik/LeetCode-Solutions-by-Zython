{
 "cells": [
  {
   "cell_type": "code",
   "execution_count": null,
   "id": "8c7225bf",
   "metadata": {
    "lines_to_next_cell": 1
   },
   "outputs": [],
   "source": [
    "'''\n",
    "Given N, consider a convex N-sided polygon with vertices labelled A[0], A[i], ..., A[N-1] in clockwise order.\n",
    "\n",
    "Suppose you triangulate the polygon into N-2 triangles.  For each triangle, the value of that triangle is the product of the labels of the vertices, and the total score of the triangulation is the sum of these values over all N-2 triangles in the triangulation.\n",
    "\n",
    "Return the smallest possible total score that you can achieve with some triangulation of the polygon.\n",
    "\n",
    " \n",
    "\n",
    "Example 1:\n",
    "\n",
    "Input: [1,2,3]\n",
    "Output: 6\n",
    "Explanation: The polygon is already triangulated, and the score of the only triangle is 6.\n",
    "Example 2:\n",
    "\n",
    "3 - 7\t3 -\t7\n",
    "| / |\t| \\ |\n",
    "5 - 4\t5 -\t4\n",
    "\n",
    "Input: [3,7,4,5]\n",
    "Output: 144\n",
    "Explanation: There are two triangulations, with possible scores: 3*7*5 + 4*5*7 = 245, or 3*4*5 + 3*4*7 = 144.  The minimum score is 144.\n",
    "Example 3:\n",
    "\n",
    "Input: [1,3,1,4,1,5]\n",
    "Output: 13\n",
    "Explanation: The minimum score triangulation has score 1*1*3 + 1*1*4 + 1*1*5 + 1*1*1 = 13.\n",
    " \n",
    "\n",
    "Note:\n",
    "\n",
    "3 <= A.length <= 50\n",
    "1 <= A[i] <= 100\n",
    "'''"
   ]
  },
  {
   "cell_type": "code",
   "execution_count": null,
   "id": "f11b6127",
   "metadata": {},
   "outputs": [],
   "source": [
    "class Solution(object):\n",
    "    def minScoreTriangulation(self, A):\n",
    "        \"\"\"\n",
    "        :type A: List[int]\n",
    "        :rtype: int\n",
    "        \"\"\"\n",
    "        \n",
    "        n = len(A)\n",
    "        dp = [[0]*n for _ in range(n)]\n",
    "        for length in range(n):\n",
    "            index_i = 0\n",
    "            for index_j in range(length, n):\n",
    "                if index_j < index_i+2:\n",
    "                    dp[index_i][index_j] = 0\n",
    "                else:\n",
    "                    dp[index_i][index_j] = float('inf')\n",
    "                    for index_k in range(index_i+1, index_j):\n",
    "                        val = dp[index_i][index_k] + dp[index_k][index_j] + (A[index_i]*A[index_k]*A[index_j])\n",
    "                        dp[index_i][index_j] = min(dp[index_i][index_j], val)\n",
    "                index_i += 1\n",
    "        return dp[0][n-1]"
   ]
  }
 ],
 "metadata": {
  "jupytext": {
   "cell_metadata_filter": "-all",
   "main_language": "python",
   "notebook_metadata_filter": "-all"
  }
 },
 "nbformat": 4,
 "nbformat_minor": 5
}
