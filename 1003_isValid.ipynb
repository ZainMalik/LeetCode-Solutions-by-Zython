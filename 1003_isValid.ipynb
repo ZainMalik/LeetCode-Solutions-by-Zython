{
 "cells": [
  {
   "cell_type": "code",
   "execution_count": null,
   "id": "5a51af77",
   "metadata": {
    "lines_to_next_cell": 1
   },
   "outputs": [],
   "source": [
    "'''\n",
    "We are given that the string \"abc\" is valid.\n",
    "\n",
    "From any valid string V, we may split V into two pieces X and Y such that X + Y (X concatenated with Y) is equal to V.  (X or Y may be empty.)  Then, X + \"abc\" + Y is also valid.\n",
    "\n",
    "If for example S = \"abc\", then examples of valid strings are: \"abc\", \"aabcbc\", \"abcabc\", \"abcabcababcc\".  Examples of invalid strings are: \"abccba\", \"ab\", \"cababc\", \"bac\".\n",
    "\n",
    "Return true if and only if the given string S is valid.\n",
    "\n",
    " \n",
    "\n",
    "Example 1:\n",
    "\n",
    "Input: \"aabcbc\"\n",
    "Output: true\n",
    "Explanation: \n",
    "We start with the valid string \"abc\".\n",
    "Then we can insert another \"abc\" between \"a\" and \"bc\", resulting in \"a\" + \"abc\" + \"bc\" which is \"aabcbc\".\n",
    "Example 2:\n",
    "\n",
    "Input: \"abcabcababcc\"\n",
    "Output: true\n",
    "Explanation: \n",
    "\"abcabcabc\" is valid after consecutive insertings of \"abc\".\n",
    "Then we can insert \"abc\" before the last letter, resulting in \"abcabcab\" + \"abc\" + \"c\" which is \"abcabcababcc\".\n",
    "Example 3:\n",
    "\n",
    "Input: \"abccba\"\n",
    "Output: false\n",
    "Example 4:\n",
    "\n",
    "Input: \"cababc\"\n",
    "Output: false\n",
    " \n",
    "\n",
    "Note:\n",
    "\n",
    "1 <= S.length <= 20000\n",
    "S[i] is 'a', 'b', or 'c'\n",
    "'''"
   ]
  },
  {
   "cell_type": "code",
   "execution_count": null,
   "id": "99cfc729",
   "metadata": {
    "lines_to_next_cell": 2
   },
   "outputs": [],
   "source": [
    "class Solution(object):\n",
    "    def isValid(self, S):\n",
    "        \"\"\"\n",
    "        :type S: str\n",
    "        :rtype: bool\n",
    "        \"\"\"\n",
    "        stack = []\n",
    "        if not S:\n",
    "            return False\n",
    "        \n",
    "        for char in S:\n",
    "            if char == 'a':\n",
    "                stack.append('a')\n",
    "            if char == 'b':\n",
    "                if not stack:\n",
    "                    return False\n",
    "                if stack[-1] == 'a':\n",
    "                    stack.pop()\n",
    "                    stack.append(char)\n",
    "            if char == 'c':\n",
    "                if not stack:\n",
    "                    return False\n",
    "                if stack[-1] == 'b':\n",
    "                    stack.pop()\n",
    "        return len(stack) == 0"
   ]
  }
 ],
 "metadata": {
  "jupytext": {
   "cell_metadata_filter": "-all",
   "main_language": "python",
   "notebook_metadata_filter": "-all"
  }
 },
 "nbformat": 4,
 "nbformat_minor": 5
}
