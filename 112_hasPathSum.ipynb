{
 "cells": [
  {
   "cell_type": "code",
   "execution_count": null,
   "id": "5252e70b",
   "metadata": {},
   "outputs": [],
   "source": [
    "'''\n",
    "\tGiven a binary tree and a sum, determine if the tree has a root-to-leaf path such that adding up all the values along the path equals the given sum.\n",
    "\n",
    "\tNote: A leaf is a node with no children.\n",
    "\n",
    "\tExample:\n",
    "\n",
    "\tGiven the below binary tree and sum = 22,\n",
    "\n",
    "\t      5\n",
    "\t     / \\\n",
    "\t    4   8\n",
    "\t   /   / \\\n",
    "\t  11  13  4\n",
    "\t /  \\      \\\n",
    "\t7    2      1\n",
    "'''"
   ]
  },
  {
   "cell_type": "markdown",
   "id": "818922c7",
   "metadata": {},
   "source": [
    "Definition for a binary tree node.\n",
    "class TreeNode(object):\n",
    "    def __init__(self, x):\n",
    "        self.val = x\n",
    "        self.left = None\n",
    "        self.right = None"
   ]
  },
  {
   "cell_type": "code",
   "execution_count": null,
   "id": "0dfb687d",
   "metadata": {},
   "outputs": [],
   "source": [
    "class Solution(object):\n",
    "    def hasPathSum(self, root, sum):\n",
    "        \"\"\"\n",
    "        :type root: TreeNode\n",
    "        :type sum: int\n",
    "        :rtype: bool\n",
    "        \"\"\"\n",
    "        if not root:\n",
    "        \treturn False\n",
    "\n",
    "        if not root.left and not root.right and root.val == sum:\n",
    "        \treturn True\n",
    "\n",
    "        return self.hasPathSum(root.left, sum-root.val) or self.hasPathSum(root.right, sum-root.val)"
   ]
  }
 ],
 "metadata": {
  "jupytext": {
   "cell_metadata_filter": "-all",
   "main_language": "python",
   "notebook_metadata_filter": "-all"
  }
 },
 "nbformat": 4,
 "nbformat_minor": 5
}
