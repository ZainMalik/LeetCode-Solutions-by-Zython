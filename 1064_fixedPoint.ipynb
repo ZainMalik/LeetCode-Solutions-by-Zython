{
 "cells": [
  {
   "cell_type": "code",
   "execution_count": null,
   "id": "b422d250",
   "metadata": {
    "lines_to_next_cell": 1
   },
   "outputs": [],
   "source": [
    "'''\n",
    "Given an array A of distinct integers sorted in ascending order, return the smallest index i that satisfies A[i] == i.  Return -1 if no such i exists.\n",
    "\n",
    " \n",
    "\n",
    "Example 1:\n",
    "\n",
    "Input: [-10,-5,0,3,7]\n",
    "Output: 3\n",
    "Explanation: \n",
    "For the given array, A[0] = -10, A[1] = -5, A[2] = 0, A[3] = 3, thus the output is 3.\n",
    "Example 2:\n",
    "\n",
    "Input: [0,2,5,8,17]\n",
    "Output: 0\n",
    "Explanation: \n",
    "A[0] = 0, thus the output is 0.\n",
    "Example 3:\n",
    "\n",
    "Input: [-10,-5,3,4,7,9]\n",
    "Output: -1\n",
    "Explanation: \n",
    "There is no such i that A[i] = i, thus the output is -1.\n",
    "'''"
   ]
  },
  {
   "cell_type": "code",
   "execution_count": null,
   "id": "92c07b89",
   "metadata": {},
   "outputs": [],
   "source": [
    "class Solution(object):\n",
    "    def fixedPoint(self, A):\n",
    "        \"\"\"\n",
    "        :type A: List[int]\n",
    "        :rtype: int\n",
    "        \"\"\"\n",
    "        if not A:\n",
    "            return -1\n",
    "        for index, num in enumerate(A):\n",
    "            if num == index:\n",
    "                return index\n",
    "        return -1"
   ]
  }
 ],
 "metadata": {
  "jupytext": {
   "cell_metadata_filter": "-all",
   "main_language": "python",
   "notebook_metadata_filter": "-all"
  }
 },
 "nbformat": 4,
 "nbformat_minor": 5
}
