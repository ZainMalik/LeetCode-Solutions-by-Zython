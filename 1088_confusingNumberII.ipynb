{
 "cells": [
  {
   "cell_type": "code",
   "execution_count": null,
   "id": "4fe4bb5d",
   "metadata": {
    "lines_to_next_cell": 1
   },
   "outputs": [],
   "source": [
    "'''\n",
    "We can rotate digits by 180 degrees to form new digits. When 0, 1, 6, 8, 9 are rotated 180 degrees, they become 0, 1, 9, 8, 6 respectively. When 2, 3, 4, 5 and 7 are rotated 180 degrees, they become invalid.\n",
    "\n",
    "A confusing number is a number that when rotated 180 degrees becomes a different number with each digit valid.(Note that the rotated number can be greater than the original number.)\n",
    "\n",
    "Given a positive integer N, return the number of confusing numbers between 1 and N inclusive.\n",
    "\n",
    " \n",
    "\n",
    "Example 1:\n",
    "\n",
    "Input: 20\n",
    "Output: 6\n",
    "Explanation: \n",
    "The confusing numbers are [6,9,10,16,18,19].\n",
    "6 converts to 9.\n",
    "9 converts to 6.\n",
    "10 converts to 01 which is just 1.\n",
    "16 converts to 91.\n",
    "18 converts to 81.\n",
    "19 converts to 61.\n",
    "Example 2:\n",
    "\n",
    "Input: 100\n",
    "Output: 19\n",
    "Explanation: \n",
    "The confusing numbers are [6,9,10,16,18,19,60,61,66,68,80,81,86,89,90,91,98,99,100].\n",
    " \n",
    "\n",
    "Note:\n",
    "\n",
    "1 <= N <= 10^9\n",
    "'''"
   ]
  },
  {
   "cell_type": "code",
   "execution_count": null,
   "id": "dd02ef37",
   "metadata": {},
   "outputs": [],
   "source": [
    "class Solution(object):\n",
    "    result = 0\n",
    "    def confusingNumberII(self, N):\n",
    "        \"\"\"\n",
    "        :type N: int\n",
    "        :rtype: int\n",
    "        \"\"\"\n",
    "        original_a = [0, 1, 6, 8, 9]\n",
    "        o_rotation = [0, 1, 9, 8, 6]\n",
    "        \n",
    "        def recursive(original, rotation, digit, N):\n",
    "            if original > N:\n",
    "                return\n",
    "            if original and original != rotation:\n",
    "                self.result += 1\n",
    "            \n",
    "            start = original == 0\n",
    "            if digit >= 1000000000:\n",
    "                return\n",
    "            for index in range(start, 5):\n",
    "                recursive(original * 10 + original_a[index], rotation + o_rotation[index]*digit, digit*10, N)\n",
    "            \n",
    "        recursive(0, 0, 1, N)\n",
    "        if (N == 1000000000):\n",
    "            self.result += 1\n",
    "        return self.result"
   ]
  }
 ],
 "metadata": {
  "jupytext": {
   "cell_metadata_filter": "-all",
   "main_language": "python",
   "notebook_metadata_filter": "-all"
  }
 },
 "nbformat": 4,
 "nbformat_minor": 5
}
