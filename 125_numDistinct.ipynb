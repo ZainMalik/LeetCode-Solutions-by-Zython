{
 "cells": [
  {
   "cell_type": "code",
   "execution_count": null,
   "id": "3bf04f16",
   "metadata": {},
   "outputs": [],
   "source": [
    "class Solution(object):\n",
    "    def numDistinct(self, s, t):\n",
    "        \"\"\"\n",
    "        :type s: str\n",
    "        :type t: str\n",
    "        :rtype: int\n",
    "        \"\"\"\n",
    "\n",
    "        row, col = len(s), len(t)\n",
    "\n",
    "        if col > row:\n",
    "        \treturn 0\n",
    "\n",
    "        dp = [[0 for _ in range(col+1)] for _ in range(row+1)]\n",
    "\n",
    "        for r in range(row+1):\n",
    "        \tfor c in range(col+1):\n",
    "        \t\tif r == 0 and c == 0:\n",
    "        \t\t\tdp[r][c] = 1\n",
    "        \t\telif r == 0:\n",
    "        \t\t\tdp[r][c] = 0\n",
    "        \t\telif c == 0:\n",
    "        \t\t\tdp[r][c] = 1\n",
    "        \t\telse:\n",
    "        \t\t\tdp[r][c] = dp[r-1][c]\n",
    "        \t\t\tif s[r-1] == t[c-1]:\n",
    "        \t\t\t\tdp[r][c] += dp[r-1][c-1]\n",
    "        return dp[row][col] "
   ]
  },
  {
   "cell_type": "markdown",
   "id": "9726a268",
   "metadata": {},
   "source": [
    "Time: O(N^2)\n",
    "Space: O(N^2)"
   ]
  }
 ],
 "metadata": {
  "jupytext": {
   "cell_metadata_filter": "-all",
   "main_language": "python",
   "notebook_metadata_filter": "-all"
  }
 },
 "nbformat": 4,
 "nbformat_minor": 5
}
