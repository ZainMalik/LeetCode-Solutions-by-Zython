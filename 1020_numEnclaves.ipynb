{
 "cells": [
  {
   "cell_type": "code",
   "execution_count": null,
   "id": "f4c8bdbc",
   "metadata": {
    "lines_to_next_cell": 1
   },
   "outputs": [],
   "source": [
    "'''\n",
    "Given a 2D array A, each cell is 0 (representing sea) or 1 (representing land)\n",
    "\n",
    "A move consists of walking from one land square 4-directionally to another land square, or off the boundary of the grid.\n",
    "\n",
    "Return the number of land squares in the grid for which we cannot walk off the boundary of the grid in any number of moves.\n",
    "\n",
    " \n",
    "\n",
    "Example 1:\n",
    "\n",
    "Input: [[0,0,0,0],[1,0,1,0],[0,1,1,0],[0,0,0,0]]\n",
    "Output: 3\n",
    "Explanation: \n",
    "There are three 1s that are enclosed by 0s, and one 1 that isn't enclosed because its on the boundary.\n",
    "Example 2:\n",
    "\n",
    "Input: [[0,1,1,0],[0,0,1,0],[0,0,1,0],[0,0,0,0]]\n",
    "Output: 0\n",
    "Explanation: \n",
    "All 1s are either on the boundary or can reach the boundary.\n",
    " \n",
    "\n",
    "Note:\n",
    "\n",
    "1 <= A.length <= 500\n",
    "1 <= A[i].length <= 500\n",
    "0 <= A[i][j] <= 1\n",
    "All rows have the same size.\n",
    "'''"
   ]
  },
  {
   "cell_type": "code",
   "execution_count": null,
   "id": "1a8db802",
   "metadata": {},
   "outputs": [],
   "source": [
    "class Solution(object):\n",
    "    def numEnclaves(self, A):\n",
    "        \"\"\"\n",
    "        :type A: List[List[int]]\n",
    "        :rtype: int\n",
    "        \"\"\"\n",
    "        result = 0\n",
    "        queue = []\n",
    "        for row in range(len(A)):\n",
    "            for col in range(len(A[0])):\n",
    "                result += A[row][col]\n",
    "                if (row*col == 0 or row == len(A)-1 or col == len(A[0])-1) and A[row][col] == 1:\n",
    "                    queue.append((row, col))\n",
    "                    \n",
    "        x_move = [-1, 0, 1, 0]\n",
    "        y_move = [0, 1, 0, -1]\n",
    "        \n",
    "        while queue:\n",
    "            x, y = queue.pop(0)\n",
    "            A[x][y] = 0\n",
    "            result -= 1\n",
    "            \n",
    "            for xm, ym in zip(x_move, y_move):\n",
    "                nx = x + xm\n",
    "                ny = y + ym\n",
    "                \n",
    "                if 0<= nx <len(A) and 0 <= ny < len(A[0]) and A[nx][ny] == 1 and (nx, ny) not in queue:\n",
    "                    queue.append((nx, ny))\n",
    "\n",
    "        return result"
   ]
  }
 ],
 "metadata": {
  "jupytext": {
   "cell_metadata_filter": "-all",
   "main_language": "python",
   "notebook_metadata_filter": "-all"
  }
 },
 "nbformat": 4,
 "nbformat_minor": 5
}
