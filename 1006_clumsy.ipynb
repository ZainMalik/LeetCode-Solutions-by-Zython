{
 "cells": [
  {
   "cell_type": "code",
   "execution_count": null,
   "id": "2a996763",
   "metadata": {
    "lines_to_next_cell": 1
   },
   "outputs": [],
   "source": [
    "'''\n",
    "Normally, the factorial of a positive integer n is the product of all positive integers less than or equal to n.  For example, factorial(10) = 10 * 9 * 8 * 7 * 6 * 5 * 4 * 3 * 2 * 1.\n",
    "\n",
    "We instead make a clumsy factorial: using the integers in decreasing order, we swap out the multiply operations for a fixed rotation of operations: multiply (*), divide (/), add (+) and subtract (-) in this order.\n",
    "\n",
    "For example, clumsy(10) = 10 * 9 / 8 + 7 - 6 * 5 / 4 + 3 - 2 * 1.  However, these operations are still applied using the usual order of operations of arithmetic: we do all multiplication and division steps before any addition or subtraction steps, and multiplication and division steps are processed left to right.\n",
    "\n",
    "Additionally, the division that we use is floor division such that 10 * 9 / 8 equals 11.  This guarantees the result is an integer.\n",
    "\n",
    "Implement the clumsy function as defined above: given an integer N, it returns the clumsy factorial of N.\n",
    "\n",
    " \n",
    "\n",
    "Example 1:\n",
    "\n",
    "Input: 4\n",
    "Output: 7\n",
    "Explanation: 7 = 4 * 3 / 2 + 1\n",
    "Example 2:\n",
    "\n",
    "Input: 10\n",
    "Output: 12\n",
    "Explanation: 12 = 10 * 9 / 8 + 7 - 6 * 5 / 4 + 3 - 2 * 1\n",
    " \n",
    "\n",
    "Note:\n",
    "\n",
    "1 <= N <= 10000\n",
    "-2^31 <= answer <= 2^31 - 1  (The answer is guaranteed to fit within a 32-bit integer.)\n",
    "'''"
   ]
  },
  {
   "cell_type": "code",
   "execution_count": null,
   "id": "892e4c7d",
   "metadata": {},
   "outputs": [],
   "source": [
    "class Solution(object):\n",
    "    def clumsy(self, N):\n",
    "        \"\"\"\n",
    "        :type N: int\n",
    "        :rtype: int\n",
    "        \"\"\"\n",
    "        return [0, 1, 2, 6, 7][N] if N < 5 else N + [1, 2, 2, - 1][N % 4]"
   ]
  }
 ],
 "metadata": {
  "jupytext": {
   "cell_metadata_filter": "-all",
   "main_language": "python",
   "notebook_metadata_filter": "-all"
  }
 },
 "nbformat": 4,
 "nbformat_minor": 5
}
