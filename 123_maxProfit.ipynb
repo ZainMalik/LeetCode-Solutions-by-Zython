{
 "cells": [
  {
   "cell_type": "code",
   "execution_count": null,
   "id": "8eb3a337",
   "metadata": {
    "lines_to_next_cell": 1
   },
   "outputs": [],
   "source": [
    "'''\n",
    "\tSay you have an array for which the ith element is the price of a given stock on day i.\n",
    "\n",
    "\tDesign an algorithm to find the maximum profit. You may complete at most two transactions.\n",
    "\n",
    "\tNote: You may not engage in multiple transactions at the same time (i.e., you must sell the stock before you buy again).\n",
    "\n",
    "\tExample 1:\n",
    "\n",
    "\tInput: [3,3,5,0,0,3,1,4]\n",
    "\tOutput: 6\n",
    "\tExplanation: Buy on day 4 (price = 0) and sell on day 6 (price = 3), profit = 3-0 = 3.\n",
    "\t             Then buy on day 7 (price = 1) and sell on day 8 (price = 4), profit = 4-1 = 3.\n",
    "\n",
    "'''"
   ]
  },
  {
   "cell_type": "code",
   "execution_count": null,
   "id": "79b49322",
   "metadata": {
    "lines_to_next_cell": 2
   },
   "outputs": [],
   "source": [
    "class Solution(object):\n",
    "    def maxProfit(self, prices):\n",
    "        \"\"\"\n",
    "        :type prices: List[int]\n",
    "        :rtype: int\n",
    "        \"\"\"\n",
    "        if len(prices) < 2:\n",
    "        \treturn 0\n",
    "        dp = [[0 for _ in range(len(prices))] for _ in range(3)]\n",
    "        for i in range(1,3):\n",
    "        \tmaxDiff = -prices[0]\n",
    "        \tfor j in range(1,len(prices)):\n",
    "        \t\tdp[i][j] = max(dp[i][j-1], prices[j] + maxDiff)\n",
    "        \t\tmaxDiff = max(maxDiff, dp[i-1][j] -prices[j])\n",
    "\n",
    "        return dp[2][len(prices)-1]"
   ]
  }
 ],
 "metadata": {
  "jupytext": {
   "cell_metadata_filter": "-all",
   "main_language": "python",
   "notebook_metadata_filter": "-all"
  }
 },
 "nbformat": 4,
 "nbformat_minor": 5
}
