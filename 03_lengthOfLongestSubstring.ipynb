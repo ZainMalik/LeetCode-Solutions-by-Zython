{
 "cells": [
  {
   "cell_type": "code",
   "execution_count": null,
   "id": "09b7df54",
   "metadata": {
    "lines_to_next_cell": 1
   },
   "outputs": [],
   "source": [
    "'''\n",
    "\tGiven a string, find the length of the longest substring without repeating characters.\n",
    "\n",
    "\tExamples:\n",
    "\n",
    "\tGiven \"abcabcbb\", the answer is \"abc\", which the length is 3.\n",
    "\n",
    "\tGiven \"bbbbb\", the answer is \"b\", with the length of 1.\n",
    "\n",
    "\tGiven \"pwwkew\", the answer is \"wke\", with the length of 3. Note that the answer must be a substring, \"pwke\" is a subsequence and not a substring.\n",
    "'''"
   ]
  },
  {
   "cell_type": "code",
   "execution_count": null,
   "id": "f016a789",
   "metadata": {},
   "outputs": [],
   "source": [
    "class Solution(object):\n",
    "    def lengthOfLongestSubstring(self, s):\n",
    "        \"\"\"\n",
    "        :type s: str\n",
    "        :rtype: int\n",
    "        \"\"\"\n",
    "        mapSet = {}\n",
    "        start, result = 0, 0\n",
    "\n",
    "        for end in range(len(s)):\n",
    "        \tif s[end] in mapSet:\n",
    "        \t\tstart = max(mapSet[s[end]], start)\n",
    "        \tresult = max(result, end-start+1)\n",
    "        \tmapSet[s[end]] = end+1\n",
    "\n",
    "        return result "
   ]
  }
 ],
 "metadata": {
  "jupytext": {
   "cell_metadata_filter": "-all",
   "main_language": "python",
   "notebook_metadata_filter": "-all"
  }
 },
 "nbformat": 4,
 "nbformat_minor": 5
}
