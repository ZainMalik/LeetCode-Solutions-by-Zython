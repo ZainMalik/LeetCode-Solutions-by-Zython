{
 "cells": [
  {
   "cell_type": "code",
   "execution_count": null,
   "id": "2063a92d",
   "metadata": {
    "lines_to_next_cell": 1
   },
   "outputs": [],
   "source": [
    "'''\n",
    "There are 2N people a company is planning to interview. The cost of flying the i-th person to city A is costs[i][0], and the cost of flying the i-th person to city B is costs[i][1].\n",
    "\n",
    "Return the minimum cost to fly every person to a city such that exactly N people arrive in each city.\n",
    "\n",
    " \n",
    "\n",
    "Example 1:\n",
    "\n",
    "Input: [[10,20],[30,200],[400,50],[30,20]]\n",
    "Output: 110\n",
    "Explanation: \n",
    "The first person goes to city A for a cost of 10.\n",
    "The second person goes to city A for a cost of 30.\n",
    "The third person goes to city B for a cost of 50.\n",
    "The fourth person goes to city B for a cost of 20.\n",
    "\n",
    "The total minimum cost is 10 + 30 + 50 + 20 = 110 to have half the people interviewing in each city.\n",
    " \n",
    "\n",
    "Note:\n",
    "\n",
    "1 <= costs.length <= 100\n",
    "It is guaranteed that costs.length is even.\n",
    "1 <= costs[i][0], costs[i][1] <= 1000\n",
    "'''"
   ]
  },
  {
   "cell_type": "code",
   "execution_count": null,
   "id": "9b21f9cc",
   "metadata": {},
   "outputs": [],
   "source": [
    "class Solution(object):\n",
    "    def twoCitySchedCost(self, costs):\n",
    "        \"\"\"\n",
    "        :type costs: List[List[int]]\n",
    "        :rtype: int\n",
    "        \"\"\"\n",
    "        result = 0\n",
    "        costs = sorted(costs, key=lambda x : x[0] - x[1])\n",
    "        for index in range(len(costs)):\n",
    "            if index < len(costs)//2:\n",
    "                result += costs[index][0]\n",
    "            else:\n",
    "                result += costs[index][1]\n",
    "        return result"
   ]
  }
 ],
 "metadata": {
  "jupytext": {
   "cell_metadata_filter": "-all",
   "main_language": "python",
   "notebook_metadata_filter": "-all"
  }
 },
 "nbformat": 4,
 "nbformat_minor": 5
}
