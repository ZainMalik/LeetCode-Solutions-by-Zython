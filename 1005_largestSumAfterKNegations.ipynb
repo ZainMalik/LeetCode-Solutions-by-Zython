{
 "cells": [
  {
   "cell_type": "code",
   "execution_count": null,
   "id": "9bfe1788",
   "metadata": {
    "lines_to_next_cell": 1
   },
   "outputs": [],
   "source": [
    "'''\n",
    "Given an array A of integers, we must modify the array in the following way: we choose an i and replace A[i] with -A[i], and we repeat this process K times in total.  (We may choose the same index i multiple times.)\n",
    "\n",
    "Return the largest possible sum of the array after modifying it in this way.\n",
    "\n",
    " \n",
    "\n",
    "Example 1:\n",
    "\n",
    "Input: A = [4,2,3], K = 1\n",
    "Output: 5\n",
    "Explanation: Choose indices (1,) and A becomes [4,-2,3].\n",
    "Example 2:\n",
    "\n",
    "Input: A = [3,-1,0,2], K = 3\n",
    "Output: 6\n",
    "Explanation: Choose indices (1, 2, 2) and A becomes [3,1,0,2].\n",
    "Example 3:\n",
    "\n",
    "Input: A = [2,-3,-1,5,-4], K = 2\n",
    "Output: 13\n",
    "Explanation: Choose indices (1, 4) and A becomes [2,3,-1,5,4].\n",
    " \n",
    "\n",
    "Note:\n",
    "\n",
    "1 <= A.length <= 10000\n",
    "1 <= K <= 10000\n",
    "-100 <= A[i] <= 100\n",
    "'''"
   ]
  },
  {
   "cell_type": "code",
   "execution_count": null,
   "id": "62446dee",
   "metadata": {},
   "outputs": [],
   "source": [
    "class Solution(object):\n",
    "    def largestSumAfterKNegations(self, A, K):\n",
    "        \"\"\"\n",
    "        :type A: List[int]\n",
    "        :type K: int\n",
    "        :rtype: int\n",
    "        \"\"\"\n",
    "        A.sort()\n",
    "        index = 0\n",
    "        while K > 0:\n",
    "            if A[index] < 0:\n",
    "                A[index] *= -1\n",
    "                if A[index+1] < A[index] and index < len(A)-1:\n",
    "                    index += 1\n",
    "            else:\n",
    "                A[index] *= -1\n",
    "            K -= 1\n",
    "        return sum(A)"
   ]
  }
 ],
 "metadata": {
  "jupytext": {
   "cell_metadata_filter": "-all",
   "main_language": "python",
   "notebook_metadata_filter": "-all"
  }
 },
 "nbformat": 4,
 "nbformat_minor": 5
}
