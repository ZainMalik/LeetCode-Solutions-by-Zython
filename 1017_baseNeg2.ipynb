{
 "cells": [
  {
   "cell_type": "code",
   "execution_count": null,
   "id": "e3bb7fbc",
   "metadata": {
    "lines_to_next_cell": 1
   },
   "outputs": [],
   "source": [
    "'''\n",
    "Given a number N, return a string consisting of \"0\"s and \"1\"s that represents its value in base -2 (negative two).\n",
    "\n",
    "The returned string must have no leading zeroes, unless the string is \"0\".\n",
    "\n",
    "\n",
    "Example 1:\n",
    "\n",
    "Input: 2\n",
    "Output: \"110\"\n",
    "Explantion: (-2) ^ 2 + (-2) ^ 1 = 2\n",
    "Example 2:\n",
    "\n",
    "Input: 3\n",
    "Output: \"111\"\n",
    "Explantion: (-2) ^ 2 + (-2) ^ 1 + (-2) ^ 0 = 3\n",
    "\n",
    "Example 3:\n",
    "\n",
    "Input: 4\n",
    "Output: \"100\"\n",
    "Explantion: (-2) ^ 2 = 4\n",
    " \n",
    "\n",
    "Note:\n",
    "\n",
    "0 <= N <= 10^9\n",
    "'''"
   ]
  },
  {
   "cell_type": "code",
   "execution_count": null,
   "id": "2e28e00c",
   "metadata": {},
   "outputs": [],
   "source": [
    "class Solution(object):\n",
    "    def baseNeg2(self, N):\n",
    "        \"\"\"\n",
    "        :type N: int\n",
    "        :rtype: str\n",
    "        \"\"\"\n",
    "        if N == 0:\n",
    "            digits = ['0']\n",
    "        else:\n",
    "            digits = []\n",
    "            while N != 0:\n",
    "                N, remainder = divmod(N, -2)\n",
    "                if remainder < 0:\n",
    "                    N, remainder = N+1, remainder + 2\n",
    "                digits.append(str(remainder))\n",
    "        return ''.join(digits[::-1])"
   ]
  }
 ],
 "metadata": {
  "jupytext": {
   "cell_metadata_filter": "-all",
   "main_language": "python",
   "notebook_metadata_filter": "-all"
  }
 },
 "nbformat": 4,
 "nbformat_minor": 5
}
