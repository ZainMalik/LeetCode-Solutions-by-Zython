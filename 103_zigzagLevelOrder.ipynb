{
 "cells": [
  {
   "cell_type": "code",
   "execution_count": null,
   "id": "2818902d",
   "metadata": {
    "lines_to_next_cell": 1
   },
   "outputs": [],
   "source": [
    "'''\n",
    "    Given a binary tree, return the zigzag level order traversal of its nodes' values. (ie, from left to right, then right to left for the next level and alternate between).\n",
    "\n",
    "    For example:\n",
    "    Given binary tree [3,9,20,null,null,15,7],\n",
    "\n",
    "        3\n",
    "       / \\\n",
    "      9  20\n",
    "        /  \\\n",
    "       15   7\n",
    "\n",
    "    return its zigzag level order traversal as:\n",
    "\n",
    "    [\n",
    "      [3],\n",
    "      [20,9],\n",
    "      [15,7]\n",
    "    ]\n",
    "'''"
   ]
  },
  {
   "cell_type": "markdown",
   "id": "9cf37333",
   "metadata": {},
   "source": [
    "Definition for a binary tree node.\n",
    "class TreeNode(object):\n",
    "    def __init__(self, x):\n",
    "        self.val = x\n",
    "        self.left = None\n",
    "        self.right = None"
   ]
  },
  {
   "cell_type": "code",
   "execution_count": null,
   "id": "eaef5e59",
   "metadata": {},
   "outputs": [],
   "source": [
    "class Solution(object):\n",
    "    def zigzagLevelOrder(self, root):\n",
    "        \"\"\"\n",
    "        :type root: TreeNode\n",
    "        :rtype: List[List[int]]\n",
    "        \"\"\"\n",
    "\n",
    "        if not root:\n",
    "        \treturn []\n",
    "\n",
    "        queue = [(root, 0)]\n",
    "        levelMap = {}\n",
    "\n",
    "        while queue:\n",
    "        \tnode, level = queue.pop(0)\n",
    "        \tif node.left:\n",
    "        \t\tqueue.append((node.left, level+1))\n",
    "        \tif node.right:\n",
    "        \t\tqueue.append((node.right, level+1))\n",
    "\n",
    "        \tif level in levelMap:\n",
    "        \t\tlevelMap[level].append(node.val)\n",
    "        \telse:\n",
    "        \t\tlevelMap[level] = [node.val]\n",
    "\n",
    "        result = []\n",
    "        spiral = False\n",
    "        for key, value in levelMap.iteritems():\n",
    "            if spiral:\n",
    "                value = value[::-1]\n",
    "            result.append(value)\n",
    "            spiral = not spiral\n",
    "        return result"
   ]
  }
 ],
 "metadata": {
  "jupytext": {
   "cell_metadata_filter": "-all",
   "main_language": "python",
   "notebook_metadata_filter": "-all"
  }
 },
 "nbformat": 4,
 "nbformat_minor": 5
}
