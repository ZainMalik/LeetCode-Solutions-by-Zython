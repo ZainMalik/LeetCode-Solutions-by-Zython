{
 "cells": [
  {
   "cell_type": "code",
   "execution_count": null,
   "id": "0b021655",
   "metadata": {
    "lines_to_next_cell": 1
   },
   "outputs": [],
   "source": [
    "'''\n",
    "You have N gardens, labelled 1 to N.  In each garden, you want to plant one of 4 types of flowers.\n",
    "\n",
    "paths[i] = [x, y] describes the existence of a bidirectional path from garden x to garden y.\n",
    "\n",
    "Also, there is no garden that has more than 3 paths coming into or leaving it.\n",
    "\n",
    "Your task is to choose a flower type for each garden such that, for any two gardens connected by a path, they have different types of flowers.\n",
    "\n",
    "Return any such a choice as an array answer, where answer[i] is the type of flower planted in the (i+1)-th garden.  The flower types are denoted 1, 2, 3, or 4.  It is guaranteed an answer exists.\n",
    "\n",
    " \n",
    "\n",
    "Example 1:\n",
    "\n",
    "Input: N = 3, paths = [[1,2],[2,3],[3,1]]\n",
    "Output: [1,2,3]\n",
    "Example 2:\n",
    "\n",
    "Input: N = 4, paths = [[1,2],[3,4]]\n",
    "Output: [1,2,1,2]\n",
    "Example 3:\n",
    "\n",
    "Input: N = 4, paths = [[1,2],[2,3],[3,4],[4,1],[1,3],[2,4]]\n",
    "Output: [1,2,3,4]\n",
    " \n",
    "\n",
    "Note:\n",
    "\n",
    "1 <= N <= 10000\n",
    "0 <= paths.size <= 20000\n",
    "No garden has 4 or more paths coming into or leaving it.\n",
    "It is guaranteed an answer exists.\n",
    "'''"
   ]
  },
  {
   "cell_type": "code",
   "execution_count": null,
   "id": "1a8b6850",
   "metadata": {
    "lines_to_next_cell": 2
   },
   "outputs": [],
   "source": [
    "class Solution(object):\n",
    "    def gardenNoAdj(self, N, paths):\n",
    "        \"\"\"\n",
    "        :type N: int\n",
    "        :type paths: List[List[int]]\n",
    "        :rtype: List[int]\n",
    "        \"\"\"            \n",
    "        plant = [1, 2, 3, 4]\n",
    "        result = [0 for _ in range(N)]\n",
    "        if not paths:\n",
    "            return [plant[index%4] for index in range(N)]\n",
    "        # print result\n",
    "        change = {}\n",
    "        update = []\n",
    "        for path in paths:\n",
    "            x, y = path[0]-1, path[1]-1\n",
    "                \n",
    "            if x in change:\n",
    "                change[x].append(y)\n",
    "            else:\n",
    "                change[x] = [y]\n",
    "                \n",
    "            if y in change:\n",
    "                change[y].append(x)\n",
    "            else:\n",
    "                change[y] = [x]\n",
    "        \n",
    "        for garden in range(N):\n",
    "            color_used = []\n",
    "            if garden in change:\n",
    "                subgarden = change[garden]\n",
    "                for subgarden in change[garden]:\n",
    "                    if result[subgarden]:\n",
    "                        color_used.append(result[subgarden])\n",
    "            color_rem = list(set([1, 2, 3, 4]) - set(color_used))\n",
    "            for color in color_rem:\n",
    "                result[garden] = color\n",
    "                break\n",
    "        return result"
   ]
  }
 ],
 "metadata": {
  "jupytext": {
   "cell_metadata_filter": "-all",
   "main_language": "python",
   "notebook_metadata_filter": "-all"
  }
 },
 "nbformat": 4,
 "nbformat_minor": 5
}
