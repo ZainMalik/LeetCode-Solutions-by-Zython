{
 "cells": [
  {
   "cell_type": "code",
   "execution_count": null,
   "id": "11190bb3",
   "metadata": {
    "lines_to_next_cell": 1
   },
   "outputs": [],
   "source": [
    "'''\n",
    "Given two strings str1 and str2, return the shortest string that has both str1 and str2 as subsequences.  If multiple answers exist, you may return any of them.\n",
    "\n",
    "(A string S is a subsequence of string T if deleting some number of characters from T (possibly 0, and the characters are chosen anywhere from T) results in the string S.)\n",
    "\n",
    " \n",
    "\n",
    "Example 1:\n",
    "\n",
    "Input: str1 = \"abac\", str2 = \"cab\"\n",
    "Output: \"cabac\"\n",
    "Explanation: \n",
    "str1 = \"abac\" is a substring of \"cabac\" because we can delete the first \"c\".\n",
    "str2 = \"cab\" is a substring of \"cabac\" because we can delete the last \"ac\".\n",
    "The answer provided is the shortest such string that satisfies these properties.\n",
    " \n",
    "\n",
    "Note:\n",
    "\n",
    "1 <= str1.length, str2.length <= 1000\n",
    "str1 and str2 consist of lowercase English letters.\n",
    "'''"
   ]
  },
  {
   "cell_type": "code",
   "execution_count": null,
   "id": "207d1263",
   "metadata": {},
   "outputs": [],
   "source": [
    "class Solution(object):\n",
    "    def shortestCommonSupersequence(self, str1, str2):\n",
    "        \"\"\"\n",
    "        :type str1: str\n",
    "        :type str2: str\n",
    "        :rtype: str\n",
    "        \"\"\"\n",
    "        def lcs(A, B):\n",
    "            n, m = len(A)+1, len(B)+1\n",
    "            dp = [[\"\" for _ in range(m)] for _ in range(n)]\n",
    "            for index_i in range(1, n):\n",
    "                for index_j in range(1, m):\n",
    "                    if A[index_i-1] == B[index_j-1]:\n",
    "                        dp[index_i][index_j] = dp[index_i-1][index_j-1] + A[index_i - 1]\n",
    "                    else:\n",
    "                        dp[index_i][index_j] = max(dp[index_i-1][index_j], dp[index_i][index_j-1], key=len)\n",
    "            return dp[-1][-1]\n",
    "        \n",
    "        result = \"\"\n",
    "        index_i, index_j = 0, 0\n",
    "        for s in lcs(str1, str2):\n",
    "            while str1[index_i] != s:\n",
    "                result += str1[index_i]\n",
    "                index_i += 1\n",
    "            while str2[index_j] != s:\n",
    "                result += str2[index_j]\n",
    "                index_j += 1\n",
    "                \n",
    "            result += s\n",
    "            index_i, index_j = index_i+1, index_j+1\n",
    "            \n",
    "        return result + str1[index_i:] + str2[index_j:]"
   ]
  }
 ],
 "metadata": {
  "jupytext": {
   "cell_metadata_filter": "-all",
   "main_language": "python",
   "notebook_metadata_filter": "-all"
  }
 },
 "nbformat": 4,
 "nbformat_minor": 5
}
