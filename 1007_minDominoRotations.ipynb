{
 "cells": [
  {
   "cell_type": "code",
   "execution_count": null,
   "id": "043f5f44",
   "metadata": {
    "lines_to_next_cell": 1
   },
   "outputs": [],
   "source": [
    "'''\n",
    "In a row of dominoes, A[i] and B[i] represent the top and bottom halves of the i-th domino.  (A domino is a tile with two numbers from 1 to 6 - one on each half of the tile.)\n",
    "\n",
    "We may rotate the i-th domino, so that A[i] and B[i] swap values.\n",
    "\n",
    "Return the minimum number of rotations so that all the values in A are the same, or all the values in B are the same.\n",
    "\n",
    "If it cannot be done, return -1.\n",
    "Input: A = [2,1,2,4,2,2], B = [5,2,6,2,3,2]\n",
    "Output: 2\n",
    "Explanation: \n",
    "The first figure represents the dominoes as given by A and B: before we do any rotations.\n",
    "If we rotate the second and fourth dominoes, we can make every value in the top row equal to 2, as indicated by the second figure.\n",
    "'''"
   ]
  },
  {
   "cell_type": "code",
   "execution_count": null,
   "id": "c84f66b6",
   "metadata": {
    "lines_to_next_cell": 2
   },
   "outputs": [],
   "source": [
    "class Solution(object):\n",
    "    def minDominoRotations(self, A, B):\n",
    "        \"\"\"\n",
    "        :type A: List[int]\n",
    "        :type B: List[int]\n",
    "        :rtype: int\n",
    "        \"\"\"\n",
    "        if len(A) != len(B):\n",
    "            return -1\n",
    "        if len(A) == 0:\n",
    "            return 0\n",
    "        \n",
    "        for possibility in set([A[0], B[0]]):\n",
    "            top_rotation, bottom_rotation =0, 0\n",
    "            for a_num, b_num in zip(A, B):\n",
    "                if possibility not in [a_num, b_num]:\n",
    "                    break\n",
    "                top_rotation += int(b_num != possibility)\n",
    "                bottom_rotation += int(a_num != possibility)\n",
    "            else:\n",
    "                return min(top_rotation, bottom_rotation)\n",
    "        return -1"
   ]
  }
 ],
 "metadata": {
  "jupytext": {
   "cell_metadata_filter": "-all",
   "main_language": "python",
   "notebook_metadata_filter": "-all"
  }
 },
 "nbformat": 4,
 "nbformat_minor": 5
}
