{
 "cells": [
  {
   "cell_type": "code",
   "execution_count": null,
   "id": "c0fd073b",
   "metadata": {
    "lines_to_next_cell": 1
   },
   "outputs": [],
   "source": [
    "'''\n",
    "A bus has n stops numbered from 0 to n - 1 that form a circle. We know the distance between all pairs of neighboring stops where distance[i] is the distance between the stops number i and (i + 1) % n.\n",
    "\n",
    "The bus goes along both directions i.e. clockwise and counterclockwise.\n",
    "\n",
    "Return the shortest distance between the given start and destination stops.\n",
    "\n",
    " \n",
    "\n",
    "Example 1:\n",
    "Input: distance = [1,2,3,4], start = 0, destination = 1\n",
    "Output: 1\n",
    "Explanation: Distance between 0 and 1 is 1 or 9, minimum is 1.\n",
    " \n",
    "\n",
    "Example 2:\n",
    "Input: distance = [1,2,3,4], start = 0, destination = 2\n",
    "Output: 3\n",
    "Explanation: Distance between 0 and 2 is 3 or 7, minimum is 3.\n",
    " \n",
    "\n",
    "Example 3:\n",
    "Input: distance = [1,2,3,4], start = 0, destination = 3\n",
    "Output: 4\n",
    "Explanation: Distance between 0 and 3 is 6 or 4, minimum is 4.\n",
    " \n",
    "\n",
    "Constraints:\n",
    "\n",
    "1 <= n <= 10^4\n",
    "distance.length == n\n",
    "0 <= start, destination < n\n",
    "0 <= distance[i] <= 10^4\n",
    "'''"
   ]
  },
  {
   "cell_type": "code",
   "execution_count": null,
   "id": "b52c126d",
   "metadata": {},
   "outputs": [],
   "source": [
    "class Solution(object):\n",
    "    def distanceBetweenBusStops(self, distance, start, destination):\n",
    "        \"\"\"\n",
    "        :type distance: List[int]\n",
    "        :type start: int\n",
    "        :type destination: int\n",
    "        :rtype: int\n",
    "        \"\"\"\n",
    "        start, destination = min(start, destination), max(start, destination)\n",
    "        clock_dist = sum(distance[start:destination])\n",
    "        anti_clock_dist = sum(distance[:start]) + sum(distance[destination:])\n",
    "        return min(clock_dist, anti_clock_dist)"
   ]
  }
 ],
 "metadata": {
  "jupytext": {
   "cell_metadata_filter": "-all",
   "main_language": "python",
   "notebook_metadata_filter": "-all"
  }
 },
 "nbformat": 4,
 "nbformat_minor": 5
}
