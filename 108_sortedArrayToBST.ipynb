{
 "cells": [
  {
   "cell_type": "code",
   "execution_count": null,
   "id": "de25eaf7",
   "metadata": {
    "lines_to_next_cell": 1
   },
   "outputs": [],
   "source": [
    "'''\n",
    "\tGiven an array where elements are sorted in ascending order, convert it to a height balanced BST.\n",
    "\n",
    "\tFor this problem, a height-balanced binary tree is defined as a binary tree in which the depth of the two subtrees of every node never differ by more than 1.\n",
    "\n",
    "\tExample:\n",
    "\n",
    "\tGiven the sorted array: [-10,-3,0,5,9],\n",
    "\n",
    "\tOne possible answer is: [0,-3,9,-10,null,5], which represents the following height balanced BST:\n",
    "\n",
    "\t      0\n",
    "\t     / \\\n",
    "\t   -3   9\n",
    "\t   /   /\n",
    "\t -10  5\n",
    "'''"
   ]
  },
  {
   "cell_type": "markdown",
   "id": "349e5f9e",
   "metadata": {},
   "source": [
    "Definition for a binary tree node.\n",
    "class TreeNode(object):\n",
    "    def __init__(self, x):\n",
    "        self.val = x\n",
    "        self.left = None\n",
    "        self.right = None"
   ]
  },
  {
   "cell_type": "code",
   "execution_count": null,
   "id": "f8033dc5",
   "metadata": {},
   "outputs": [],
   "source": [
    "class Solution(object):\n",
    "    def sortedArrayToBST(self, nums):\n",
    "        \"\"\"\n",
    "        :type nums: List[int]\n",
    "        :rtype: TreeNode\n",
    "        \"\"\"\n",
    "\n",
    "        def constructTree(nums, start, end):\n",
    "        \tif start > end:\n",
    "        \t\treturn None\n",
    "\n",
    "        \tmid = (start+end)/2\n",
    "        \tnode = TreeNode(nums[mid])\n",
    "\n",
    "        \tif start == end:\n",
    "        \t\treturn node\n",
    "\n",
    "        \tnode.left = constructTree(nums, start, mid-1)\n",
    "        \tnode.right = constructTree(nums, mid+1, end)\n",
    "        \treturn node\n",
    "\n",
    "        return constructTree(nums, 0, len(nums)-1)"
   ]
  }
 ],
 "metadata": {
  "jupytext": {
   "cell_metadata_filter": "-all",
   "main_language": "python",
   "notebook_metadata_filter": "-all"
  }
 },
 "nbformat": 4,
 "nbformat_minor": 5
}
