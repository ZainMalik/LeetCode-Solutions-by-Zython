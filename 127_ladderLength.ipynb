{
 "cells": [
  {
   "cell_type": "code",
   "execution_count": null,
   "id": "384b4288",
   "metadata": {
    "lines_to_next_cell": 1
   },
   "outputs": [],
   "source": [
    "'''\n",
    "\tGiven two words (beginWord and endWord), and a dictionary's word list, find the length of shortest transformation sequence from beginWord to endWord, such that:\n",
    "\n",
    "\tOnly one letter can be changed at a time.\n",
    "\tEach transformed word must exist in the word list. Note that beginWord is not a transformed word.\n",
    "\tNote:\n",
    "\n",
    "\tReturn 0 if there is no such transformation sequence.\n",
    "\tAll words have the same length.\n",
    "\tAll words contain only lowercase alphabetic characters.\n",
    "\tYou may assume no duplicates in the word list.\n",
    "\tYou may assume beginWord and endWord are non-empty and are not the same.\n",
    "\tExample 1:\n",
    "\n",
    "\tInput:\n",
    "\tbeginWord = \"hit\",\n",
    "\tendWord = \"cog\",\n",
    "\twordList = [\"hot\",\"dot\",\"dog\",\"lot\",\"log\",\"cog\"]\n",
    "\n",
    "\tOutput: 5\n",
    "\n",
    "\tExplanation: As one shortest transformation is \"hit\" -> \"hot\" -> \"dot\" -> \"dog\" -> \"cog\",\n",
    "\treturn its length 5.\n",
    "'''"
   ]
  },
  {
   "cell_type": "code",
   "execution_count": null,
   "id": "484169fd",
   "metadata": {},
   "outputs": [],
   "source": [
    "class Solution(object):\n",
    "    def ladderLength(self, beginWord, endWord, wordList):\n",
    "        \"\"\"\n",
    "        :type beginWord: str\n",
    "        :type endWord: str\n",
    "        :type wordList: List[str]\n",
    "        :rtype: int\n",
    "        \"\"\"\n",
    "        d = {}\n",
    "        for word in wordList:\n",
    "        \tfor i in range(len(word)):\n",
    "        \t\ts = word[:i] + \"_\" + word[i+1:]\n",
    "        \t\tif s in d:\n",
    "        \t\t\td[s].append(word)\n",
    "        \t\telse:\n",
    "        \t\t\td[s] = [word]\n",
    "        print d\n",
    "        queue, visited = [], set()\n",
    "        queue.append((beginWord, 1))\n",
    "        while queue:\n",
    "        \tword, steps = queue.pop(0)\n",
    "        \tif word not in visited:\n",
    "        \t\tvisited.add(word)\n",
    "\n",
    "        \t\tif word == endWord:\n",
    "        \t\t\treturn steps\n",
    "        \t\telse:\n",
    "\t        \t\tfor index in range(len(word)):\n",
    "\t        \t\t\ts = word[:index] + \"_\" + word[index+1:]\n",
    "\t        \t\t\tneigh_words = []\n",
    "\t        \t\t\tif s in d:\n",
    "\t        \t\t\t\tneigh_words = d[s]\n",
    "\n",
    "\t        \t\t\tfor neigh in neigh_words:\n",
    "\t        \t\t\t\tif neigh not in visited:\n",
    "\t        \t\t\t\t\tqueue.append((neigh, steps+1))\n",
    "        return 0"
   ]
  },
  {
   "cell_type": "code",
   "execution_count": null,
   "id": "9008df90",
   "metadata": {},
   "outputs": [],
   "source": [
    "Solution().ladderLength(\"hit\", \"cog\", [\"hot\",\"dot\",\"dog\",\"lot\",\"log\",\"cog\"]  )"
   ]
  }
 ],
 "metadata": {
  "jupytext": {
   "cell_metadata_filter": "-all",
   "main_language": "python",
   "notebook_metadata_filter": "-all"
  }
 },
 "nbformat": 4,
 "nbformat_minor": 5
}
