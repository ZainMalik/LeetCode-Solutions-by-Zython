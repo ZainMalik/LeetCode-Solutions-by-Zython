{
 "cells": [
  {
   "cell_type": "code",
   "execution_count": null,
   "id": "162e63d8",
   "metadata": {
    "lines_to_next_cell": 1
   },
   "outputs": [],
   "source": [
    "'''\n",
    "Given a list of scores of different students, return the average score of each student's top five scores in the order of each student's id.\n",
    "\n",
    "Each entry items[i] has items[i][0] the student's id, and items[i][1] the student's score.  The average score is calculated using integer division.\n",
    "\n",
    " \n",
    "\n",
    "Example 1:\n",
    "\n",
    "Input: [[1,91],[1,92],[2,93],[2,97],[1,60],[2,77],[1,65],[1,87],[1,100],[2,100],[2,76]]\n",
    "Output: [[1,87],[2,88]]\n",
    "Explanation: \n",
    "The average of the student with id = 1 is 87.\n",
    "The average of the student with id = 2 is 88.6. But with integer division their average converts to 88.\n",
    " \n",
    "\n",
    "Note:\n",
    "\n",
    "1 <= items.length <= 1000\n",
    "items[i].length == 2\n",
    "The IDs of the students is between 1 to 1000\n",
    "The score of the students is between 1 to 100\n",
    "For each student, there are at least 5 scores\n",
    "'''"
   ]
  },
  {
   "cell_type": "code",
   "execution_count": null,
   "id": "05929c54",
   "metadata": {},
   "outputs": [],
   "source": [
    "class Solution(object):\n",
    "    def highFive(self, items):\n",
    "        \"\"\"\n",
    "        :type items: List[List[int]]\n",
    "        :rtype: List[List[int]]\n",
    "        \"\"\"\n",
    "        \n",
    "        if not items:\n",
    "            return []\n",
    "        \n",
    "        score_map = {}\n",
    "        for item in items:\n",
    "            if item[0] in score_map:\n",
    "                score_map[item[0]].append(item[1])\n",
    "            else:\n",
    "                score_map[item[0]] = [item[1]]\n",
    "                \n",
    "        result = []\n",
    "        for key, value in score_map.items():\n",
    "            value.sort(reverse=True)\n",
    "            if len(value) >= 5:\n",
    "                average = value[:5]\n",
    "            else:\n",
    "                average = value\n",
    "            score_map[key] = sum(average)/len(average)\n",
    "            result.append([key, score_map[key] ])\n",
    "        \n",
    "        return result"
   ]
  }
 ],
 "metadata": {
  "jupytext": {
   "cell_metadata_filter": "-all",
   "main_language": "python",
   "notebook_metadata_filter": "-all"
  }
 },
 "nbformat": 4,
 "nbformat_minor": 5
}
