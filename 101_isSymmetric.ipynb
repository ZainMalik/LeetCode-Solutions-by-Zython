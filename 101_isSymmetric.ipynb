{
 "cells": [
  {
   "cell_type": "code",
   "execution_count": null,
   "id": "5dabdafa",
   "metadata": {
    "lines_to_next_cell": 1
   },
   "outputs": [],
   "source": [
    "'''\n",
    "\tGiven a binary tree, check whether it is a mirror of itself (ie, symmetric around its center).\n",
    "\n",
    "\tFor example, this binary tree [1,2,2,3,4,4,3] is symmetric:\n",
    "\n",
    "\t    1\n",
    "\t   / \\\n",
    "\t  2   2\n",
    "\t / \\ / \\\n",
    "\t3  4 4  3\n",
    "\n",
    "\tBut the following [1,2,2,null,3,null,3] is not:\n",
    "\n",
    "\t    1\n",
    "\t   / \\\n",
    "\t  2   2\n",
    "\t   \\   \\\n",
    "\t   3    3\n",
    "\n",
    "'''"
   ]
  },
  {
   "cell_type": "markdown",
   "id": "b9414922",
   "metadata": {},
   "source": [
    "Definition for a binary tree node.\n",
    "class TreeNode(object):\n",
    "    def __init__(self, x):\n",
    "        self.val = x\n",
    "        self.left = None\n",
    "        self.right = None"
   ]
  },
  {
   "cell_type": "code",
   "execution_count": null,
   "id": "0e0ef1b7",
   "metadata": {},
   "outputs": [],
   "source": [
    "class Solution(object):\n",
    "    def isSymmetric(self, root):\n",
    "        \"\"\"\n",
    "        :type root: TreeNode\n",
    "        :rtype: bool\n",
    "        \"\"\"\n",
    "        if not root:\n",
    "        \treturn True\n",
    "\n",
    "        def dfs(left, right):\n",
    "        \tif not left and not right:\n",
    "        \t\treturn True\n",
    "\n",
    "        \tif not left or not right:\n",
    "        \t\treturn False\n",
    "        \treturn (left.val == right.val) and dfs(left.left, right.right) and dfs(left.right, right.left)\n",
    "\n",
    "        return dfs(root, root)"
   ]
  }
 ],
 "metadata": {
  "jupytext": {
   "cell_metadata_filter": "-all",
   "main_language": "python",
   "notebook_metadata_filter": "-all"
  }
 },
 "nbformat": 4,
 "nbformat_minor": 5
}
