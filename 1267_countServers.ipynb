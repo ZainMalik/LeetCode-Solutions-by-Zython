{
 "cells": [
  {
   "cell_type": "code",
   "execution_count": null,
   "id": "d658e595",
   "metadata": {
    "lines_to_next_cell": 1
   },
   "outputs": [],
   "source": [
    "'''\n",
    "You are given a map of a server center, represented as a m * n integer matrix grid, where 1 means that on that cell there is a server and 0 means that it is no server. Two servers are said to communicate if they are on the same row or on the same column.\n",
    "\n",
    "Return the number of servers that communicate with any other server.\n",
    "\n",
    "Example 1:\n",
    "\n",
    "Input: grid = [[1,0],[0,1]]\n",
    "Output: 0\n",
    "Explanation: No servers can communicate with others.\n",
    "\n",
    "Example 2:\n",
    "\n",
    "Input: grid = [[1,0],[1,1]]\n",
    "Output: 3\n",
    "Explanation: All three servers can communicate with at least one other server.\n",
    "\n",
    "Example 3:\n",
    "\n",
    "Input: grid = [[1,1,0,0],[0,0,1,0],[0,0,1,0],[0,0,0,1]]\n",
    "Output: 4\n",
    "Explanation: The two servers in the first row can communicate with each other. The two servers in the third column can communicate with each other. The server at right bottom corner can't communicate with any other server.\n",
    " \n",
    "\n",
    "Constraints:\n",
    "\n",
    "m == grid.length\n",
    "n == grid[i].length\n",
    "1 <= m <= 250\n",
    "1 <= n <= 250\n",
    "grid[i][j] == 0 or 1\n",
    "'''"
   ]
  },
  {
   "cell_type": "code",
   "execution_count": null,
   "id": "2e6f2b2f",
   "metadata": {},
   "outputs": [],
   "source": [
    "class Solution(object):\n",
    "    def countServers(self, grid):\n",
    "        \"\"\"\n",
    "        :type grid: List[List[int]]\n",
    "        :rtype: int\n",
    "        \"\"\"\n",
    "        if not grid:\n",
    "            return 0\n",
    "        \n",
    "        row_count = [0] * len(grid)\n",
    "        col_count = [0] * len(grid[0])\n",
    "        for index_r in range(len(grid)):\n",
    "            for index_c in range(len(grid[0])):\n",
    "                if grid[index_r][index_c] == 1:\n",
    "                    row_count[index_r] += 1\n",
    "                    col_count[index_c] += 1\n",
    "                    \n",
    "        result = 0\n",
    "        for index_r in range(len(grid)):\n",
    "            for index_c in range(len(grid[0])):\n",
    "                if grid[index_r][index_c] == 1 and (row_count[index_r] > 1 or col_count[index_c] > 1):\n",
    "                    result += 1\n",
    "        return result"
   ]
  }
 ],
 "metadata": {
  "jupytext": {
   "cell_metadata_filter": "-all",
   "main_language": "python",
   "notebook_metadata_filter": "-all"
  }
 },
 "nbformat": 4,
 "nbformat_minor": 5
}
