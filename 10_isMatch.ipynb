{
 "cells": [
  {
   "cell_type": "code",
   "execution_count": null,
   "id": "607de53b",
   "metadata": {
    "lines_to_next_cell": 1
   },
   "outputs": [],
   "source": [
    "'''\n",
    "\tGiven an input string (s) and a pattern (p), implement regular expression matching with support for '.' and '*'.\n",
    "\n",
    "\t'.' Matches any single character.\n",
    "\t'*' Matches zero or more of the preceding element.\n",
    "\tThe matching should cover the entire input string (not partial).\n",
    "\n",
    "\tNote:\n",
    "\n",
    "\ts could be empty and contains only lowercase letters a-z.\n",
    "\tp could be empty and contains only lowercase letters a-z, and characters like . or *.\n",
    "'''"
   ]
  },
  {
   "cell_type": "code",
   "execution_count": null,
   "id": "2e6815fb",
   "metadata": {
    "lines_to_next_cell": 2
   },
   "outputs": [],
   "source": [
    "class Solution(object):\n",
    "    def isMatch(self, s, p):\n",
    "        \"\"\"\n",
    "        :type s: str\n",
    "        :type p: str\n",
    "        :rtype: bool\n",
    "        \"\"\"\n",
    "        dp = [[False for _ in range(len(p) + 1)] for _ in range(len(s) + 1)]\n",
    "        dp[0][0] = True\n",
    "\n",
    " \t\tfor index in range(1, len(dp[0])):\n",
    "            if p[index-1] == '*':\n",
    "                dp[0][index] = dp[0][index - 2]\n",
    "                \n",
    "        for index_i in range(1, len(dp)):\n",
    "        \tfor index_j in range(1, len(dp[0])):\n",
    "        \t\tif s[index_i - 1] == p[index_j - 1] or p[index_j - 1] == '.':\n",
    "        \t\t\tdp[index_i][index_j] = dp[index_i-1][index_j-1]\n",
    "        \t\telif p[index_j-1] == '*':\n",
    "        \t\t\tdp[index_i][index_j] = dp[index_i][index_j-2]\n",
    "\n",
    "        \t\t\tif s[index_i-1] == p[index_j-2] or p[index_j-2] == '.':\n",
    "        \t\t\t\tdp[index_i][index_j] = dp[index_i-1][index_j] or dp[index_i][index_j]\n",
    "\n",
    "        \t\telse:\n",
    "        \t\t\tdp[index_i][index_j] = False\n",
    "\n",
    "\n",
    "        return dp[len(s)][len(p)]"
   ]
  }
 ],
 "metadata": {
  "jupytext": {
   "cell_metadata_filter": "-all",
   "main_language": "python",
   "notebook_metadata_filter": "-all"
  }
 },
 "nbformat": 4,
 "nbformat_minor": 5
}
