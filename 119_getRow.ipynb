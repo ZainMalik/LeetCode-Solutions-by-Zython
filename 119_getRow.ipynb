{
 "cells": [
  {
   "cell_type": "code",
   "execution_count": null,
   "id": "7c8f0413",
   "metadata": {},
   "outputs": [],
   "source": [
    "'''\n",
    "\tGiven a non-negative index k where k ≤ 33, return the kth index row of the Pascal's triangle.\n",
    "\n",
    "\tNote that the row index starts from 0.\n",
    "'''\n",
    "class Solution(object):\n",
    "    def getRow(self, rowIndex):\n",
    "        \"\"\"\n",
    "        :type rowIndex: int\n",
    "        :rtype: List[int]\n",
    "        \"\"\"\n",
    "        row = [1]*(rowIndex+1)\n",
    "        for i in range(1, rowIndex+1):\n",
    "        \tfor j in range(i-1, 0, -1):\n",
    "        \t\trow[j] += row[j-1]\n",
    "        return row"
   ]
  }
 ],
 "metadata": {
  "jupytext": {
   "cell_metadata_filter": "-all",
   "main_language": "python",
   "notebook_metadata_filter": "-all"
  }
 },
 "nbformat": 4,
 "nbformat_minor": 5
}
