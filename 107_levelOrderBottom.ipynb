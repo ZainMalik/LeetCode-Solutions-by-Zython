{
 "cells": [
  {
   "cell_type": "code",
   "execution_count": null,
   "id": "a109a608",
   "metadata": {
    "lines_to_next_cell": 1
   },
   "outputs": [],
   "source": [
    "'''\n",
    "    Given a binary tree, return the bottom-up level order traversal of its nodes' values. (ie, from left to right, level by level from leaf to root).\n",
    "\n",
    "    For example:\n",
    "    Given binary tree [3,9,20,null,null,15,7],\n",
    "\n",
    "        3\n",
    "       / \\\n",
    "      9  20\n",
    "        /  \\\n",
    "       15   7\n",
    "\n",
    "    return its bottom-up level order traversal as:\n",
    "\n",
    "    [\n",
    "      [15,7],\n",
    "      [9,20],\n",
    "      [3]\n",
    "    ]\n",
    "'''"
   ]
  },
  {
   "cell_type": "markdown",
   "id": "794db3d5",
   "metadata": {},
   "source": [
    "Definition for a binary tree node.\n",
    "class TreeNode(object):\n",
    "    def __init__(self, x):\n",
    "        self.val = x\n",
    "        self.left = None\n",
    "        self.right = None"
   ]
  },
  {
   "cell_type": "code",
   "execution_count": null,
   "id": "6aada818",
   "metadata": {},
   "outputs": [],
   "source": [
    "class Solution(object):\n",
    "    def levelOrderBottom(self, root):\n",
    "        \"\"\"\n",
    "        :type root: TreeNode\n",
    "        :rtype: List[List[int]]\n",
    "        \"\"\"\n",
    "\n",
    "        if not root:\n",
    "        \treturn []\n",
    "\n",
    "        queue = [(root, 0)]\n",
    "        levelMap = {}\n",
    "\n",
    "        while queue:\n",
    "        \tnode, level = queue.pop(0)\n",
    "        \tif node.left:\n",
    "        \t\tqueue.append((node.left, level+1))\n",
    "        \tif node.right:\n",
    "        \t\tqueue.append((node.right, level+1))\n",
    "\n",
    "        \tif level in levelMap:\n",
    "        \t\tlevelMap[level].append(node.val)\n",
    "        \telse:\n",
    "        \t\tlevelMap[level] = [node.val]\n",
    "\n",
    "        result = []\n",
    "        for key, value in levelMap.iteritems():\n",
    "        \tresult.append(value)\n",
    "        return result[::-1]"
   ]
  }
 ],
 "metadata": {
  "jupytext": {
   "cell_metadata_filter": "-all",
   "main_language": "python",
   "notebook_metadata_filter": "-all"
  }
 },
 "nbformat": 4,
 "nbformat_minor": 5
}
