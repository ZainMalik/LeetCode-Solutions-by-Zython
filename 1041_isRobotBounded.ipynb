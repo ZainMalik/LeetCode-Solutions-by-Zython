{
 "cells": [
  {
   "cell_type": "code",
   "execution_count": null,
   "id": "a7fba386",
   "metadata": {
    "lines_to_next_cell": 1
   },
   "outputs": [],
   "source": [
    "'''\n",
    "On an infinite plane, a robot initially stands at (0, 0) and faces north.  The robot can receive one of three instructions:\n",
    "\n",
    "\"G\": go straight 1 unit;\n",
    "\"L\": turn 90 degrees to the left;\n",
    "\"R\": turn 90 degress to the right.\n",
    "The robot performs the instructions given in order, and repeats them forever.\n",
    "\n",
    "Return true if and only if there exists a circle in the plane such that the robot never leaves the circle.\n",
    "\n",
    " \n",
    "\n",
    "Example 1:\n",
    "\n",
    "Input: \"GGLLGG\"\n",
    "Output: true\n",
    "Explanation: \n",
    "The robot moves from (0,0) to (0,2), turns 180 degrees, and then returns to (0,0).\n",
    "When repeating these instructions, the robot remains in the circle of radius 2 centered at the origin.\n",
    "Example 2:\n",
    "\n",
    "Input: \"GG\"\n",
    "Output: false\n",
    "Explanation: \n",
    "The robot moves north indefinetely.\n",
    "Example 3:\n",
    "\n",
    "Input: \"GL\"\n",
    "Output: true\n",
    "Explanation: \n",
    "The robot moves from (0, 0) -> (0, 1) -> (-1, 1) -> (-1, 0) -> (0, 0) -> ...\n",
    " \n",
    "\n",
    "Note:\n",
    "\n",
    "1 <= instructions.length <= 100\n",
    "instructions[i] is in {'G', 'L', 'R'}\n",
    "'''"
   ]
  },
  {
   "cell_type": "code",
   "execution_count": null,
   "id": "ac3c625f",
   "metadata": {},
   "outputs": [],
   "source": [
    "class Solution(object):\n",
    "    def isRobotBounded(self, instructions):\n",
    "        \"\"\"\n",
    "        :type instructions: str\n",
    "        :rtype: bool\n",
    "        \"\"\"\n",
    "        start_x, start_y = 0, 0\n",
    "        left, direct = 0, 0\n",
    "        moves = [[0, 1], [-1, 0], [0, -1], [1, 0]]\n",
    "        instructions = instructions*4\n",
    "        for instruction in instructions:\n",
    "            if instruction == 'G':\n",
    "                start_x += moves[direct][0]\n",
    "                start_y += moves[direct][1]\n",
    "            elif instruction == 'L':\n",
    "                direct = (direct+1)%4\n",
    "            elif instruction == 'R':\n",
    "                direct = (direct+3)%4\n",
    "                \n",
    "        if(start_x == 0 and start_y == 0):\n",
    "            return True\n",
    "        return False"
   ]
  }
 ],
 "metadata": {
  "jupytext": {
   "cell_metadata_filter": "-all",
   "main_language": "python",
   "notebook_metadata_filter": "-all"
  }
 },
 "nbformat": 4,
 "nbformat_minor": 5
}
