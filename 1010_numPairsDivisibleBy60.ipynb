{
 "cells": [
  {
   "cell_type": "code",
   "execution_count": null,
   "id": "efb41b49",
   "metadata": {
    "lines_to_next_cell": 1
   },
   "outputs": [],
   "source": [
    "'''\n",
    "In a list of songs, the i-th song has a duration of time[i] seconds. \n",
    "\n",
    "Return the number of pairs of songs for which their total duration in seconds is divisible by 60.  Formally, we want the number of indices i < j with (time[i] + time[j]) % 60 == 0.\n",
    "\n",
    " \n",
    "\n",
    "Example 1:\n",
    "\n",
    "Input: [30,20,150,100,40]\n",
    "Output: 3\n",
    "Explanation: Three pairs have a total duration divisible by 60:\n",
    "(time[0] = 30, time[2] = 150): total duration 180\n",
    "(time[1] = 20, time[3] = 100): total duration 120\n",
    "(time[1] = 20, time[4] = 40): total duration 60\n",
    "Example 2:\n",
    "\n",
    "Input: [60,60,60]\n",
    "Output: 3\n",
    "Explanation: All three pairs have a total duration of 120, which is divisible by 60.\n",
    "\n",
    "Note:\n",
    "\n",
    "1 <= time.length <= 60000\n",
    "1 <= time[i] <= 500\n",
    "'''"
   ]
  },
  {
   "cell_type": "code",
   "execution_count": null,
   "id": "1ee47717",
   "metadata": {},
   "outputs": [],
   "source": [
    "class Solution(object):\n",
    "    def numPairsDivisibleBy60(self, time):\n",
    "        \"\"\"\n",
    "        :type time: List[int]\n",
    "        :rtype: int\n",
    "        \"\"\"\n",
    "        count_arr = [0]*60\n",
    "        result = 0\n",
    "        for t in time:\n",
    "            remainder = t%60\n",
    "            complement = (60-remainder)%60\n",
    "            result += count_arr[complement]\n",
    "            count_arr[remainder] += 1\n",
    "        return result\n",
    " \n",
    " '''\n",
    "\tExplanation: \n",
    "\tQ1: why create array of size 60? \n",
    "\t\tit is similar to the map which store the count. Why only 60 because 60 modulo of number cannot be more than 60\n",
    "\tQ2: why we need complement?\n",
    "\t\tto check the pair if it exisit with given value or not example: if remainder is 20 then we need to check if we have any number with remainder 40 or not.\n",
    "\tQ3: why 60 modulo complement?\n",
    "\t\tfor handle cause when remainder is zero \n",
    " '''"
   ]
  }
 ],
 "metadata": {
  "jupytext": {
   "cell_metadata_filter": "-all",
   "main_language": "python",
   "notebook_metadata_filter": "-all"
  }
 },
 "nbformat": 4,
 "nbformat_minor": 5
}
