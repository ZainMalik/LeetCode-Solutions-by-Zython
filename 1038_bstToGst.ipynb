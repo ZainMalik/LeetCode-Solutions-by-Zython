{
 "cells": [
  {
   "cell_type": "code",
   "execution_count": null,
   "id": "7f285e19",
   "metadata": {},
   "outputs": [],
   "source": [
    "'''\n",
    "Given the root of a binary search tree with distinct values, modify it so that every node has a new value equal to the sum of the values of the original tree that are greater than or equal to node.val.\n",
    "\n",
    "As a reminder, a binary search tree is a tree that satisfies these constraints:\n",
    "\n",
    "The left subtree of a node contains only nodes with keys less than the node's key.\n",
    "The right subtree of a node contains only nodes with keys greater than the node's key.\n",
    "Both the left and right subtrees must also be binary search trees.\n",
    " \n",
    "\n",
    "Example 1:\n",
    "Input: [4,1,6,0,2,5,7,null,null,null,3,null,null,null,8]\n",
    "Output: [30,36,21,36,35,26,15,null,null,null,33,null,null,null,8]\n",
    " \n",
    "\n",
    "Note:\n",
    "\n",
    "The number of nodes in the tree is between 1 and 100.\n",
    "Each node will have value between 0 and 100.\n",
    "The given tree is a binary search tree.\n",
    "'''"
   ]
  },
  {
   "cell_type": "markdown",
   "id": "69a98393",
   "metadata": {},
   "source": [
    "Definition for a binary tree node.\n",
    "class TreeNode(object):\n",
    "    def __init__(self, x):\n",
    "        self.val = x\n",
    "        self.left = None\n",
    "        self.right = None"
   ]
  },
  {
   "cell_type": "code",
   "execution_count": null,
   "id": "25e5d7d6",
   "metadata": {},
   "outputs": [],
   "source": [
    "class Solution(object):\n",
    "    def bstToGst(self, root):\n",
    "        \"\"\"\n",
    "        :type root: TreeNode\n",
    "        :rtype: TreeNode\n",
    "        \"\"\"\n",
    "        self.curr_sum = 0\n",
    "        def greaterSum(root):\n",
    "            if not root:\n",
    "                return \n",
    "            greaterSum(root.right)\n",
    "            self.curr_sum += root.val\n",
    "            root.val = self.curr_sum\n",
    "            greaterSum(root.left)\n",
    "        \n",
    "        greaterSum(root)\n",
    "        return root"
   ]
  }
 ],
 "metadata": {
  "jupytext": {
   "cell_metadata_filter": "-all",
   "main_language": "python",
   "notebook_metadata_filter": "-all"
  }
 },
 "nbformat": 4,
 "nbformat_minor": 5
}
