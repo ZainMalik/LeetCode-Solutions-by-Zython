{
 "cells": [
  {
   "cell_type": "code",
   "execution_count": null,
   "id": "5f0a489d",
   "metadata": {
    "lines_to_next_cell": 1
   },
   "outputs": [],
   "source": [
    "'''\n",
    "Implement the StreamChecker class as follows:\n",
    "\n",
    "StreamChecker(words): Constructor, init the data structure with the given words.\n",
    "query(letter): returns true if and only if for some k >= 1, the last k characters queried (in order from oldest to newest, including this letter just queried) spell one of the words in the given list.\n",
    " \n",
    "\n",
    "Example:\n",
    "\n",
    "StreamChecker streamChecker = new StreamChecker([\"cd\",\"f\",\"kl\"]); // init the dictionary.\n",
    "streamChecker.query('a');          // return false\n",
    "streamChecker.query('b');          // return false\n",
    "streamChecker.query('c');          // return false\n",
    "streamChecker.query('d');          // return true, because 'cd' is in the wordlist\n",
    "streamChecker.query('e');          // return false\n",
    "streamChecker.query('f');          // return true, because 'f' is in the wordlist\n",
    "streamChecker.query('g');          // return false\n",
    "streamChecker.query('h');          // return false\n",
    "streamChecker.query('i');          // return false\n",
    "streamChecker.query('j');          // return false\n",
    "streamChecker.query('k');          // return false\n",
    "streamChecker.query('l');          // return true, because 'kl' is in the wordlist\n",
    " \n",
    "\n",
    "Note:\n",
    "\n",
    "1 <= words.length <= 2000\n",
    "1 <= words[i].length <= 2000\n",
    "Words will only consist of lowercase English letters.\n",
    "Queries will only consist of lowercase English letters.\n",
    "The number of queries is at most 40000.\n",
    "'''"
   ]
  },
  {
   "cell_type": "code",
   "execution_count": null,
   "id": "df0acb79",
   "metadata": {
    "lines_to_next_cell": 1
   },
   "outputs": [],
   "source": [
    "class Trie(object):\n",
    "    def __init__(self):\n",
    "        self.nodes = {}\n",
    "        self.word = False"
   ]
  },
  {
   "cell_type": "code",
   "execution_count": null,
   "id": "7d33e984",
   "metadata": {},
   "outputs": [],
   "source": [
    "class StreamChecker(object):\n",
    "\n",
    "    def __init__(self, words):\n",
    "        \"\"\"\n",
    "        :type words: List[str]\n",
    "        \"\"\"\n",
    "        self.trie_node = Trie()\n",
    "        for word in words:\n",
    "            ptr = self.trie_node\n",
    "            for char in reversed(word):\n",
    "                if char not in ptr.nodes:\n",
    "                    ptr.nodes[char] = Trie()\n",
    "                ptr = ptr.nodes[char]\n",
    "            ptr.word = True\n",
    "        self.stream = []\n",
    "        \n",
    "\n",
    "    def query(self, letter):\n",
    "        \"\"\"\n",
    "        :type letter: str\n",
    "        :rtype: bool\n",
    "        \"\"\"\n",
    "        self.stream.append(letter)\n",
    "        root = self.trie_node\n",
    "        for char in reversed(self.stream):\n",
    "            if char not in root.nodes:\n",
    "                return False\n",
    "            if root.nodes[char].word:\n",
    "                return True\n",
    "            root = root.nodes[char]\n",
    "            \n",
    "        return root.word"
   ]
  },
  {
   "cell_type": "code",
   "execution_count": null,
   "id": "d125d6db",
   "metadata": {},
   "outputs": [],
   "source": [
    " "
   ]
  },
  {
   "cell_type": "markdown",
   "id": "3361b7e9",
   "metadata": {},
   "source": [
    "Your StreamChecker object will be instantiated and called as such:\n",
    "obj = StreamChecker(words)\n",
    "param_1 = obj.query(letter)"
   ]
  }
 ],
 "metadata": {
  "jupytext": {
   "cell_metadata_filter": "-all",
   "main_language": "python",
   "notebook_metadata_filter": "-all"
  }
 },
 "nbformat": 4,
 "nbformat_minor": 5
}
