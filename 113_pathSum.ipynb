{
 "cells": [
  {
   "cell_type": "code",
   "execution_count": null,
   "id": "e0f79506",
   "metadata": {
    "lines_to_next_cell": 1
   },
   "outputs": [],
   "source": [
    "'''\n",
    "\tGiven a binary tree and a sum, find all root-to-leaf paths where each path's sum equals the given sum.\n",
    "\n",
    "\tNote: A leaf is a node with no children.\n",
    "\n",
    "\tExample:\n",
    "\n",
    "\tGiven the below binary tree and sum = 22,\n",
    "\n",
    "\t      5\n",
    "\t     / \\\n",
    "\t    4   8\n",
    "\t   /   / \\\n",
    "\t  11  13  4\n",
    "\t /  \\    / \\\n",
    "\t7    2  5   1\n",
    "\tReturn:\n",
    "\n",
    "\t[\n",
    "\t   [5,4,11,2],\n",
    "\t   [5,8,4,5]\n",
    "\t]\n",
    "\n",
    "'''"
   ]
  },
  {
   "cell_type": "markdown",
   "id": "5db5390b",
   "metadata": {},
   "source": [
    "Definition for a binary tree node.\n",
    "class TreeNode(object):\n",
    "    def __init__(self, x):\n",
    "        self.val = x\n",
    "        self.left = None\n",
    "        self.right = None"
   ]
  },
  {
   "cell_type": "code",
   "execution_count": null,
   "id": "a128d12b",
   "metadata": {},
   "outputs": [],
   "source": [
    "class Solution(object):\n",
    "    def pathSum(self, root, sum):\n",
    "        \"\"\"\n",
    "        :type root: TreeNode\n",
    "        :type sum: int\n",
    "        :rtype: List[List[int]]\n",
    "        \"\"\"\n",
    "        \n",
    "        result = []\n",
    "\n",
    "        def dfs(root, curr_sum, sum, path, result):\n",
    "        \tif not root:\n",
    "        \t\treturn\n",
    "\n",
    "        \tcurr_sum += root.val\n",
    "        \tif curr_sum == sum and not root.left and not root.right:\n",
    "        \t\tresult.append(path + [root.val])\n",
    "        \t\treturn\n",
    "\n",
    "        \tif root.left:\n",
    "        \t\tdfs(root.left, curr_sum, sum, path + [root.val], result)\n",
    "        \tif root.right:\n",
    "        \t\tdfs(root.right, curr_sum, sum, path + [root.val], result)\n",
    "\n",
    "        dfs(root, 0, sum, [], result)\n",
    "        return result"
   ]
  }
 ],
 "metadata": {
  "jupytext": {
   "cell_metadata_filter": "-all",
   "main_language": "python",
   "notebook_metadata_filter": "-all"
  }
 },
 "nbformat": 4,
 "nbformat_minor": 5
}
