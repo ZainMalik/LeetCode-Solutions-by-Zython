{
 "cells": [
  {
   "cell_type": "code",
   "execution_count": null,
   "id": "394e37f2",
   "metadata": {
    "lines_to_next_cell": 1
   },
   "outputs": [],
   "source": [
    "'''\n",
    "Given the root of a binary tree, find the maximum value V for which there exists different nodes A and B where V = |A.val - B.val| and A is an ancestor of B.\n",
    "(A node A is an ancestor of B if either: any child of A is equal to B, or any child of A is an ancestor of B.)\n",
    "\n",
    "\n",
    "Example 1:\n",
    "\t    8\n",
    "\t  /   \\\n",
    "\t3\t   10\n",
    "  /\t  \\      \\\n",
    "1\t   6\t  14\n",
    "\t  /  \\    /\n",
    "\t4\t  7\t 13\n",
    "\n",
    "Input: [8,3,10,1,6,null,14,null,null,4,7,13]\n",
    "Output: 7\n",
    "Explanation: \n",
    "We have various ancestor-node differences, some of which are given below :\n",
    "|8 - 3| = 5\n",
    "|3 - 7| = 4\n",
    "|8 - 1| = 7\n",
    "|10 - 13| = 3\n",
    "Among all possible differences, the maximum value of 7 is obtained by |8 - 1| = 7.\n",
    " \n",
    "\n",
    "Note:\n",
    "\n",
    "The number of nodes in the tree is between 2 and 5000.\n",
    "Each node will have value between 0 and 100000.\n",
    "'''"
   ]
  },
  {
   "cell_type": "markdown",
   "id": "6e87a63f",
   "metadata": {},
   "source": [
    "Definition for a binary tree node.\n",
    "class TreeNode(object):\n",
    "    def __init__(self, x):\n",
    "        self.val = x\n",
    "        self.left = None\n",
    "        self.right = None"
   ]
  },
  {
   "cell_type": "code",
   "execution_count": null,
   "id": "7be92b5e",
   "metadata": {},
   "outputs": [],
   "source": [
    "class Solution(object):\n",
    "    \n",
    "    def maxAncestorDiff(self, root):\n",
    "        \"\"\"\n",
    "        :type root: TreeNode\n",
    "        :rtype: int\n",
    "        \"\"\"\n",
    "        \n",
    "        def utility_fun(root, res):\n",
    "            if not root:\n",
    "                return 2147483648, -2147483648, res\n",
    "            if not root.left and not root.right:\n",
    "                return root.val, root.val, res\n",
    "            left_t, lmax_t, res = utility_fun(root.left, res)\n",
    "            right_t, rmax_t, res = utility_fun(root.right, res)\n",
    "            m_val = min(left_t, right_t)\n",
    "            max_val = max(lmax_t, rmax_t)\n",
    "                \n",
    "            res = max(res, max(abs(root.val-m_val), abs(root.val-max_val)))\n",
    "            # print res\n",
    "            return min(m_val, root.val), max(max_val, root.val), res\n",
    "        \n",
    "        x, x2, res = utility_fun(root, -2147483648)\n",
    "        return abs(res)"
   ]
  }
 ],
 "metadata": {
  "jupytext": {
   "cell_metadata_filter": "-all",
   "main_language": "python",
   "notebook_metadata_filter": "-all"
  }
 },
 "nbformat": 4,
 "nbformat_minor": 5
}
