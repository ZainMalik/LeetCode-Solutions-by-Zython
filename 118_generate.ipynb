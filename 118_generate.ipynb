{
 "cells": [
  {
   "cell_type": "code",
   "execution_count": null,
   "id": "8ebd9795",
   "metadata": {},
   "outputs": [],
   "source": [
    "'''\n",
    "\tGiven a non-negative integer numRows, generate the first numRows of Pascal's triangle.\n",
    "\n",
    "\tExample:\n",
    "\n",
    "\tInput: 5\n",
    "\tOutput:\n",
    "\t[\n",
    "\t     [1],\n",
    "\t    [1,1],\n",
    "\t   [1,2,1],\n",
    "\t  [1,3,3,1],\n",
    "\t [1,4,6,4,1]\n",
    "\t]\n",
    "'''\n",
    "class Solution(object):\n",
    "    def generate(self, numRows):\n",
    "        \"\"\"\n",
    "        :type numRows: int\n",
    "        :rtype: List[List[int]]\n",
    "        \"\"\"\n",
    "        triangle = []\n",
    "\n",
    "        for row in range(numRows):\n",
    "        \tnew_row = [0 for _ in range(row+1)]\n",
    "        \tnew_row[0], new_row[-1] = 1, 1\n",
    "\n",
    "        \tfor col in range(1, len(new_row)-1):\n",
    "        \t\tnew_row[col] = triangle[row-1][col-1] + triangle[row-1][col]\n",
    "        \ttriangle.append(new_row)\n",
    "        return triangle"
   ]
  }
 ],
 "metadata": {
  "jupytext": {
   "cell_metadata_filter": "-all",
   "main_language": "python",
   "notebook_metadata_filter": "-all"
  }
 },
 "nbformat": 4,
 "nbformat_minor": 5
}
