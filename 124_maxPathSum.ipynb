{
 "cells": [
  {
   "cell_type": "code",
   "execution_count": null,
   "id": "2ebe847f",
   "metadata": {
    "lines_to_next_cell": 1
   },
   "outputs": [],
   "source": [
    "'''\n",
    "\tGiven a non-empty binary tree, find the maximum path sum.\n",
    "\n",
    "\tFor this problem, a path is defined as any sequence of nodes from some starting node to any node in the tree along the parent-child connections. The path must contain at least one node and does not need to go through the root.\n",
    "\n",
    "\tExample 1:\n",
    "\n",
    "\tInput: [1,2,3]\n",
    "\n",
    "\t       1\n",
    "\t      / \\\n",
    "\t     2   3\n",
    "\n",
    "\tOutput: 6\n",
    "\tExample 2:\n",
    "\n",
    "\tInput: [-10,9,20,null,null,15,7]\n",
    "\n",
    "\t   -10\n",
    "\t   / \\\n",
    "\t  9  20\n",
    "\t    /  \\\n",
    "\t   15   7\n",
    "\n",
    "\tOutput: 42\n",
    "'''"
   ]
  },
  {
   "cell_type": "markdown",
   "id": "1cec6622",
   "metadata": {},
   "source": [
    "Definition for a binary tree node.\n",
    "class TreeNode(object):\n",
    "    def __init__(self, x):\n",
    "        self.val = x\n",
    "        self.left = None\n",
    "        self.right = None"
   ]
  },
  {
   "cell_type": "code",
   "execution_count": null,
   "id": "c66d12f9",
   "metadata": {},
   "outputs": [],
   "source": [
    "class Solution(object):\n",
    "    def maxPathSum(self, root):\n",
    "        \"\"\"\n",
    "        :type root: TreeNode\n",
    "        :rtype: int\n",
    "        \"\"\"\n",
    "        self.result = float('-inf')\n",
    "        self.dfs(root)\n",
    "        return self.result\n",
    "\n",
    "    def dfs(self, root):\n",
    "    \tif not root:\n",
    "    \t\treturn 0\n",
    "\n",
    "    \tl = self.dfs(root.left)\n",
    "    \tr = self.dfs(root.right)\n",
    "\n",
    "    \tmax_one_end = max(max(l, r)+root.val, root.val)\n",
    "    \tmax_path = max(max_one_end, l+r+root.val)\n",
    "    \tself.result = max(self.result, max_path)\n",
    "    \treturn max_one_end"
   ]
  },
  {
   "cell_type": "code",
   "execution_count": null,
   "id": "6cc5d634",
   "metadata": {},
   "outputs": [],
   "source": []
  }
 ],
 "metadata": {
  "jupytext": {
   "cell_metadata_filter": "-all",
   "main_language": "python",
   "notebook_metadata_filter": "-all"
  }
 },
 "nbformat": 4,
 "nbformat_minor": 5
}
