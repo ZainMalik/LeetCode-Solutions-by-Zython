{
 "cells": [
  {
   "cell_type": "code",
   "execution_count": null,
   "id": "cb7b49bd",
   "metadata": {
    "lines_to_next_cell": 1
   },
   "outputs": [],
   "source": [
    "'''\n",
    "Given a positive integer K, you need find the smallest positive integer N such that N is divisible by K, and N only contains the digit 1.\n",
    "\n",
    "Return the length of N.  If there is no such N, return -1.\n",
    "\n",
    " \n",
    "\n",
    "Example 1:\n",
    "\n",
    "Input: 1\n",
    "Output: 1\n",
    "Explanation: The smallest answer is N = 1, which has length 1.\n",
    "Example 2:\n",
    "\n",
    "Input: 2\n",
    "Output: -1\n",
    "Explanation: There is no such positive integer N divisible by 2.\n",
    "Example 3:\n",
    "\n",
    "Input: 3\n",
    "Output: 3\n",
    "Explanation: The smallest answer is N = 111, which has length 3.\n",
    "'''"
   ]
  },
  {
   "cell_type": "code",
   "execution_count": null,
   "id": "2c0f5615",
   "metadata": {},
   "outputs": [],
   "source": [
    "class Solution(object):\n",
    "    def smallestRepunitDivByK(self, K):\n",
    "        \"\"\"\n",
    "        :type K: int\n",
    "        :rtype: int\n",
    "        \"\"\"\n",
    "        length, value = 0, 0\n",
    "        for no_one in range(100000):\n",
    "            value = (10*value + 1)%K\n",
    "            length += 1\n",
    "            if value == 0:\n",
    "                return length\n",
    "        return -1"
   ]
  }
 ],
 "metadata": {
  "jupytext": {
   "cell_metadata_filter": "-all",
   "main_language": "python",
   "notebook_metadata_filter": "-all"
  }
 },
 "nbformat": 4,
 "nbformat_minor": 5
}
