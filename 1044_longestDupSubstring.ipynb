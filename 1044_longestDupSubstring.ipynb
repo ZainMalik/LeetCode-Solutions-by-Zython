{
 "cells": [
  {
   "cell_type": "code",
   "execution_count": null,
   "id": "6175fd82",
   "metadata": {
    "lines_to_next_cell": 1
   },
   "outputs": [],
   "source": [
    "'''\n",
    "Given a string S, consider all duplicated substrings: (contiguous) substrings of S that occur 2 or more times.  (The occurrences may overlap.)\n",
    "\n",
    "Return any duplicated substring that has the longest possible length.  (If S does not have a duplicated substring, the answer is \"\".)\n",
    "\n",
    " \n",
    "\n",
    "Example 1:\n",
    "\n",
    "Input: \"banana\"\n",
    "Output: \"ana\"\n",
    "Example 2:\n",
    "\n",
    "Input: \"abcd\"\n",
    "Output: \"\"\n",
    " \n",
    "\n",
    "Note:\n",
    "\n",
    "2 <= S.length <= 10^5\n",
    "S consists of lowercase English letters.\n",
    "'''"
   ]
  },
  {
   "cell_type": "code",
   "execution_count": null,
   "id": "bac8e818",
   "metadata": {
    "lines_to_next_cell": 1
   },
   "outputs": [],
   "source": [
    "class Suffix(object):\n",
    "\tdef __init__(self):\n",
    "\t\tself.index = 0\n",
    "\t\tself.first_rank = -1\n",
    "\t\tself.adjacent_rank = -1\n",
    "\n",
    "\tdef __lt__(self, other):\n",
    "\t\tif self.first_rank == other.first_rank:\n",
    "\t\t\treturn self.adjacent_rank < other.adjacent_rank\n",
    "\t\treturn self.first_rank < other.first_rank"
   ]
  },
  {
   "cell_type": "code",
   "execution_count": null,
   "id": "40a27429",
   "metadata": {
    "lines_to_next_cell": 1
   },
   "outputs": [],
   "source": [
    "def create_suffix_array(s):\n",
    "\tN = len(s)\n",
    "\tsuffix_array = []\n",
    "\n",
    "\tfor index, char in enumerate(s):\n",
    "\t\tsuffix_obj = Suffix()\n",
    "\t\tsuffix_obj.index = index\n",
    "\t\tsuffix_obj.first_rank = ord(char)-ord('a')\n",
    "\t\tsuffix_obj.adjacent_rank = ord(s[index+1])-ord('a') if (index+1 < N) else -1\n",
    "\t\tsuffix_array.append(suffix_obj)\n",
    "\n",
    "\tsuffix_array.sort()\n",
    "\n",
    "\tno_char = 4\n",
    "\tindex_map = {}\n",
    "\twhile no_char < 2*N:\n",
    "\t\trank = 0\n",
    "\t\tprev_rank, suffix_array[0].first_rank = suffix_array[0].first_rank, rank\n",
    "\t\tindex_map[suffix_array[0].index] = 0\n",
    "\n",
    "\t\tfor index in range(1, N):\n",
    "\t\t\tif suffix_array[index].first_rank == prev_rank and suffix_array[index].adjacent_rank == suffix_array[index-1].adjacent_rank:\n",
    "\t\t\t\tsuffix_array[index].first_rank = rank\n",
    "\t\t\telse:\n",
    "\t\t\t\trank += 1\n",
    "\t\t\t\tprev_rank, suffix_array[index].first_rank = suffix_array[index].first_rank, rank\n",
    "\t\t\tindex_map[suffix_array[index].index] = index\n",
    "\n",
    "\t\tfor index in range(N):\n",
    "\t\t\tadjacent_index = suffix_array[index].index + (no_char/2)\n",
    "\t\t\tsuffix_array[index].adjacent_rank = suffix_array[index_map[adjacent_index]] if adjacent_index < N else -1\n",
    "\n",
    "\t\tsuffix_array.sort()\n",
    "\t\tno_char *= 2    \n",
    "\n",
    "\treturn [suffix.index for suffix in suffix_array]"
   ]
  },
  {
   "cell_type": "code",
   "execution_count": null,
   "id": "05465049",
   "metadata": {},
   "outputs": [],
   "source": [
    "def lcp_w_suffix_str(array, s):\n",
    "\tN = len(array)\n",
    "\n",
    "\tlcp_array = [0]*N\n",
    "\tinv_suffix = [0]*N\n",
    "\n",
    "\tfor index in range(N):\n",
    "\t\tinv_suffix[array[index]] = index\n",
    "\n",
    "\tmaxLen = 0\n",
    "\n",
    "\tfor index in range(N):\n",
    "\t\tif inv_suffix[index] == N-1:\n",
    "\t\t\tmaxLen = 0\n",
    "\t\t\tcontinue\n",
    "\n",
    "\t\tindex_j = array[inv_suffix[index]+1]\n",
    "\t\twhile(index+maxLen < N and index_j+maxLen < N and s[index+maxLen] == s[index_j+maxLen]):\n",
    "\t\t\tmaxLen += 1\n",
    "\n",
    "\t\tlcp_array[inv_suffix[index]] = maxLen\n",
    "\n",
    "\t\tif maxLen > 0:\n",
    "\t\t\tmaxLen -= 1\n",
    "\n",
    "\treturn lcp_array"
   ]
  },
  {
   "cell_type": "code",
   "execution_count": null,
   "id": "26c59112",
   "metadata": {},
   "outputs": [],
   "source": [
    "class Solution(object):\n",
    "    def longestDupSubstring(self, S):\n",
    "        \"\"\"\n",
    "        :type S: str\n",
    "        :rtype: str\n",
    "        \"\"\"\n",
    "        suffix_array = create_suffix_array(S)\n",
    "        lcp_array = lcp_w_suffix_str(suffix_array, S)\n",
    "        \n",
    "        start, end = 0, 0\n",
    "\t\t\n",
    "        for index in range(len(S)):\n",
    "            if lcp_array[index] > end:\n",
    "                end = lcp_array[index]\n",
    "                start = suffix_array[index]\n",
    "            \n",
    "        if end == 0:\n",
    "            return \"\"\n",
    "        # print start, end\n",
    "        return S[start:start+end]"
   ]
  }
 ],
 "metadata": {
  "jupytext": {
   "cell_metadata_filter": "-all",
   "main_language": "python",
   "notebook_metadata_filter": "-all"
  }
 },
 "nbformat": 4,
 "nbformat_minor": 5
}
