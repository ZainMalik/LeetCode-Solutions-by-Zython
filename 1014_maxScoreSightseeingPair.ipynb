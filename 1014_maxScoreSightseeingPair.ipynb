{
 "cells": [
  {
   "cell_type": "code",
   "execution_count": null,
   "id": "880bc02d",
   "metadata": {
    "lines_to_next_cell": 2
   },
   "outputs": [],
   "source": [
    "'''\n",
    "Given an array A of positive integers, A[i] represents the value of the i-th sightseeing spot, and two sightseeing spots i and j have distance j - i between them.\n",
    "\n",
    "The score of a pair (i < j) of sightseeing spots is (A[i] + A[j] + i - j) : the sum of the values of the sightseeing spots, minus the distance between them.\n",
    "\n",
    "Return the maximum score of a pair of sightseeing spots.\n",
    "\n",
    " \n",
    "\n",
    "Example 1:\n",
    "\n",
    "Input: [8,1,5,2,6]\n",
    "Output: 11\n",
    "Explanation: i = 0, j = 2, A[i] + A[j] + i - j = 8 + 5 + 0 - 2 = 11\n",
    " \n",
    "\n",
    "Note:\n",
    "\n",
    "2 <= A.length <= 50000\n",
    "1 <= A[i] <= 1000\n",
    "'''\n",
    "class Solution(object):\n",
    "    def maxScoreSightseeingPair(self, A):\n",
    "        \"\"\"\n",
    "        :type A: List[int]\n",
    "        :rtype: int\n",
    "        \"\"\"\n",
    "        prev_best, result = 0, 0\n",
    "        for index in range(0, len(A)):\n",
    "            result = max(result, A[index]-index+prev_best)\n",
    "            prev_best = max(prev_best, A[index]+index)\n",
    "        return result"
   ]
  }
 ],
 "metadata": {
  "jupytext": {
   "cell_metadata_filter": "-all",
   "main_language": "python",
   "notebook_metadata_filter": "-all"
  }
 },
 "nbformat": 4,
 "nbformat_minor": 5
}
