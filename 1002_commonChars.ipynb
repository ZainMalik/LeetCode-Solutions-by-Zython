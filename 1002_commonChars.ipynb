{
 "cells": [
  {
   "cell_type": "code",
   "execution_count": null,
   "id": "b6fcdcb7",
   "metadata": {
    "lines_to_next_cell": 1
   },
   "outputs": [],
   "source": [
    "'''\n",
    "Given an array A of strings made only from lowercase letters, return a list of all characters that show up in all strings within the list (including duplicates).  For example, if a character occurs 3 times in all strings but not 4 times, you need to include that character three times in the final answer.\n",
    "\n",
    "You may return the answer in any order.\n",
    "\n",
    " \n",
    "\n",
    "Example 1:\n",
    "\n",
    "Input: [\"bella\",\"label\",\"roller\"]\n",
    "Output: [\"e\",\"l\",\"l\"]\n",
    "Example 2:\n",
    "\n",
    "Input: [\"cool\",\"lock\",\"cook\"]\n",
    "Output: [\"c\",\"o\"]\n",
    "'''"
   ]
  },
  {
   "cell_type": "code",
   "execution_count": null,
   "id": "c3bed8b9",
   "metadata": {},
   "outputs": [],
   "source": [
    "class Solution(object):\n",
    "    def commonChars(self, A):\n",
    "        \"\"\"\n",
    "        :type A: List[str]\n",
    "        :rtype: List[str]\n",
    "        \"\"\"\n",
    "        char_map = {}\n",
    "        for char in A[0]:\n",
    "            if char in char_map:\n",
    "                char_map[char] += 1\n",
    "            else:\n",
    "                char_map[char] = 1\n",
    "    \n",
    "        int_map = {}\n",
    "        for index in range(1, len(A)):\n",
    "            for char in char_map.keys():\n",
    "                if char in A[index]:\n",
    "                    char_count = min(A[index].count(char), char_map[char])\n",
    "                    char_map[char] = char_count\n",
    "                else:\n",
    "                    del char_map[char]\n",
    "                    \n",
    "        result = []\n",
    "        for key, value in char_map.items():\n",
    "            result.extend([key]*value)\n",
    "\n",
    "        return result"
   ]
  }
 ],
 "metadata": {
  "jupytext": {
   "cell_metadata_filter": "-all",
   "main_language": "python",
   "notebook_metadata_filter": "-all"
  }
 },
 "nbformat": 4,
 "nbformat_minor": 5
}
