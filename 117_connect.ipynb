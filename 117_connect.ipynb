{
 "cells": [
  {
   "cell_type": "code",
   "execution_count": null,
   "id": "ddd96430",
   "metadata": {
    "lines_to_next_cell": 1
   },
   "outputs": [],
   "source": [
    "'''\n",
    "\tGiven a binary tree\n",
    "\n",
    "\tstruct TreeLinkNode {\n",
    "\t  TreeLinkNode *left;\n",
    "\t  TreeLinkNode *right;\n",
    "\t  TreeLinkNode *next;\n",
    "\t}\n",
    "\tPopulate each next pointer to point to its next right node. If there is no next right node, the next pointer should be set to NULL.\n",
    "\n",
    "\tInitially, all next pointers are set to NULL.\n",
    "\n",
    "\tExample:\n",
    "\n",
    "\tGiven the following binary tree,\n",
    "\n",
    "\t     1\n",
    "\t   /  \\\n",
    "\t  2    3\n",
    "\t / \\    \\\n",
    "\t4   5    7\n",
    "\tAfter calling your function, the tree should look like:\n",
    "\n",
    "\t     1 -> NULL\n",
    "\t   /  \\\n",
    "\t  2 -> 3 -> NULL\n",
    "\t / \\    \\\n",
    "\t4-> 5 -> 7 -> NULL\n",
    "'''"
   ]
  },
  {
   "cell_type": "markdown",
   "id": "2c23f173",
   "metadata": {},
   "source": [
    "Definition for binary tree with next pointer.\n",
    "class TreeLinkNode:\n",
    "    def __init__(self, x):\n",
    "        self.val = x\n",
    "        self.left = None\n",
    "        self.right = None\n",
    "        self.next = None"
   ]
  },
  {
   "cell_type": "code",
   "execution_count": null,
   "id": "1c84031e",
   "metadata": {},
   "outputs": [],
   "source": [
    "class Solution:\n",
    "    # @param root, a tree link node\n",
    "    # @return nothing\n",
    "    def connect(self, root):\n",
    "    \tif root == None:\n",
    "    \t\treturn \n",
    "    \tqueue = [root]\n",
    "    \tqueue.append(None)\n",
    "\n",
    "    \twhile queue:\n",
    "    \t\tfront = queue.pop(0)\n",
    "    \t\tif front is not None:\n",
    "    \t\t\tfront.next = queue[0]\n",
    "    \t\t\tif front.left:\n",
    "    \t\t\t\tqueue.append(front.left)\n",
    "    \t\t\tif front.right:\n",
    "    \t\t\t\tqueue.append(front.right)\n",
    "    \t\telif queue:\n",
    "    \t\t\tqueue.append(None)"
   ]
  },
  {
   "cell_type": "markdown",
   "id": "081e9259",
   "metadata": {},
   "source": [
    "Definition for binary tree with next pointer.\n",
    "class TreeLinkNode:\n",
    "    def __init__(self, x):\n",
    "        self.val = x\n",
    "        self.left = None\n",
    "        self.right = None\n",
    "        self.next = None"
   ]
  },
  {
   "cell_type": "code",
   "execution_count": null,
   "id": "a1136c1c",
   "metadata": {},
   "outputs": [],
   "source": [
    "class Solution:\n",
    "    # @param root, a tree link node\n",
    "    # @return nothing\n",
    "    def connect(self, root):\n",
    "    \tif not root:\n",
    "    \t\treturn None\n",
    "\n",
    "    \troot.next = None\n",
    "\n",
    "    \twhile root:\n",
    "    \t\ttemp = root\n",
    "    \t\twhile temp:\n",
    "    \t\t\tif temp.left:\n",
    "    \t\t\t\tif temp.right:\n",
    "    \t\t\t\t\ttemp.left.next = temp.right\n",
    "    \t\t\t\telse:\n",
    "    \t\t\t\t\ttemp.left.next = self.getNext(temp)\n",
    "    \t\t\tif temp.right:\n",
    "    \t\t\t\ttemp.right.next = self.getNext(temp)\n",
    "\n",
    "    \t\t\ttemp = temp.next\n",
    "    \t\tif root.left:\n",
    "    \t\t\troot = root.left\n",
    "    \t\telif root.right:\n",
    "    \t\t\troot = root.right\n",
    "    \t\telse:\n",
    "    \t\t\troot = self.getNext(root)\n",
    "\n",
    "    def getNext(self, node):\n",
    "    \tnode = node.next\n",
    "    \twhile node:\n",
    "    \t\tif node.left:\n",
    "    \t\t\treturn node.left\n",
    "    \t\tif node.right:\n",
    "    \t\t\treturn node.right\n",
    "    \t\tnode = node.next\n",
    "    \treturn None"
   ]
  }
 ],
 "metadata": {
  "jupytext": {
   "cell_metadata_filter": "-all",
   "main_language": "python",
   "notebook_metadata_filter": "-all"
  }
 },
 "nbformat": 4,
 "nbformat_minor": 5
}
