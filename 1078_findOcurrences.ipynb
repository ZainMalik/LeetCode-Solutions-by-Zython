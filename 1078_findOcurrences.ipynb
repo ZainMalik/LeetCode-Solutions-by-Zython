{
 "cells": [
  {
   "cell_type": "code",
   "execution_count": null,
   "id": "c1670660",
   "metadata": {
    "lines_to_next_cell": 1
   },
   "outputs": [],
   "source": [
    "'''\n",
    "Given words first and second, consider occurrences in some text of the form \"first second third\", where second comes immediately after first, and third comes immediately after second.\n",
    "\n",
    "For each such occurrence, add \"third\" to the answer, and return the answer.\n",
    "\n",
    " \n",
    "\n",
    "Example 1:\n",
    "\n",
    "Input: text = \"alice is a good girl she is a good student\", first = \"a\", second = \"good\"\n",
    "Output: [\"girl\",\"student\"]\n",
    "Example 2:\n",
    "\n",
    "Input: text = \"we will we will rock you\", first = \"we\", second = \"will\"\n",
    "Output: [\"we\",\"rock\"]\n",
    " \n",
    "\n",
    "Note:\n",
    "\n",
    "1 <= text.length <= 1000\n",
    "text consists of space separated words, where each word consists of lowercase English letters.\n",
    "1 <= first.length, second.length <= 10\n",
    "first and second consist of lowercase English letters.\n",
    "'''"
   ]
  },
  {
   "cell_type": "code",
   "execution_count": null,
   "id": "50502801",
   "metadata": {},
   "outputs": [],
   "source": [
    "class Solution(object):\n",
    "    def findOcurrences(self, text, first, second):\n",
    "        \"\"\"\n",
    "        :type text: str\n",
    "        :type first: str\n",
    "        :type second: str\n",
    "        :rtype: List[str]\n",
    "        \"\"\"\n",
    "        result = []\n",
    "        if not text:\n",
    "            return []\n",
    "        splitted_text = text.split(' ')\n",
    "        indi = 0\n",
    "        for index in range(len(splitted_text)-1):\n",
    "            if splitted_text[index] == first and splitted_text[index+1] == second:\n",
    "                index = index+2\n",
    "                if index < len(splitted_text):\n",
    "                    result.append(splitted_text[index])\n",
    "        return result"
   ]
  }
 ],
 "metadata": {
  "jupytext": {
   "cell_metadata_filter": "-all",
   "main_language": "python",
   "notebook_metadata_filter": "-all"
  }
 },
 "nbformat": 4,
 "nbformat_minor": 5
}
