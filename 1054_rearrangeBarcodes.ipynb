{
 "cells": [
  {
   "cell_type": "code",
   "execution_count": null,
   "id": "6b7111af",
   "metadata": {
    "lines_to_next_cell": 1
   },
   "outputs": [],
   "source": [
    "'''\n",
    "In a warehouse, there is a row of barcodes, where the i-th barcode is barcodes[i].\n",
    "\n",
    "Rearrange the barcodes so that no two adjacent barcodes are equal.  You may return any answer, and it is guaranteed an answer exists.\n",
    "\n",
    " \n",
    "\n",
    "Example 1:\n",
    "\n",
    "Input: [1,1,1,2,2,2]\n",
    "Output: [2,1,2,1,2,1]\n",
    "Example 2:\n",
    "\n",
    "Input: [1,1,1,1,2,2,3,3]\n",
    "Output: [1,3,1,3,2,1,2,1]\n",
    " \n",
    "\n",
    "Note:\n",
    "\n",
    "1 <= barcodes.length <= 10000\n",
    "1 <= barcodes[i] <= 10000\n",
    "'''"
   ]
  },
  {
   "cell_type": "code",
   "execution_count": null,
   "id": "df13e4a7",
   "metadata": {},
   "outputs": [],
   "source": [
    "class Solution(object):\n",
    "    def rearrangeBarcodes(self, barcodes):\n",
    "        \"\"\"\n",
    "        :type barcodes: List[int]\n",
    "        :rtype: List[int]\n",
    "        \"\"\"\n",
    "        import heapq\n",
    "        di = collections.Counter(barcodes)\n",
    "        pq = [(-value, key) for key, value in di.items()]\n",
    "        heapq.heapify(pq)\n",
    "        # print pq\n",
    "        result = []\n",
    "        while len(pq) >= 2:\n",
    "            freq1, barcode1 = heapq.heappop(pq)\n",
    "            freq2, barcode2 = heapq.heappop(pq)\n",
    "            result.extend([barcode1, barcode2])\n",
    "            \n",
    "            if freq1 + 1: \n",
    "                heapq.heappush(pq, (freq1 + 1, barcode1))\n",
    "            if freq2 + 1: \n",
    "                heapq.heappush(pq, (freq2 + 1, barcode2))\n",
    "                \n",
    "        if pq:\n",
    "            result.append(pq[0][1])\n",
    "        \n",
    "        return result"
   ]
  }
 ],
 "metadata": {
  "jupytext": {
   "cell_metadata_filter": "-all",
   "main_language": "python",
   "notebook_metadata_filter": "-all"
  }
 },
 "nbformat": 4,
 "nbformat_minor": 5
}
