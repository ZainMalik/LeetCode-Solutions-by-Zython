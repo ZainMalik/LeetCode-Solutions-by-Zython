{
 "cells": [
  {
   "cell_type": "code",
   "execution_count": null,
   "id": "25da4729",
   "metadata": {
    "lines_to_next_cell": 1
   },
   "outputs": [],
   "source": [
    "'''\n",
    "Given a binary string S (a string consisting only of '0' and '1's) and a positive integer N, return true if and only if for every integer X from 1 to N, the binary representation of X is a substring of S.\n",
    "\n",
    " \n",
    "\n",
    "Example 1:\n",
    "\n",
    "Input: S = \"0110\", N = 3\n",
    "Output: true\n",
    "Example 2:\n",
    "\n",
    "Input: S = \"0110\", N = 4\n",
    "Output: false\n",
    " \n",
    "\n",
    "Note:\n",
    "\n",
    "1 <= S.length <= 1000\n",
    "1 <= N <= 10^9\n",
    "'''"
   ]
  },
  {
   "cell_type": "code",
   "execution_count": null,
   "id": "e9854040",
   "metadata": {
    "lines_to_next_cell": 2
   },
   "outputs": [],
   "source": [
    "class Solution(object):\n",
    "    def queryString(self, S, N):\n",
    "        \"\"\"\n",
    "        :type S: str\n",
    "        :type N: int\n",
    "        :rtype: bool\n",
    "        \"\"\"\n",
    "        for num in range(1, N+1):\n",
    "            binary_str = ''\n",
    "            while (num != 0):\n",
    "                binary_str += str(num%2)\n",
    "                num /= 2\n",
    "            reversed_str = binary_str[::-1]\n",
    "            \n",
    "            if reversed_str not in S:\n",
    "                return False\n",
    "        return True"
   ]
  }
 ],
 "metadata": {
  "jupytext": {
   "cell_metadata_filter": "-all",
   "main_language": "python",
   "notebook_metadata_filter": "-all"
  }
 },
 "nbformat": 4,
 "nbformat_minor": 5
}
