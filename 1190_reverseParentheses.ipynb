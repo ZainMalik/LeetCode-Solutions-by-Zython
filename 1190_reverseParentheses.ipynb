{
 "cells": [
  {
   "cell_type": "code",
   "execution_count": null,
   "id": "041054ea",
   "metadata": {
    "lines_to_next_cell": 1
   },
   "outputs": [],
   "source": [
    "'''\n",
    "Given a string s that consists of lower case English letters and brackets. \n",
    "\n",
    "Reverse the strings in each pair of matching parentheses, starting from the innermost one.\n",
    "\n",
    "Your result should not contain any bracket.\n",
    "\n",
    " \n",
    "Example 1:\n",
    "Input: s = \"(abcd)\"\n",
    "Output: \"dcba\"\n",
    "\n",
    "Example 2:\n",
    "Input: s = \"(u(love)i)\"\n",
    "Output: \"iloveu\"\n",
    "\n",
    "Example 3:\n",
    "Input: s = \"(ed(et(oc))el)\"\n",
    "Output: \"leetcode\"\n",
    "\n",
    "Example 4:\n",
    "Input: s = \"a(bcdefghijkl(mno)p)q\"\n",
    "Output: \"apmnolkjihgfedcbq\"\n",
    " \n",
    "\n",
    "Constraints:\n",
    "\n",
    "0 <= s.length <= 2000\n",
    "s only contains lower case English characters and parentheses.\n",
    "It's guaranteed that all parentheses are balanced.\n",
    "'''"
   ]
  },
  {
   "cell_type": "code",
   "execution_count": null,
   "id": "c48c907a",
   "metadata": {},
   "outputs": [],
   "source": [
    "class Solution(object):\n",
    "    def reverseParentheses(self, s):\n",
    "        \"\"\"\n",
    "        :type s: str\n",
    "        :rtype: str\n",
    "        \"\"\"\n",
    "        if not s:\n",
    "            return ''\n",
    "        \n",
    "        stack = []\n",
    "        for char in s:\n",
    "            if char == ')':\n",
    "                combine_str = ''\n",
    "                while stack and stack[-1] != '(':\n",
    "                    elem = stack.pop()[::-1]\n",
    "                    combine_str += elem\n",
    "                stack.pop()\n",
    "                stack.append(combine_str)\n",
    "            else:\n",
    "                stack.append(char)\n",
    "        return \"\".join(stack)"
   ]
  }
 ],
 "metadata": {
  "jupytext": {
   "cell_metadata_filter": "-all",
   "main_language": "python",
   "notebook_metadata_filter": "-all"
  }
 },
 "nbformat": 4,
 "nbformat_minor": 5
}
